{
  "nbformat": 4,
  "nbformat_minor": 0,
  "metadata": {
    "colab": {
      "provenance": [],
      "authorship_tag": "ABX9TyOk2FWKZhkUxhjj2iCl4Ov0"
    },
    "kernelspec": {
      "name": "python3",
      "display_name": "Python 3"
    },
    "language_info": {
      "name": "python"
    }
  },
  "cells": [
    {
      "cell_type": "markdown",
      "source": [
        "# TEMA 11 - FUNCIONES LAMBDA"
      ],
      "metadata": {
        "id": "GjVRoR-O0-0P"
      }
    },
    {
      "cell_type": "markdown",
      "source": [
        "*Ejercicios y examen que tuve que realizar para completar con exito este tema perteneciente al curso de Python.*"
      ],
      "metadata": {
        "id": "XLNGqSt5_0Dv"
      }
    },
    {
      "cell_type": "markdown",
      "source": [
        "**NOTA:** No es necesario usar código para comprobar si los datos introducidos por el usuario son correctos. Vamos a interpretar que así es por ahora a menos que se especifique lo contrario."
      ],
      "metadata": {
        "id": "6zZzP30504cA"
      }
    },
    {
      "cell_type": "markdown",
      "source": [
        "# EJERCICIOS"
      ],
      "metadata": {
        "id": "TQwFzcrS_ZDZ"
      }
    },
    {
      "cell_type": "markdown",
      "source": [
        "**TAREA 01**"
      ],
      "metadata": {
        "id": "8blzg16J1QM-"
      }
    },
    {
      "cell_type": "markdown",
      "source": [
        "Vamos a crear una función Lambda que devuelva una tupla donde en la primera posición esté el número introducido por parámaetro; en la segunda, su doble; y, en la tercera, su cuadrado."
      ],
      "metadata": {
        "id": "nfKOSyyMfWrN"
      }
    },
    {
      "cell_type": "code",
      "source": [
        "operation = lambda x: (x, x*2, x**2)\n",
        "\n",
        "print(operation(5))"
      ],
      "metadata": {
        "id": "1Wa4imYZfcJO"
      },
      "execution_count": null,
      "outputs": []
    },
    {
      "cell_type": "markdown",
      "source": [
        "**TAREA 02**"
      ],
      "metadata": {
        "id": "Fli5eYCxfsYO"
      }
    },
    {
      "cell_type": "markdown",
      "source": [
        "Dada una lista numérica, vamos a filtrarla y quedarnos con los números positivos. El resultado lo mostraremos en una lista."
      ],
      "metadata": {
        "id": "JFByznq3fvTG"
      }
    },
    {
      "cell_type": "code",
      "source": [
        "nums = [0, 22, -4, 8, 9, -34, -1, 3, -8, 1]\n",
        "\n",
        "print(list(filter(lambda x: (x > 0), nums)))"
      ],
      "metadata": {
        "id": "EZlmclRjf0dm"
      },
      "execution_count": null,
      "outputs": []
    },
    {
      "cell_type": "markdown",
      "source": [
        "**TAREA 03**"
      ],
      "metadata": {
        "id": "8FCpBiwPf5xV"
      }
    },
    {
      "cell_type": "markdown",
      "source": [
        "Dada una lista de palabras, vamos a quedarnos con la palabra con más \"a\"."
      ],
      "metadata": {
        "id": "zkAmIU8Kf-Tl"
      }
    },
    {
      "cell_type": "code",
      "source": [
        "from functools import reduce\n",
        "\n",
        "\n",
        "def max_a(x, y):\n",
        "    if x.count('a') > y.count('a'):\n",
        "        return x\n",
        "    return y\n",
        "\n",
        "\n",
        "lista_palabras = ['salchichas', 'amapola', 'ambrosia', 'algas']\n",
        "\n",
        "print(reduce(max_a, lista_palabras))"
      ],
      "metadata": {
        "id": "XZYayrQmgBkV"
      },
      "execution_count": null,
      "outputs": []
    },
    {
      "cell_type": "markdown",
      "source": [
        "**TAREA 04**"
      ],
      "metadata": {
        "id": "kEDIc6YTgGmk"
      }
    },
    {
      "cell_type": "markdown",
      "source": [
        "Vamos a convertir una lista de grados Celsius a grados Fahrenheit. El resultado lo mostraremos como una lista."
      ],
      "metadata": {
        "id": "KjX5LUXGgKAU"
      }
    },
    {
      "cell_type": "code",
      "source": [
        "celcius = [0, 16, 32, 40, -5]\n",
        "\n",
        "print(list(map(lambda x: (x * 9 / 5) + 32, celcius)))"
      ],
      "metadata": {
        "id": "oSsIXhCZgNHE"
      },
      "execution_count": null,
      "outputs": []
    },
    {
      "cell_type": "markdown",
      "source": [
        "**TAREA 05**"
      ],
      "metadata": {
        "id": "eH9_o1DVgR4s"
      }
    },
    {
      "cell_type": "markdown",
      "source": [
        "Vamos a ordenar una lista de palabras por el número de apariciones de la letra indicada por el usuario. El orden será descendente."
      ],
      "metadata": {
        "id": "HcPT60eagU-k"
      }
    },
    {
      "cell_type": "code",
      "source": [
        "lista_palabras = ['salchichas', 'amapola', 'ambrosia', 'algas', 'yoyo', 'silla', 'pan']\n",
        "\n",
        "l = str(input('Introduce una letra: '))\n",
        "\n",
        "print(sorted(lista_palabras, key=lambda x: x.count(l), reverse=True))"
      ],
      "metadata": {
        "id": "MHXostKBgXzT"
      },
      "execution_count": null,
      "outputs": []
    },
    {
      "cell_type": "markdown",
      "source": [
        "# EXAMEN"
      ],
      "metadata": {
        "id": "RIqGaaKn_iAZ"
      }
    },
    {
      "cell_type": "markdown",
      "source": [
        "**EJERCICIO 01**"
      ],
      "metadata": {
        "id": "nwQqhSdm_s-h"
      }
    },
    {
      "cell_type": "markdown",
      "source": [
        "Crea una función lambda que dado un número entero multiplique por su anterior y su siguiente. Por ejemplo, si proporcionamos n = 3, nos tendrá que devolver 2 · 3 · 4 = 24."
      ],
      "metadata": {
        "id": "OL36MFsigrNC"
      }
    },
    {
      "cell_type": "code",
      "source": [
        "mult = lambda x: (x - 1) * x * (x + 1)\n",
        "\n",
        "print(mult(5))"
      ],
      "metadata": {
        "id": "eLHND_2TgvcK"
      },
      "execution_count": null,
      "outputs": []
    },
    {
      "cell_type": "markdown",
      "source": [
        "**EJERCICIO 02**"
      ],
      "metadata": {
        "id": "plNyY8r3gyaC"
      }
    },
    {
      "cell_type": "markdown",
      "source": [
        "Crea una función lambda que dados dos números devuelva si el primero es mayor."
      ],
      "metadata": {
        "id": "nxLzN1oEg44x"
      }
    },
    {
      "cell_type": "code",
      "source": [
        "comparativa = lambda x, y: (x > y)\n",
        "\n",
        "print('Introduce 2 números y te diremos si el primero es mayor que el segundo')\n",
        "num1 = int(input('Primer número: '))\n",
        "num2 = int(input('Segundo número: '))\n",
        "print(f'Es {num1} mayor que {num2}?')\n",
        "print(comparativa(num1, num2))"
      ],
      "metadata": {
        "id": "AmBOkMYIg3Wi"
      },
      "execution_count": null,
      "outputs": []
    },
    {
      "cell_type": "markdown",
      "source": [
        "**EJERCICIO 03**"
      ],
      "metadata": {
        "id": "qv7GYJyxhD6Z"
      }
    },
    {
      "cell_type": "markdown",
      "source": [
        "Dada una lista de palabras, quédate con `filter()` con las que tengan más vocales que consonantes. Necesitarás una función que devuelva si una palabra tiene más vocales que consonantes."
      ],
      "metadata": {
        "id": "--NK4-tJhHPQ"
      }
    },
    {
      "cell_type": "code",
      "source": [
        "def vocal_vs_conso(palabra):\n",
        "    \"\"\"\n",
        "    Devuelve la palabra introducida si esta tiene más vocales que consonantes.\n",
        "    :param palabra: La palabra introducida.\n",
        "    :return: Si la palabra tiene más vocales la devuelve, al contrario no devuelve nada.\n",
        "    \"\"\"\n",
        "    count = 0\n",
        "    for letra in palabra:\n",
        "        if letra == 'a' or letra == 'e' or letra == 'i' or letra == 'o' or letra == 'u':\n",
        "            count += 1\n",
        "        else:\n",
        "            continue\n",
        "\n",
        "    final = len(palabra) - count\n",
        "\n",
        "    if final < (len(palabra) / 2):\n",
        "\n",
        "        return palabra\n",
        "\n",
        "\n",
        "lista_palabras = ['america', 'amapola', 'ambrosia', 'algas', 'aleluya', 'enchufe', 'lila']\n",
        "print(list(filter(vocal_vs_conso, lista_palabras)))"
      ],
      "metadata": {
        "id": "A7HZ7vS7hSUI"
      },
      "execution_count": null,
      "outputs": []
    },
    {
      "cell_type": "markdown",
      "source": [
        "**EJERCICIO 04**"
      ],
      "metadata": {
        "id": "60l5-j02hYYg"
      }
    },
    {
      "cell_type": "markdown",
      "source": [
        "Dada una lista de números enteros, quédate con `filter()` con los que tengan más de 5 divisores. Necesitarás una función que devuelva el número de divisores de un número dado."
      ],
      "metadata": {
        "id": "X8F8PlkyhbgI"
      }
    },
    {
      "cell_type": "code",
      "source": [
        "def divisores(num):\n",
        "    \"\"\"\n",
        "    Busca todos los divisores de un número entero introducido, y si tiene 5 o más la devuelve.\n",
        "    :param num: Número entero solicitado.\n",
        "    :return: Devuelve el número si este tiene 5 o más divisores.\n",
        "    \"\"\"\n",
        "    count = 0\n",
        "\n",
        "    for i in range(1, num + 1):\n",
        "\n",
        "        if num % i == 0:\n",
        "            count += 1\n",
        "\n",
        "        else:\n",
        "            continue\n",
        "\n",
        "    if count >= 5:\n",
        "\n",
        "        return num\n",
        "\n",
        "\n",
        "lista_numeros = [0, 88, 2345, 343, 22, 98, 50, 1000, 912, 19, 7]\n",
        "print(list(filter(divisores, lista_numeros)))"
      ],
      "metadata": {
        "id": "EsIrFS4chiWf"
      },
      "execution_count": null,
      "outputs": []
    },
    {
      "cell_type": "markdown",
      "source": [
        "**EJERCICIO 05**"
      ],
      "metadata": {
        "id": "f2PBAzNQhkxX"
      }
    },
    {
      "cell_type": "markdown",
      "source": [
        "Dada una lista de palabras, quédate con `reduce()` con la palabra más larga. Necesitarás una función que compare dos palabras y devuelva la que tenga mayor longitud."
      ],
      "metadata": {
        "id": "y-ng7TEjhn3_"
      }
    },
    {
      "cell_type": "code",
      "source": [
        "from functools import reduce\n",
        "\n",
        "\n",
        "def more_long(palara1, palabra2):\n",
        "\n",
        "    if len(palara1) > len(palabra2):\n",
        "        return palara1\n",
        "    else:\n",
        "        return palabra2\n",
        "\n",
        "\n",
        "lista_palabras = ['america', 'amapola', 'ambrosia', 'algas', 'aleluya', 'enchufe', 'lila', 'gryffindor']\n",
        "print(reduce(more_long, lista_palabras))"
      ],
      "metadata": {
        "id": "Fzn5ygQ9htVe"
      },
      "execution_count": null,
      "outputs": []
    },
    {
      "cell_type": "markdown",
      "source": [
        "**EJERCICIO 06**"
      ],
      "metadata": {
        "id": "NO0iJ3kFhw1u"
      }
    },
    {
      "cell_type": "markdown",
      "source": [
        "Dada una lista de palabras, calcula el número de vocales de cada una con `map()`"
      ],
      "metadata": {
        "id": "MfCca_15hzxW"
      }
    },
    {
      "cell_type": "code",
      "source": [
        "l_p = ['america', 'amapola', 'ambrosia', 'algas', 'aleluya', 'enchufe', 'lila', 'gryffindor']\n",
        "\n",
        "print(list(map(lambda p: p.count('a') + p.count('e') + p.count('i') + p.count('o') + p.count('u'), l_p)))"
      ],
      "metadata": {
        "id": "oxTThq3vh4Wd"
      },
      "execution_count": null,
      "outputs": []
    },
    {
      "cell_type": "markdown",
      "source": [
        "**EJERCICIO 07**"
      ],
      "metadata": {
        "id": "F3dfTFWCh-9k"
      }
    },
    {
      "cell_type": "markdown",
      "source": [
        "Dada una lista de palabras, quédate con `reduce()` y `map()` con la palabra con más consonantes. Necesitarás una función que cuente el número de consonantes de una palabra y otra que dados dos números, devuelva el mayor."
      ],
      "metadata": {
        "id": "YnR8L2criByE"
      }
    },
    {
      "cell_type": "code",
      "source": [
        "from functools import reduce\n",
        "\n",
        "\n",
        "def count_conso(palabra):\n",
        "    \"\"\"\n",
        "    Cuenta el número de consonantes de una palabra.\n",
        "    :param palabra: La palabra introducida.\n",
        "    :return: El número de consonantes de la palabra.\n",
        "    \"\"\"\n",
        "    count = 0\n",
        "    for letra in palabra:\n",
        "        if letra == 'a' or letra == 'e' or letra == 'i' or letra == 'o' or letra == 'u':\n",
        "            continue\n",
        "        else:\n",
        "            count += 1\n",
        "\n",
        "    return count\n",
        "\n",
        "\n",
        "def num_max(num1, num2):\n",
        "    \"\"\"\n",
        "    Calcula cual es el mayor número entre dos números.\n",
        "    :param num1: Primer número.\n",
        "    :param num2: Segundo número.\n",
        "    :return: El número más alto.\n",
        "    \"\"\"\n",
        "    if num1 > num2:\n",
        "        return num1\n",
        "\n",
        "    else:\n",
        "        return num2\n",
        "\n",
        "\n",
        "lista_palabras = ['america', 'amapola', 'ambrosia', 'algas', 'aleluya', 'enchufe', 'lila', 'gryffindor']\n",
        "\n",
        "print(lista_palabras)\n",
        "conso = list(map(count_conso, lista_palabras))\n",
        "print(conso)\n",
        "print(reduce(num_max, conso))"
      ],
      "metadata": {
        "id": "mn-nrU2MiH2l"
      },
      "execution_count": null,
      "outputs": []
    },
    {
      "cell_type": "markdown",
      "source": [
        "**EJERCICIO 08**"
      ],
      "metadata": {
        "id": "wOK7YX9siNGE"
      }
    },
    {
      "cell_type": "markdown",
      "source": [
        "Dada una lista de números enteros, calcula el número anterior con `map()`"
      ],
      "metadata": {
        "id": "bixN7nFDiQm8"
      }
    },
    {
      "cell_type": "code",
      "source": [
        "lista_numeros = [0, 88, 2345, 343, 22, 98, 50, 1000, 912, 19, 7]\n",
        "\n",
        "print(list(map(lambda n: n - 1, lista_numeros)))"
      ],
      "metadata": {
        "id": "Tk5w03wJiTrE"
      },
      "execution_count": null,
      "outputs": []
    },
    {
      "cell_type": "markdown",
      "source": [
        "**EJERCICIO 09**"
      ],
      "metadata": {
        "id": "BXECmIzKiZ0M"
      }
    },
    {
      "cell_type": "markdown",
      "source": [
        "Dada una lista de números reales, ordénalos con `sorted()` por valor absoluto de menor a mayor."
      ],
      "metadata": {
        "id": "7CXHKxhticmr"
      }
    },
    {
      "cell_type": "code",
      "source": [
        "def valor_absoluto(num):\n",
        "    \"\"\"\n",
        "    Calculamos el valor absoluto de un número.\n",
        "    :param num: Número a calcular.\n",
        "    :return: Valor absoluto de número\n",
        "    \"\"\"\n",
        "    if num >= 0:\n",
        "        return num\n",
        "    else:\n",
        "        return num * -1\n",
        "\n",
        "\n",
        "lista_numeros = [0, -8, 45, -3, 22, 18, -6, 100, 91, -19, 7]\n",
        "\n",
        "print(sorted(lista_numeros, key=valor_absoluto))"
      ],
      "metadata": {
        "id": "UWfnt1XpihGD"
      },
      "execution_count": null,
      "outputs": []
    },
    {
      "cell_type": "markdown",
      "source": [
        "**EJERCICIO 10**"
      ],
      "metadata": {
        "id": "rsBHB7tmilK7"
      }
    },
    {
      "cell_type": "markdown",
      "source": [
        "Dada una lista de palabras, ordénalos con `sorted()` por número de consonates de mayor a menor."
      ],
      "metadata": {
        "id": "AhhqHVUYioPq"
      }
    },
    {
      "cell_type": "code",
      "source": [
        "def count_conso(palabra):\n",
        "    \"\"\"\n",
        "    Cuenta el número de consonantes de una palabra.\n",
        "    :param palabra: La palabra introducida.\n",
        "    :return: El número de consonantes de la palabra.\n",
        "    \"\"\"\n",
        "    count = 0\n",
        "    for letra in palabra:\n",
        "        if letra == 'a' or letra == 'e' or letra == 'i' or letra == 'o' or letra == 'u':\n",
        "            continue\n",
        "        else:\n",
        "            count += 1\n",
        "\n",
        "    return count\n",
        "\n",
        "\n",
        "lista_palabras = ['america', 'amapola', 'ambrosia', 'algas', 'aleluya', 'enchufe', 'lila', 'gryffindor']\n",
        "\n",
        "print(sorted(lista_palabras, key=count_conso, reverse=True))"
      ],
      "metadata": {
        "id": "wzfOEB4iiv4C"
      },
      "execution_count": null,
      "outputs": []
    }
  ]
}