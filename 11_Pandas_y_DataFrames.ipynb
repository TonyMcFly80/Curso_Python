{
  "nbformat": 4,
  "nbformat_minor": 0,
  "metadata": {
    "colab": {
      "provenance": [],
      "authorship_tag": "ABX9TyOxxrHEHXZ9jTmrcYmrDxSJ"
    },
    "kernelspec": {
      "name": "python3",
      "display_name": "Python 3"
    },
    "language_info": {
      "name": "python"
    }
  },
  "cells": [
    {
      "cell_type": "markdown",
      "source": [
        "# TEMA 11 - PANDAS Y DATAFRAMES"
      ],
      "metadata": {
        "id": "GjVRoR-O0-0P"
      }
    },
    {
      "cell_type": "markdown",
      "source": [
        "*Ejercicios y examen que tuve que realizar para completar con exito este tema perteneciente al curso de Python.*"
      ],
      "metadata": {
        "id": "XLNGqSt5_0Dv"
      }
    },
    {
      "cell_type": "markdown",
      "source": [
        "**NOTA:** No es necesario usar código para comprobar si los datos introducidos por el usuario son correctos. Vamos a interpretar que así es por ahora a menos que se especifique lo contrario."
      ],
      "metadata": {
        "id": "6zZzP30504cA"
      }
    },
    {
      "cell_type": "markdown",
      "source": [
        "# EJERCICIOS"
      ],
      "metadata": {
        "id": "TQwFzcrS_ZDZ"
      }
    },
    {
      "cell_type": "markdown",
      "source": [
        "**TAREA 01**"
      ],
      "metadata": {
        "id": "8blzg16J1QM-"
      }
    },
    {
      "cell_type": "markdown",
      "source": [
        "Vamos a crear un dataframe de 10 filas y 5 columnas.\n",
        "- La primera columna será word y contendrá 10 apalabras.\n",
        "- La segunda columna será length y contendrá la longitud de cada palabra.\n",
        "- La tercera columna será start y contendrá la primera letra de cada palabra.\n",
        "- La cuarta columna será end y contendrá la última letra de cada palabra.\n",
        "- La quinta columna será isPalindrome y contendrá valores booleanos indicando si cada palabra es palindromo o no.\n",
        "- A continuación, vamos a transformar la columna word en los nombres de las filas utilizando el método .set_index().\n",
        "- Finalmente calcularemos las dimensones de nuestro dataframe."
      ],
      "metadata": {
        "id": "yVE8ls1LIcCx"
      }
    },
    {
      "cell_type": "code",
      "source": [
        "import pandas as pd\n",
        "\n",
        "words = ['leña', 'fuego', 'campo', 'hierba', 'ala', 'insectos', 'aire', 'animales', 'mesa', 'cuchara']\n",
        "\n",
        "data = {'word': words,\n",
        "        'length': map(len, words),\n",
        "        'start': map(lambda palabra: palabra[0], words),\n",
        "        'end': map(lambda palabra: palabra[-1], words),\n",
        "        'isPalindrome': map(lambda palabra: palabra == palabra[::-1], words)\n",
        "        }\n",
        "\n",
        "df = pd.DataFrame(data=data)\n",
        "\n",
        "df_mod = df.set_index('word')\n",
        "\n",
        "df_mod.index.names = [None]\n",
        "\n",
        "print(df_mod)\n",
        "print(df_mod.shape)"
      ],
      "metadata": {
        "id": "PKxVx6ohItb1"
      },
      "execution_count": null,
      "outputs": []
    },
    {
      "cell_type": "markdown",
      "source": [
        "**TAREA 02**"
      ],
      "metadata": {
        "id": "E6uqp9aXI9JR"
      }
    },
    {
      "cell_type": "markdown",
      "source": [
        "Del dataframe df_mod creado en el ejercicio anterior, vamos a mostrar cada columna por separado con un bucle for. Finalmente, vamos a quedarnos con las 3 últimas columnas, y ese nuevo subdataframe lo guardaremos en una variable words2, para no modificar el dataframe original."
      ],
      "metadata": {
        "id": "Hr--JAYPI9JR"
      }
    },
    {
      "cell_type": "code",
      "source": [
        "import pandas as pd\n",
        "\n",
        "words = ['leña', 'fuego', 'campo', 'hierba', 'ala', 'insectos', 'aire', 'animales', 'mesa', 'cuchara']\n",
        "\n",
        "data = {'word': words,\n",
        "        'length': map(len, words),\n",
        "        'start': map(lambda palabra: palabra[0], words),\n",
        "        'end': map(lambda palabra: palabra[-1], words),\n",
        "        'isPalindrome': map(lambda palabra: palabra == palabra[::-1], words)\n",
        "        }\n",
        "\n",
        "df = pd.DataFrame(data=data)\n",
        "\n",
        "df_mod = df.set_index('word')\n",
        "\n",
        "df_mod.index.names = [None]\n",
        "\n",
        "count = 0\n",
        "\n",
        "# For para mostrar cada columna por separado:\n",
        "\n",
        "for j in df_mod:\n",
        "    print(f'\\n=== {j.upper()} ===')\n",
        "    print(df_mod[df_mod.columns[count]])\n",
        "    count += 1\n",
        "\n",
        "# Nueva variable que muestra las 3 íltimas columnas:\n",
        "\n",
        "words2 = df_mod[df_mod.columns[1:]]\n",
        "print('\\n=== NUEVA LISTA ===')\n",
        "print(words2)"
      ],
      "metadata": {
        "id": "W15u2XI9JJnb"
      },
      "execution_count": null,
      "outputs": []
    },
    {
      "cell_type": "markdown",
      "source": [
        "**TAREA 03**"
      ],
      "metadata": {
        "id": "0_nnK4FlJWrJ"
      }
    },
    {
      "cell_type": "markdown",
      "source": [
        "Del dataframe df_mod, vamos a mostrar las 5 primeras filas, las 5 últimas filas y después, vamos a guardar una copia en la variable df_mod_copy. Finalmente, vamos a modificar los nombres de las columnas de df_mod_copy a 'Longitud', 'Principio', 'Fin' y 'Palíndromo'.\n"
      ],
      "metadata": {
        "id": "EdQQGbqeJaKs"
      }
    },
    {
      "cell_type": "code",
      "source": [
        "import pandas as pd\n",
        "\n",
        "words = ['leña', 'fuego', 'campo', 'hierba', 'ala', 'insectos', 'aire', 'animales', 'mesa', 'cuchara']\n",
        "\n",
        "data = {'word': words,\n",
        "        'length': map(len, words),\n",
        "        'start': map(lambda palabra: palabra[0], words),\n",
        "        'end': map(lambda palabra: palabra[-1], words),\n",
        "        'isPalindrome': map(lambda palabra: palabra == palabra[::-1], words)\n",
        "        }\n",
        "\n",
        "df = pd.DataFrame(data=data)\n",
        "\n",
        "df_mod = df.set_index('word')\n",
        "\n",
        "df_mod.index.names = [None]\n",
        "\n",
        "# Mostramos la 5 primeras filas\n",
        "print('/// LAS 5 PRIMERAS FILAS DEL DATAFRAME ///\\n')\n",
        "print(df_mod.head(5))\n",
        "\n",
        "# Mostramos las 5 últimas filas\n",
        "print('\\n/// LAS 5 ÚLTIMAS FILAS DEL DATAFRAME ///\\n')\n",
        "print(df_mod.tail(5))\n",
        "\n",
        "# Hacemos una copia\n",
        "df_mod_copy = df_mod.copy()\n",
        "\n",
        "# Modificamos los nombres de las columnas\n",
        "df_mod_copy.rename(columns={'length': 'Longitud',\n",
        "                            'start': 'Principio',\n",
        "                            'end': 'Fin',\n",
        "                            'isPalindrome': 'Palíndromo'}, inplace=True)\n",
        "\n",
        "print('\\n/// COPIA DE DATAFRAME CON COLUMNAS MODIFICADAS ///\\n')\n",
        "print(df_mod_copy)"
      ],
      "metadata": {
        "id": "HFzD6MANJmYJ"
      },
      "execution_count": null,
      "outputs": []
    },
    {
      "cell_type": "markdown",
      "source": [
        "**TAREA 04**"
      ],
      "metadata": {
        "id": "yNcH_O_WJtpL"
      }
    },
    {
      "cell_type": "markdown",
      "source": [
        "Vamos a mostrar las filas del dataframe df_mod con el siguiente formato: \"La palabra {identificadorFila} {si/no} es un palíndromo de {longitud} letras\"."
      ],
      "metadata": {
        "id": "F6IDrw2nJ7_y"
      }
    },
    {
      "cell_type": "code",
      "source": [
        "import pandas as pd\n",
        "\n",
        "words = ['leña', 'fuego', 'ama', 'hierba', 'ala', 'insectos', 'aire', 'animales', 'tenet', 'cuchara']\n",
        "\n",
        "data = {'word': words,\n",
        "        'length': map(len, words),\n",
        "        'start': map(lambda palabra: palabra[0], words),\n",
        "        'end': map(lambda palabra: palabra[-1], words),\n",
        "        'isPalindrome': map(lambda palabra: palabra == palabra[::-1], words)\n",
        "        }\n",
        "\n",
        "df = pd.DataFrame(data=data)\n",
        "\n",
        "df_mod = df.set_index('word')\n",
        "\n",
        "df_mod.index.names = [None]\n",
        "\n",
        "for i in df_mod.itertuples():\n",
        "    if i[4] is True:\n",
        "        print(f'La palabra \\\"{i[0]}\\\", es un palíndromo de \\\"{i[1]}\\\" letras.')\n",
        "    else:\n",
        "        print(f'La palabra \\\"{i[0]}\\\", no es un palíndromo de \\\"{i[1]}\\\" letras.')"
      ],
      "metadata": {
        "id": "SmUm4QBPKC_g"
      },
      "execution_count": null,
      "outputs": []
    },
    {
      "cell_type": "markdown",
      "source": [
        "**TAREA 05**"
      ],
      "metadata": {
        "id": "59RqoYrLKJ8C"
      }
    },
    {
      "cell_type": "markdown",
      "source": [
        "Del dataframe df_mod vamos a transformar la columna start a dataframe para iterar sobre sus filas. A continuación vamos a transformar la columna length en lista para eliminar una de sus entradas con el método `.remove()`"
      ],
      "metadata": {
        "id": "dntpYkuTKNxx"
      }
    },
    {
      "cell_type": "code",
      "source": [
        "import pandas as pd\n",
        "\n",
        "words = ['leña', 'fuego', 'ama', 'hierba', 'ala', 'insectos', 'aire', 'animales', 'tenet', 'cuchara']\n",
        "\n",
        "data = {'word': words,\n",
        "        'length': map(len, words),\n",
        "        'start': map(lambda palabra: palabra[0], words),\n",
        "        'end': map(lambda palabra: palabra[-1], words),\n",
        "        'isPalindrome': map(lambda palabra: palabra == palabra[::-1], words)\n",
        "        }\n",
        "\n",
        "df = pd.DataFrame(data=data)\n",
        "\n",
        "df_mod = df.set_index('word')\n",
        "\n",
        "df_mod.index.names = [None]\n",
        "\n",
        "# Transformamos la columna star en dataframe e iteramos\n",
        "\n",
        "df_start = df_mod.copy()\n",
        "df_start = df_start['start'].to_frame()\n",
        "\n",
        "for i in df_start.itertuples():\n",
        "    print(f'La palabra {i[0]} comienza por {i[1]}')\n",
        "\n",
        "# Transformamos la columna length en lista para eliminar una de sus entradas con el método .remove()\n",
        "\n",
        "df_length = df_mod.copy()\n",
        "df_length = df_length['length'].tolist()\n",
        "df_length.remove(6)\n",
        "print(df_length)"
      ],
      "metadata": {
        "id": "ZTbLCSysKYmo"
      },
      "execution_count": null,
      "outputs": []
    },
    {
      "cell_type": "markdown",
      "source": [
        "# EXAMEN"
      ],
      "metadata": {
        "id": "RIqGaaKn_iAZ"
      }
    },
    {
      "cell_type": "markdown",
      "source": [
        "**EJERCICIO 01**"
      ],
      "metadata": {
        "id": "nwQqhSdm_s-h"
      }
    },
    {
      "cell_type": "markdown",
      "source": [
        "Crea un dataframe con 15 filas y 2 columnas. La primera columna se llamará x, la segunda y. Cada entrada será un número real a tu elección. Guarda el dataframe en una variable llamada points."
      ],
      "metadata": {
        "id": "Ld7avwyAKmjo"
      }
    },
    {
      "cell_type": "code",
      "source": [
        "import pandas as pd\n",
        "\n",
        "data = {'x': [2, -4, 6, -8, 10, 12, 14, -16, 18, -20, 22, 24, 26, 28, -30],\n",
        "        'y': [1, 3, -5, 7, 9, -11, 13, 15, -17, 19, 21, -23, 25, 27, 29]}\n",
        "\n",
        "points = pd.DataFrame(data=data)\n",
        "\n",
        "print(points)\n"
      ],
      "metadata": {
        "id": "RJadYVG7Krim"
      },
      "execution_count": null,
      "outputs": []
    },
    {
      "cell_type": "markdown",
      "source": [
        "**EJERCICIO 02**"
      ],
      "metadata": {
        "id": "ECTtAZZWKxE3"
      }
    },
    {
      "cell_type": "markdown",
      "source": [
        "Del dataset points, muestra las filas cuyo valor en la columna x sea positivo."
      ],
      "metadata": {
        "id": "iWr0V07IK0PP"
      }
    },
    {
      "cell_type": "code",
      "source": [
        "import pandas as pd\n",
        "\n",
        "data = {'x': [2, -4, 6, -8, 10, 12, 14, -16, 18, -20, 22, 24, 26, 28, -30],\n",
        "        'y': [1, 3, -5, 7, 9, -11, 13, 15, -17, 19, 21, -23, 25, 27, 29]}\n",
        "\n",
        "points = pd.DataFrame(data=data)\n",
        "\n",
        "print(points[points['x'] > 0])"
      ],
      "metadata": {
        "id": "cUxEk_SyK4a_"
      },
      "execution_count": null,
      "outputs": []
    },
    {
      "cell_type": "markdown",
      "source": [
        "**EJERCICIO 03**"
      ],
      "metadata": {
        "id": "YHSOXZssK9tO"
      }
    },
    {
      "cell_type": "markdown",
      "source": [
        "Del dataset points, muestra las filas cuyo valor en la columna y sea negativo. Usa el método `.query()`"
      ],
      "metadata": {
        "id": "77DlYvL_LAzm"
      }
    },
    {
      "cell_type": "code",
      "source": [
        "import pandas as pd\n",
        "\n",
        "data = {'x': [2, -4, 6, -8, 10, 12, 14, -16, 18, -20, 22, 24, 26, 28, -30],\n",
        "        'y': [1, 3, -5, 7, 9, -11, 13, 15, -17, 19, 21, -23, 25, 27, 29]}\n",
        "\n",
        "points = pd.DataFrame(data=data)\n",
        "\n",
        "print(points.query('y < 0'))"
      ],
      "metadata": {
        "id": "jf6vsdqLLJNl"
      },
      "execution_count": null,
      "outputs": []
    },
    {
      "cell_type": "markdown",
      "source": [
        "**EJERCICIO 04**"
      ],
      "metadata": {
        "id": "cDFNdnTELO31"
      }
    },
    {
      "cell_type": "markdown",
      "source": [
        "Del dataset points, muestra las observaciones cuyos puntos (x, y) pertenezcan al primer cuadrante. Usa el método `.query()`"
      ],
      "metadata": {
        "id": "rDXvDVuALTwN"
      }
    },
    {
      "cell_type": "code",
      "source": [
        "import pandas as pd\n",
        "\n",
        "data = {'x': [2, -4, 6, -8, 10, 12, 14, -16, 18, -20, 22, 24, 26, 28, -30],\n",
        "        'y': [1, 3, -5, 7, 9, -11, 13, 15, -17, 19, 21, -23, 25, 27, 29]}\n",
        "\n",
        "points = pd.DataFrame(data=data)\n",
        "\n",
        "print(points.query('x > 0 and y > 0'))"
      ],
      "metadata": {
        "id": "dUyYVHcYLbKN"
      },
      "execution_count": null,
      "outputs": []
    },
    {
      "cell_type": "markdown",
      "source": [
        "**EJERCICIO 05**"
      ],
      "metadata": {
        "id": "zZ6VgetYLgf0"
      }
    },
    {
      "cell_type": "markdown",
      "source": [
        "Del dataset points, muestra las observaciones de la forma: “El punto ({x}, {y}) {no/sí} pertenece al primer cuadrante”."
      ],
      "metadata": {
        "id": "Utr2-2xGLl5T"
      }
    },
    {
      "cell_type": "code",
      "source": [
        "import pandas as pd\n",
        "\n",
        "data = {'x': [2, -4, 6, -8, 10, 12, 14, -16, 18, -20, 22, 24, 26, 28, -30],\n",
        "        'y': [1, 3, -5, 7, 9, -11, 13, 15, -17, 19, 21, -23, 25, 27, 29]}\n",
        "\n",
        "points = pd.DataFrame(data=data)\n",
        "\n",
        "for i in points.itertuples():\n",
        "    if i[0] >= 0 and i[1] >= 0:\n",
        "        c = 'si'\n",
        "        print(f'El punto ({i[0]}, {i[1]}) {c} pertecene al primer cuadrante')\n",
        "    else:\n",
        "        c = 'no'\n",
        "        print(f'El punto ({i[0]}, {i[1]}) {c} pertecene al primer cuadrante')"
      ],
      "metadata": {
        "id": "mv1aU6V0LkR8"
      },
      "execution_count": null,
      "outputs": []
    },
    {
      "cell_type": "markdown",
      "source": [
        "**EJERCICIO 06**"
      ],
      "metadata": {
        "id": "ojIaRMrpLvZr"
      }
    },
    {
      "cell_type": "markdown",
      "source": [
        "Crea un dataframe con 10 filas y 4 columnas. \n",
        "- La primera columna se llamará word; la segunda, length; la tercera, vowels; y la última, consonants. \n",
        "- La columna words contendrá las siguientes 10 palabras: “euro”, “diez” “algas”, “broma”, “cicuta”, “fatiga”, “nachos”, “jadeos”, “hazañas”, “boutique”. \n",
        "- Las columnas length, vowels y consonants contendrán, respectivamente, la longitud, el total de vocales y el total de consonantes. Guarda el dataframe en la variable words."
      ],
      "metadata": {
        "id": "FcTGDTEjLy6q"
      }
    },
    {
      "cell_type": "code",
      "source": [
        "import pandas as pd\n",
        "\n",
        "\n",
        "def vocal(palabra):\n",
        "        \"\"\"\n",
        "        Cuenta las vocales de una palabra.\n",
        "        :param palabra: La palabra a contar.\n",
        "        :return: Número entero de vocales.\n",
        "        \"\"\"\n",
        "        vocales = 'aeiou'\n",
        "        c_vocales = 0\n",
        "        for letra in palabra:\n",
        "                if letra.lower() in vocales:\n",
        "                        c_vocales += 1\n",
        "                else:\n",
        "                        continue\n",
        "        return c_vocales\n",
        "\n",
        "\n",
        "def conso(palabra):\n",
        "        \"\"\"\n",
        "        Cuenta las consonantes de una palabra.\n",
        "        :param palabra: La palabra a contar.\n",
        "        :return: Número entero de consonantes.\n",
        "        \"\"\"\n",
        "        consonantes = 'bcdfghjklmnñpqrstvwxyz'\n",
        "        c_conso = 0\n",
        "        for letra in palabra:\n",
        "                if letra.lower() in consonantes:\n",
        "                        c_conso += 1\n",
        "                else:\n",
        "                        continue\n",
        "        return c_conso\n",
        "\n",
        "\n",
        "palabras = ['euro', 'diez', 'algas', 'broma', 'cicuta', 'fatiga', 'nachos', 'jadeos', 'hazañas', 'boutique']\n",
        "\n",
        "data = {'word': palabras,\n",
        "        'length': map(len, palabras),\n",
        "        'vowels': map(lambda palabra: vocal(palabra), palabras),\n",
        "        'consonants': map(lambda palabra: conso(palabra), palabras)}\n",
        "\n",
        "words = pd.DataFrame(data=data)\n",
        "\n",
        "print(words)"
      ],
      "metadata": {
        "id": "Dlm4zyIXMDen"
      },
      "execution_count": null,
      "outputs": []
    },
    {
      "cell_type": "markdown",
      "source": [
        "**EJERCICIO 07**"
      ],
      "metadata": {
        "id": "tHYZpBoLMJuh"
      }
    },
    {
      "cell_type": "markdown",
      "source": [
        "Muestra las 10 observaciones de words con el formato “La palabra {word} tiene {length} letras, de las cuales {vowels} son vocales y {consonants} consonantes”."
      ],
      "metadata": {
        "id": "OKi6LFAAMM8p"
      }
    },
    {
      "cell_type": "code",
      "source": [
        "import pandas as pd\n",
        "\n",
        "\n",
        "def vocal(palabra):\n",
        "        \"\"\"\n",
        "        Cuenta las vocales de una palabra.\n",
        "        :param palabra: La palabra a contar.\n",
        "        :return: Número entero de vocales.\n",
        "        \"\"\"\n",
        "        vocales = 'aeiou'\n",
        "        c_vocales = 0\n",
        "        for letra in palabra:\n",
        "                if letra.lower() in vocales:\n",
        "                        c_vocales += 1\n",
        "                else:\n",
        "                        continue\n",
        "        return c_vocales\n",
        "\n",
        "\n",
        "def conso(palabra):\n",
        "        \"\"\"\n",
        "        Cuenta las consonantes de una palabra.\n",
        "        :param palabra: La palabra a contar.\n",
        "        :return: Número entero de consonantes.\n",
        "        \"\"\"\n",
        "        consonantes = 'bcdfghjklmnñpqrstvwxyz'\n",
        "        c_conso = 0\n",
        "        for letra in palabra:\n",
        "                if letra.lower() in consonantes:\n",
        "                        c_conso += 1\n",
        "                else:\n",
        "                        continue\n",
        "        return c_conso\n",
        "\n",
        "\n",
        "palabras = ['euro', 'diez', 'algas', 'broma', 'cicuta', 'fatiga', 'nachos', 'jadeos', 'hazañas', 'boutique']\n",
        "\n",
        "data = {'word': palabras,\n",
        "        'length': map(len, palabras),\n",
        "        'vowels': map(lambda palabra: vocal(palabra), palabras),\n",
        "        'consonants': map(lambda palabra: conso(palabra), palabras)}\n",
        "\n",
        "words = pd.DataFrame(data=data)\n",
        "\n",
        "for i in words.itertuples():\n",
        "        print(f'La palabra {i[1]} tiene {i[2]} letras, de las cuales {i[3]} son vocales y {i[4]} son consonantes')"
      ],
      "metadata": {
        "id": "icelDeVnMRZB"
      },
      "execution_count": null,
      "outputs": []
    },
    {
      "cell_type": "markdown",
      "source": [
        "**EJERCICIO 08**"
      ],
      "metadata": {
        "id": "PuqRb4S8MXFp"
      }
    },
    {
      "cell_type": "markdown",
      "source": [
        "Muestra aquellas observaciones de words que tienen el mismo número de vocales y consonantes. Usa el método `.query()`"
      ],
      "metadata": {
        "id": "SO6iCTpoMaeY"
      }
    },
    {
      "cell_type": "code",
      "source": [
        "import pandas as pd\n",
        "\n",
        "\n",
        "def vocal(palabra):\n",
        "        \"\"\"\n",
        "        Cuenta las vocales de una palabra.\n",
        "        :param palabra: La palabra a contar.\n",
        "        :return: Número entero de vocales.\n",
        "        \"\"\"\n",
        "        vocales = 'aeiou'\n",
        "        c_vocales = 0\n",
        "        for letra in palabra:\n",
        "                if letra.lower() in vocales:\n",
        "                        c_vocales += 1\n",
        "                else:\n",
        "                        continue\n",
        "        return c_vocales\n",
        "\n",
        "\n",
        "def conso(palabra):\n",
        "        \"\"\"\n",
        "        Cuenta las consonantes de una palabra.\n",
        "        :param palabra: La palabra a contar.\n",
        "        :return: Número entero de consonantes.\n",
        "        \"\"\"\n",
        "        consonantes = 'bcdfghjklmnñpqrstvwxyz'\n",
        "        c_conso = 0\n",
        "        for letra in palabra:\n",
        "                if letra.lower() in consonantes:\n",
        "                        c_conso += 1\n",
        "                else:\n",
        "                        continue\n",
        "        return c_conso\n",
        "\n",
        "\n",
        "palabras = ['euro', 'diez', 'algas', 'broma', 'cicuta', 'fatiga', 'nachos', 'jadeos', 'hazañas', 'boutique']\n",
        "\n",
        "data = {'word': palabras,\n",
        "        'length': map(len, palabras),\n",
        "        'vowels': map(lambda palabra: vocal(palabra), palabras),\n",
        "        'consonants': map(lambda palabra: conso(palabra), palabras)}\n",
        "\n",
        "words = pd.DataFrame(data=data)\n",
        "\n",
        "print(words.query('vowels == consonants'))"
      ],
      "metadata": {
        "id": "FjZ_1jgQMgjo"
      },
      "execution_count": null,
      "outputs": []
    },
    {
      "cell_type": "markdown",
      "source": [
        "**EJERCICIO 09**"
      ],
      "metadata": {
        "id": "GKmOaUOYMmZX"
      }
    },
    {
      "cell_type": "markdown",
      "source": [
        "Investiga el método `.sort_values()` para ordenar las observaciones según la longitud de las palabras en orden descendente."
      ],
      "metadata": {
        "id": "HOkbsr2wMp2P"
      }
    },
    {
      "cell_type": "code",
      "source": [
        "import pandas as pd\n",
        "\n",
        "\n",
        "def vocal(palabra):\n",
        "        \"\"\"\n",
        "        Cuenta las vocales de una palabra.\n",
        "        :param palabra: La palabra a contar.\n",
        "        :return: Número entero de vocales.\n",
        "        \"\"\"\n",
        "        vocales = 'aeiou'\n",
        "        c_vocales = 0\n",
        "        for letra in palabra:\n",
        "                if letra.lower() in vocales:\n",
        "                        c_vocales += 1\n",
        "                else:\n",
        "                        continue\n",
        "        return c_vocales\n",
        "\n",
        "\n",
        "def conso(palabra):\n",
        "        \"\"\"\n",
        "        Cuenta las consonantes de una palabra.\n",
        "        :param palabra: La palabra a contar.\n",
        "        :return: Número entero de consonantes.\n",
        "        \"\"\"\n",
        "        consonantes = 'bcdfghjklmnñpqrstvwxyz'\n",
        "        c_conso = 0\n",
        "        for letra in palabra:\n",
        "                if letra.lower() in consonantes:\n",
        "                        c_conso += 1\n",
        "                else:\n",
        "                        continue\n",
        "        return c_conso\n",
        "\n",
        "\n",
        "palabras = ['euro', 'diez', 'algas', 'broma', 'cicuta', 'fatiga', 'nachos', 'jadeos', 'hazañas', 'boutique']\n",
        "\n",
        "data = {'word': palabras,\n",
        "        'length': map(len, palabras),\n",
        "        'vowels': map(lambda palabra: vocal(palabra), palabras),\n",
        "        'consonants': map(lambda palabra: conso(palabra), palabras)}\n",
        "\n",
        "words = pd.DataFrame(data=data)\n",
        "\n",
        "print(words.sort_values(by=['length'], ascending=False))\n"
      ],
      "metadata": {
        "id": "-vqJNvHYMxSn"
      },
      "execution_count": null,
      "outputs": []
    },
    {
      "cell_type": "markdown",
      "source": [
        "**EJERCICIO 10**"
      ],
      "metadata": {
        "id": "38CZRsmkM3LX"
      }
    },
    {
      "cell_type": "markdown",
      "source": [
        "Convierte la columna vowels a lista y, con `sorted()` ordénala de mayor a menor. Investiga para ello el método `.tolist()`"
      ],
      "metadata": {
        "id": "w-bv4qXZM6lW"
      }
    },
    {
      "cell_type": "code",
      "source": [
        "import pandas as pd\n",
        "\n",
        "\n",
        "def vocal(palabra):\n",
        "        \"\"\"\n",
        "        Cuenta las vocales de una palabra.\n",
        "        :param palabra: La palabra a contar.\n",
        "        :return: Número entero de vocales.\n",
        "        \"\"\"\n",
        "        vocales = 'aeiou'\n",
        "        c_vocales = 0\n",
        "        for letra in palabra:\n",
        "                if letra.lower() in vocales:\n",
        "                        c_vocales += 1\n",
        "                else:\n",
        "                        continue\n",
        "        return c_vocales\n",
        "\n",
        "\n",
        "def conso(palabra):\n",
        "        \"\"\"\n",
        "        Cuenta las consonantes de una palabra.\n",
        "        :param palabra: La palabra a contar.\n",
        "        :return: Número entero de consonantes.\n",
        "        \"\"\"\n",
        "        consonantes = 'bcdfghjklmnñpqrstvwxyz'\n",
        "        c_conso = 0\n",
        "        for letra in palabra:\n",
        "                if letra.lower() in consonantes:\n",
        "                        c_conso += 1\n",
        "                else:\n",
        "                        continue\n",
        "        return c_conso\n",
        "\n",
        "\n",
        "palabras = ['euro', 'diez', 'algas', 'broma', 'cicuta', 'fatiga', 'nachos', 'jadeos', 'hazañas', 'boutique']\n",
        "\n",
        "data = {'word': palabras,\n",
        "        'length': map(len, palabras),\n",
        "        'vowels': map(lambda palabra: vocal(palabra), palabras),\n",
        "        'consonants': map(lambda palabra: conso(palabra), palabras)}\n",
        "\n",
        "words = pd.DataFrame(data=data)\n",
        "\n",
        "df_vowels = words.copy()\n",
        "lista = df_vowels['vowels'].tolist()\n",
        "orden = sorted(lista, reverse=True)\n",
        "print(orden)"
      ],
      "metadata": {
        "id": "VkUP1-NSNCW-"
      },
      "execution_count": null,
      "outputs": []
    }
  ]
}