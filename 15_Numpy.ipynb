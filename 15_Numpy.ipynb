{
  "nbformat": 4,
  "nbformat_minor": 0,
  "metadata": {
    "colab": {
      "provenance": [],
      "authorship_tag": "ABX9TyOQ5KDzIk3MuOYUD/578Qme"
    },
    "kernelspec": {
      "name": "python3",
      "display_name": "Python 3"
    },
    "language_info": {
      "name": "python"
    }
  },
  "cells": [
    {
      "cell_type": "markdown",
      "source": [
        "#NUMPY\n",
        "\n"
      ],
      "metadata": {
        "id": "GjVRoR-O0-0P"
      }
    },
    {
      "cell_type": "markdown",
      "source": [
        "*Examen que tuve que realizar para completar con exito este tema perteneciente al curso de Python.*"
      ],
      "metadata": {
        "id": "XLNGqSt5_0Dv"
      }
    },
    {
      "cell_type": "markdown",
      "source": [
        "**NOTA:** No es necesario usar código para comprobar si los datos introducidos por el usuario son correctos. Vamos a interpretar que así es por ahora a menos que se especifique lo contrario."
      ],
      "metadata": {
        "id": "6zZzP30504cA"
      }
    },
    {
      "cell_type": "markdown",
      "source": [
        "# EXAMEN"
      ],
      "metadata": {
        "id": "TQwFzcrS_ZDZ"
      }
    },
    {
      "cell_type": "markdown",
      "source": [
        "**EJERCICIO 01**"
      ],
      "metadata": {
        "id": "8blzg16J1QM-"
      }
    },
    {
      "cell_type": "markdown",
      "source": [
        "Crea un array unidimensional de 9 elementos y transfórmalo en un array 3D. Muestra la dimensión y la shape antes y después del reshape.\n"
      ],
      "metadata": {
        "id": "gTzVyrVKl3rB"
      }
    },
    {
      "cell_type": "code",
      "source": [
        "import numpy as np\n",
        "\n",
        "a1 = np.array([1, 12, 9, 8, -1, -5, 7, -2, 3])\n",
        "print(f'ARRAY:\\n{a1}')\n",
        "print(f'Dimensiones: {a1.ndim}\\n Shape: {a1.shape}')\n",
        "\n",
        "a1 = a1.reshape(1, 3, 3)\n",
        "print(f'\\n\\nARRAY TRANSFORMADO:\\n{a1}')\n",
        "print(f'Dimensiones: {a1.ndim}\\n Shape: {a1.shape}')"
      ],
      "metadata": {
        "id": "R62uZ91Rl9Iw"
      },
      "execution_count": null,
      "outputs": []
    },
    {
      "cell_type": "markdown",
      "source": [
        "**EJERCICIO 02**"
      ],
      "metadata": {
        "id": "dl8ZlCmXmFCq"
      }
    },
    {
      "cell_type": "markdown",
      "source": [
        "Dados los arrays 2D [[-6, -5], [-4, -3], [-2, -1]] y [[1, 2], [3, 4], [5, 6]], concaténalos de modo que obtengas el array [[1, 2, -6, -5], [3, 4, -4, -3] [5, 6, -2, -1]]."
      ],
      "metadata": {
        "id": "XrcqIOvzmJRS"
      }
    },
    {
      "cell_type": "code",
      "source": [
        "import numpy as np\n",
        "\n",
        "a1 = np.array([[-6, -5], [-4, -3], [-2, -1]])\n",
        "a2 = np.array([[1, 2], [3, 4], [5, 6]])\n",
        "\n",
        "a3 = np.concatenate((a2, a1), axis=1)\n",
        "\n",
        "print(a3)"
      ],
      "metadata": {
        "id": "DXkcwxvAmO3J"
      },
      "execution_count": null,
      "outputs": []
    },
    {
      "cell_type": "markdown",
      "source": [
        "**EJERCICIO 03**"
      ],
      "metadata": {
        "id": "5x25CTE8nRrd"
      }
    },
    {
      "cell_type": "markdown",
      "source": [
        "Dado el array 2D [[1, 2, 3], [-1, 0, 1], [4, 5, 6], [-4, 0, 4], [3, 2, 1], [-3, 0, 3]], divídelo en 3 arrays 2D."
      ],
      "metadata": {
        "id": "6ip824otnU6N"
      }
    },
    {
      "cell_type": "code",
      "source": [
        "import numpy as np\n",
        "\n",
        "a = np.array([[1, 2, 3], [-1, 0, 1], [4, 5, 6], [-4, 0, 4], [3, 2, 1], [-3, 0, 3]])\n",
        "\n",
        "a1 = np.array_split(a, 3)\n",
        "print(f'ARRAY ORIGINAL A DIVIDIR EN 3:\\n{a}')\n",
        "print(f'\\n1º ARRAY: {a1[0]}')\n",
        "print(f'\\n2º ARRAY: {a1[1]}')\n",
        "print(f'\\n3º ARRAY: {a1[2]}')"
      ],
      "metadata": {
        "id": "xdsHK_8Yna_E"
      },
      "execution_count": null,
      "outputs": []
    },
    {
      "cell_type": "markdown",
      "source": [
        "**EJERCICIO 04**"
      ],
      "metadata": {
        "id": "EWVFmZqTpPsU"
      }
    },
    {
      "cell_type": "markdown",
      "source": [
        "Dado el array 2D[[\"ala\", \"delfín\", \"arroz\"], [\"cena\", \"kayak\", \"picnic\"], [\"hoja\", \"gato\",\"elle\"]], busca las palabras que sean palíndromos."
      ],
      "metadata": {
        "id": "vVu7taBepTRk"
      }
    },
    {
      "cell_type": "code",
      "source": [
        "import numpy as np\n",
        "\n",
        "a = np.array([[\"ala\", \"delfín\", \"arroz\"], [\"cena\", \"kayak\", \"picnic\"], [\"hoja\", \"gato\", \"elle\"]])\n",
        "\n",
        "lista = []\n",
        "\n",
        "for i in a:\n",
        "    for j in i:\n",
        "        lista.append(j)\n",
        "\n",
        "\n",
        "def palindromo(lista):\n",
        "    \"\"\"\n",
        "    Analiza una lista de palabras y nos dice las que son palíndromas.\n",
        "    :param lista: Lista de palabras introducidas.\n",
        "    :return: Lista de palabras palíndromas.\n",
        "    \"\"\"\n",
        "    pal = []\n",
        "\n",
        "    for p in lista:\n",
        "\n",
        "        if p == p[::-1]:\n",
        "            pal.append(p)\n",
        "        else:\n",
        "            continue\n",
        "\n",
        "    return pal\n",
        "\n",
        "\n",
        "b = palindromo(lista)\n",
        "print(b)"
      ],
      "metadata": {
        "id": "35B0IpyzpZ9R"
      },
      "execution_count": null,
      "outputs": []
    },
    {
      "cell_type": "markdown",
      "source": [
        "**EJERCICIO 05**"
      ],
      "metadata": {
        "id": "nTj7tp8CwPoW"
      }
    },
    {
      "cell_type": "markdown",
      "source": [
        "Dado el array 1D [\"cena\", \"frío\", \"kayak\", \"remo\", \"sol\"]], ¿qué índice deberá ocupar el elemento “python” para que se mantenga el orden alfabético?\n"
      ],
      "metadata": {
        "id": "ORU7qe0MwS2l"
      }
    },
    {
      "cell_type": "code",
      "source": [
        "import numpy as np\n",
        "\n",
        "a = np.array([\"cena\", \"frío\", \"kayak\", \"remo\", \"sol\"])\n",
        "\n",
        "print(np.searchsorted(a, 'python'))"
      ],
      "metadata": {
        "id": "viXlTj8Ww65K"
      },
      "execution_count": null,
      "outputs": []
    },
    {
      "cell_type": "markdown",
      "source": [
        "**EJERCICIO 06**"
      ],
      "metadata": {
        "id": "PNdWl5OPw9LL"
      }
    },
    {
      "cell_type": "markdown",
      "source": [
        "Crea un minijuego que piense un número aleatorio entre 1 y 10 y, hasta que no lo aciertes, te pida un númerodel 1 al 10. Cuando aciertes, tendrá que devolver el número de intentos y la frase: “¡¡¡ENHORABUENA!!!Has acertado el número que había pensado: el {}”. En caso de que falles, el juego deberá mostrar la frase“¡Has fallado! ¡Prueba otra vez!”"
      ],
      "metadata": {
        "id": "a2Uss2OZxCPT"
      }
    },
    {
      "cell_type": "code",
      "source": [
        "from numpy import random\n",
        "\n",
        "print('/// Adivina un número del 1 al 10 ///')\n",
        "\n",
        "numero_clave = random.randint(1, 11)\n",
        "\n",
        "n_usuario = int(input('Escribe un número del 1 al 10... a ver si lo adivinas: '))\n",
        "\n",
        "c = 0\n",
        "\n",
        "while True:\n",
        "    if numero_clave != n_usuario:\n",
        "        print('¡Has fallado! ¡Prueba otra vez!\\n')\n",
        "        c += 1\n",
        "        n_usuario = int(input('Escribe un número del 1 al 10... a ver si lo adivinas: '))\n",
        "\n",
        "    else:\n",
        "        print(f'¡¡¡ENHORABUENA!!! Has acertado el número que había pensado: el {numero_clave}')\n",
        "        print(f'Te ha costado {c} intentos')\n",
        "        break"
      ],
      "metadata": {
        "id": "IF0lMAhdxNly"
      },
      "execution_count": null,
      "outputs": []
    },
    {
      "cell_type": "markdown",
      "source": [
        "**EJERCICIO 07**"
      ],
      "metadata": {
        "id": "-mcb4vamz7Je"
      }
    },
    {
      "cell_type": "markdown",
      "source": [
        "Crea un minijuego que piense un array 1D aleatorio de 5 elementos. Los elementos serán números enterosentre 0 y 20. Para cada intento, primero tendrá que pedir 5 números enteros del 0 al 20. El juego nos tendráque decir cuántos números del array hemos acertado y cuántos números del array están bien colocados. El juego no termina hasta que no se hayan acertado todos los números pensados en la posición correspondiente.Al acabar, se tendrá que mostrar la frase: “¡¡¡ENHORABUENA!!! Has acertado el array que había pensado:{}”"
      ],
      "metadata": {
        "id": "bDi0GdNfz-g2"
      }
    },
    {
      "cell_type": "code",
      "source": [
        "import numpy as np\n",
        "from numpy import random\n",
        "\n",
        "print('/// Adivina un array de 5 elementos entre el 0 y el 20 ///')\n",
        "\n",
        "a = random.randint(21, size=5)\n",
        "c = 0\n",
        "lugar = 0\n",
        "\n",
        "while lugar != 5:\n",
        "    lista = []\n",
        "    c = 0\n",
        "    lugar = 0\n",
        "\n",
        "    for i in range(5):\n",
        "        n = int(input(f'Escribe el número que corresponde al lugar {i}: '))\n",
        "        lista.append(n)\n",
        "\n",
        "        if n in a:\n",
        "            c += 1\n",
        "\n",
        "        if n == a[i]:\n",
        "            lugar += 1\n",
        "\n",
        "    lista_np = np.array(lista)\n",
        "    unique_lista, count_lista = np.unique(lista_np, return_counts=True)\n",
        "    unique_a, count_a = np.unique(a, return_counts=True)\n",
        "\n",
        "    for i in unique_lista:\n",
        "\n",
        "        if i in unique_a:\n",
        "            idx_i = np.where(unique_lista == i)[0][0]\n",
        "            idx_a = np.where(unique_a == i)[0][0]\n",
        "\n",
        "            if count_lista[idx_i] > count_a[idx_a]:\n",
        "                c -= count_lista[idx_i] - count_a[idx_a]\n",
        "\n",
        "    print(f'Tu array es: {lista}\\n{c} Elementos son correctos\\n{lugar} Posiciones son correctas')\n",
        "\n",
        "    lista.clear()\n",
        "\n",
        "print(f'¡¡¡ENHORABUENA!!! Has acertado el array que había pensado: {a}')"
      ],
      "metadata": {
        "id": "NRQtCySU0EbT"
      },
      "execution_count": null,
      "outputs": []
    },
    {
      "cell_type": "markdown",
      "source": [
        "**EJERCICIO 08**"
      ],
      "metadata": {
        "id": "NF3W0OLOAbRv"
      }
    },
    {
      "cell_type": "markdown",
      "source": [
        "A partir de la lista [-3, -2, -1, 0, 1, 2, 3], genera dos arrays aleatorios 2D de size = (3, 4) y\n",
        "súmalos."
      ],
      "metadata": {
        "id": "cNPFTQaVAeuP"
      }
    },
    {
      "cell_type": "code",
      "source": [
        "from numpy import random\n",
        "\n",
        "a = [-3, -2, -1, 0, 1, 2, 3]\n",
        "a1 = random.choice(a, size=(3, 4))\n",
        "a2 = random.choice(a, size=(3, 4))\n",
        "\n",
        "print(f'LA LISTA ES {a}\\n')\n",
        "print(f'La suma de: \\n\\n{a1}\\n\\n y \\n\\n{a2}\\n\\nes igual a: \\n\\n{a1+a2}')"
      ],
      "metadata": {
        "id": "uAUpKwu9Ajid"
      },
      "execution_count": null,
      "outputs": []
    },
    {
      "cell_type": "markdown",
      "source": [
        "**EJERCICIO 09**"
      ],
      "metadata": {
        "id": "RsL7zbBFCOHn"
      }
    },
    {
      "cell_type": "markdown",
      "source": [
        "Crea una función universal que dado un array de strings devuelva el número total de vocales de cada string."
      ],
      "metadata": {
        "id": "GwwZU5awCVn3"
      }
    },
    {
      "cell_type": "code",
      "source": [
        "import numpy as np\n",
        "\n",
        "a = np.array(['luna', 'noche', 'estrellas'])\n",
        "\n",
        "\n",
        "def cont_vocales(x):\n",
        "    c = 0\n",
        "    for v in x:\n",
        "        if v in 'aeiou':\n",
        "            c += 1\n",
        "    return c\n",
        "\n",
        "\n",
        "np_contador_vocales = np.frompyfunc(cont_vocales, 1, 1)\n",
        "\n",
        "print(np_contador_vocales(a))"
      ],
      "metadata": {
        "id": "TMm4A0cSH__m"
      },
      "execution_count": null,
      "outputs": []
    },
    {
      "cell_type": "markdown",
      "source": [
        "**EJERCICIO 10**"
      ],
      "metadata": {
        "id": "06Vz42f_ICt2"
      }
    },
    {
      "cell_type": "markdown",
      "source": [
        "Crea una función universal que dados un array 1D de valores string y conjunto de strings, compruebe para\n",
        "cada elemento del array 1D, si está presente o no en el conjunto."
      ],
      "metadata": {
        "id": "LvShDFVjIFlu"
      }
    },
    {
      "cell_type": "code",
      "source": [
        "import numpy as np\n",
        "\n",
        "a = np.array(['luna', 'noche', 'estrellas'])\n",
        "\n",
        "\n",
        "def comprobador(elemento, c):\n",
        "    if elemento in c:\n",
        "        return True\n",
        "    else:\n",
        "        return False\n",
        "\n",
        "\n",
        "np_comprobador = np.frompyfunc(comprobador, 2, 1)\n",
        "\n",
        "print(np_comprobador('n', a))"
      ],
      "metadata": {
        "id": "j9pOBeAaIL4O"
      },
      "execution_count": null,
      "outputs": []
    }
  ]
}