{
  "nbformat": 4,
  "nbformat_minor": 0,
  "metadata": {
    "colab": {
      "provenance": [],
      "authorship_tag": "ABX9TyNrtcBfhYVNK70Pqvw9N3b1"
    },
    "kernelspec": {
      "name": "python3",
      "display_name": "Python 3"
    },
    "language_info": {
      "name": "python"
    }
  },
  "cells": [
    {
      "cell_type": "markdown",
      "source": [
        "# TEMA 12 - PROGRAMACIÓN ORIENTADA A OBJETOS (OOP)"
      ],
      "metadata": {
        "id": "GjVRoR-O0-0P"
      }
    },
    {
      "cell_type": "markdown",
      "source": [
        "**EJERCICIOS y EXAMEN FINAL**"
      ],
      "metadata": {
        "id": "fEqpPkFS0hpz"
      }
    },
    {
      "cell_type": "markdown",
      "source": [
        "**NOTA:** No es necesario usar código para comprobar si los datos introducidos por el usuario son correctos. Vamos a interpretar que así es por ahora a menos que se especifique lo contrario."
      ],
      "metadata": {
        "id": "6zZzP30504cA"
      }
    },
    {
      "cell_type": "markdown",
      "source": [
        "### **TAREA 01**"
      ],
      "metadata": {
        "id": "8blzg16J1QM-"
      }
    },
    {
      "cell_type": "markdown",
      "source": [
        "Vamos a crear la clase RationalNumber. Vamos a configurar el constructor de modo que haya un atributo numerator y otro denominator, este último con 1 como valor por defecto. Ambos atributos deben ser números enteros."
      ],
      "metadata": {
        "id": "9Aoc7AzB1Zmz"
      }
    },
    {
      "cell_type": "code",
      "source": [
        "class RationalNumber():\n",
        "    \"\"\"\n",
        "    Clase para trabajar con números racionales.\n",
        "    \"\"\"\n",
        "    def __init__(self, numerator, denominator=1):\n",
        "        if type(numerator) is int and type(denominator) is int:\n",
        "            self.numerator = numerator\n",
        "            self.denominator = denominator\n",
        "        else:\n",
        "            print('ERROR... Ambos números deben ser números enteros')"
      ],
      "metadata": {
        "id": "1cBPlkw41YEi"
      },
      "execution_count": null,
      "outputs": []
    }
  ]
}