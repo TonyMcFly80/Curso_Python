{
  "nbformat": 4,
  "nbformat_minor": 0,
  "metadata": {
    "colab": {
      "provenance": [],
      "authorship_tag": "ABX9TyOpRfRlJS8OwhfTTjB868Jt"
    },
    "kernelspec": {
      "name": "python3",
      "display_name": "Python 3"
    },
    "language_info": {
      "name": "python"
    }
  },
  "cells": [
    {
      "cell_type": "markdown",
      "source": [
        "#LISTAS Y MATRICES - ESTRUCTURA DE DATOS"
      ],
      "metadata": {
        "id": "GjVRoR-O0-0P"
      }
    },
    {
      "cell_type": "markdown",
      "source": [
        "*Ejercicios y examen que tuve que realizar para completar con exito este tema perteneciente al curso de Python.*"
      ],
      "metadata": {
        "id": "XLNGqSt5_0Dv"
      }
    },
    {
      "cell_type": "markdown",
      "source": [
        "**NOTA:** No es necesario usar código para comprobar si los datos introducidos por el usuario son correctos. Vamos a interpretar que así es por ahora a menos que se especifique lo contrario."
      ],
      "metadata": {
        "id": "6zZzP30504cA"
      }
    },
    {
      "cell_type": "markdown",
      "source": [
        "# EJERCICIOS"
      ],
      "metadata": {
        "id": "TQwFzcrS_ZDZ"
      }
    },
    {
      "cell_type": "markdown",
      "source": [
        "**TAREA 01**"
      ],
      "metadata": {
        "id": "8blzg16J1QM-"
      }
    },
    {
      "cell_type": "markdown",
      "source": [
        "Vamos a pedirle al usuario la longitud de una lista y haremos que introduzca por teclado tantos números enteros como haya indicado, que se guardarán en una lista. Al acabar, imprimiremos la lista."
      ],
      "metadata": {
        "id": "_EvE1bB_Udps"
      }
    },
    {
      "cell_type": "code",
      "source": [
        "print('Vamos a crear una lista!!!')\n",
        "n = int(input('Cuantos números enteros va a tener la lista?: '))\n",
        "contador = 0\n",
        "lista = []\n",
        "\n",
        "while n > contador:\n",
        "    lista.append(int(input('Escribe un número entero: ')))\n",
        "    contador += 1\n",
        "\n",
        "print(lista)0"
      ],
      "metadata": {
        "id": "b4M1_ETaUsC5"
      },
      "execution_count": null,
      "outputs": []
    },
    {
      "cell_type": "markdown",
      "source": [
        "**TAREA 02**"
      ],
      "metadata": {
        "id": "BOyC6DH5VyE-"
      }
    },
    {
      "cell_type": "markdown",
      "source": [
        "Dada una lista de caracteres, le pediremos al usuario qué elemento quiere eliminar y lo eliminaremos de la lista."
      ],
      "metadata": {
        "id": "gPJK1ezYV2Bm"
      }
    },
    {
      "cell_type": "code",
      "source": [
        "print('Vamos a crear una lista de caracteres!!!')\n",
        "n = int(input('Cuantos caracteres va a tener la lista?: '))\n",
        "contador = 0\n",
        "lista = []\n",
        "\n",
        "while n > contador:\n",
        "    lista.append(str(input('Escribe una letra: ')))\n",
        "    contador += 1\n",
        "\n",
        "print('La lista es la siguiente:')\n",
        "print(lista)\n",
        "\n",
        "borrar = str(input('Qué letra quieres borrar?: '))\n",
        "\n",
        "for letra in lista:\n",
        "    if letra == borrar:\n",
        "        lista.remove(borrar)\n",
        "\n",
        "print('Esta es la nueva lista:')\n",
        "print(lista)"
      ],
      "metadata": {
        "id": "NK4DOY9zV1cW"
      },
      "execution_count": null,
      "outputs": []
    },
    {
      "cell_type": "markdown",
      "source": [
        "**TAREA 03**"
      ],
      "metadata": {
        "id": "aT8Iu8chWXxE"
      }
    },
    {
      "cell_type": "markdown",
      "source": [
        "Vamos a pedir al usuario que ingrese 10 números, los guardaremos en una lista y mostraremos la lista ordenada, siendo el usuario quien indique el orden: Ascencente o Descendente."
      ],
      "metadata": {
        "id": "oPyqxcvCWaEU"
      }
    },
    {
      "cell_type": "code",
      "source": [
        "print('Vamos a crear una lista de 10 números!!!')\n",
        "n = 10\n",
        "contador = 0\n",
        "lista = []\n",
        "\n",
        "while n > contador:\n",
        "    lista.append(float(input('Escribe un número: ')))\n",
        "    contador += 1\n",
        "\n",
        "orden = int(input('En que orden deseas ver la lista? Ascendente marca 1, Descendente marca 0: '))\n",
        "\n",
        "if orden == 1:\n",
        "    lista.sort()\n",
        "    print(lista)\n",
        "elif orden == 0:\n",
        "    lista.sort()\n",
        "    lista.reverse()\n",
        "    print(lista)\n",
        "else:\n",
        "    print('Datos Incorrectos')"
      ],
      "metadata": {
        "id": "zW3AqBrJWfRZ"
      },
      "execution_count": null,
      "outputs": []
    },
    {
      "cell_type": "markdown",
      "source": [
        "**TAREA 04**"
      ],
      "metadata": {
        "id": "wM2HSvW5Wpla"
      }
    },
    {
      "cell_type": "markdown",
      "source": [
        "Vamos a convertir los números impares del 0 al 30 a una lista y mostrar los elementos en formato \"El valor {} ocupa el indice {}\"."
      ],
      "metadata": {
        "id": "mAhFk15MWsIL"
      }
    },
    {
      "cell_type": "code",
      "source": [
        "lista = []\n",
        "\n",
        "for n in range(1, 31, 2):\n",
        "    lista.append(n)\n",
        "    print(f'El valor {n} ocupa el indice {lista.index(n)}')"
      ],
      "metadata": {
        "id": "5gqlLbs7WvqB"
      },
      "execution_count": null,
      "outputs": []
    },
    {
      "cell_type": "markdown",
      "source": [
        "**TAREA 05**"
      ],
      "metadata": {
        "id": "kba4i2cPW7wx"
      }
    },
    {
      "cell_type": "markdown",
      "source": [
        "Vamos a crear manualmente una matriz de tamaño 4 x 4 y guardarla en una lista."
      ],
      "metadata": {
        "id": "TZTzlURMW-M5"
      }
    },
    {
      "cell_type": "code",
      "source": [
        "print('/// Vamos a crear manualmente una matriz de tamaño 4 x 4 ///')\n",
        "\n",
        "A = []\n",
        "\n",
        "for i in range(4):\n",
        "    A.append([])\n",
        "    for j in range(4):\n",
        "        A[i].append(int(input(f'Introduce el elemento ({i},{j}): ')))\n",
        "\n",
        "for i in range(4):\n",
        "    for j in range(4):\n",
        "        print(A[i][j], end='  ' if A[i][j] >= 0 else ' ')\n",
        "    print('')"
      ],
      "metadata": {
        "id": "yA9vhOftXCSQ"
      },
      "execution_count": null,
      "outputs": []
    },
    {
      "cell_type": "markdown",
      "source": [
        "**TAREA 06**"
      ],
      "metadata": {
        "id": "AUYRKmJrXRxf"
      }
    },
    {
      "cell_type": "markdown",
      "source": [
        "Vamos a sumar dos matrices con listas. Ambas matrices serán porporcionadas por el usuario, así como la dimensión de las matrices."
      ],
      "metadata": {
        "id": "G3744iTIXUz3"
      }
    },
    {
      "cell_type": "code",
      "source": [
        "print('/// Vamos a crear manualmente dos matrices que vamos a sumar ///')\n",
        "m = int(input('Escribe que tamano de filas: '))\n",
        "n = int(input('Escribe que tamano de columnas: '))\n",
        "\n",
        "A = []\n",
        "B = []\n",
        "\n",
        "print('/// Vamos con la matriz A ///')\n",
        "for i in range(m):\n",
        "    A.append([])\n",
        "    for j in range(n):\n",
        "        A[i].append(int(input(f'Introduce el elemento ({i},{j}): ')))\n",
        "\n",
        "\n",
        "print('/// Vamos con la matriz B ///')\n",
        "for i in range(m):\n",
        "    B.append([])\n",
        "    for j in range(n):\n",
        "        B[i].append(int(input(f'Introduce el elemento ({i},{j}): ')))\n",
        "\n",
        "\n",
        "if len(A) == len(B) and len(A[0]) == len(B[0]):\n",
        "    C = []\n",
        "\n",
        "    for i in range(m):\n",
        "        C.append([])\n",
        "        for j in range(n):\n",
        "            C[i].append(A[i][j] + B[i][j])\n",
        "\n",
        "    for i in range(m):\n",
        "        for j in range(n):\n",
        "            print(A[i][j], end='  ' if A[i][j] >= 0 else ' ')\n",
        "        print('')\n",
        "\n",
        "else:\n",
        "    print('No se puede realizar la suma')"
      ],
      "metadata": {
        "id": "7DAqTqqzXacn"
      },
      "execution_count": null,
      "outputs": []
    },
    {
      "cell_type": "markdown",
      "source": [
        "**TAREA 07**"
      ],
      "metadata": {
        "id": "oSkbQrs1XeFP"
      }
    },
    {
      "cell_type": "markdown",
      "source": [
        "Vamos a calcular el producto de dos matrices con listas. Ambas matrices serán dadas por el usuario así como las dimensiones de ambas."
      ],
      "metadata": {
        "id": "eABM_VliXgiH"
      }
    },
    {
      "cell_type": "code",
      "source": [
        "print('/// Vamos a crear manualmente dos matrices que vamos a multiplicar ///')\n",
        "n = int(input('Escribe que tamano de filas tendrá A: '))\n",
        "m = int(input('Escribe que tamano de columnas que tendrá A (y filas B): '))\n",
        "p = int(input('Escribe que tamano de columnas que tendrá B: '))\n",
        "\n",
        "A = []\n",
        "\n",
        "print('/// Vamos con la Matriz A ///')\n",
        "for i in range(n):\n",
        "    A.append([])\n",
        "    for j in range(m):\n",
        "        A[i].append(float(input(f'Introduce el elemento ({i},{j}): ')))\n",
        "\n",
        "B = []\n",
        "\n",
        "print('/// Vamos con la Matriz B ///')\n",
        "for i in range(m):\n",
        "    B.append([])\n",
        "    for j in range(p):\n",
        "        B[i].append(float(input(f'Introduce el elemento ({i},{j}): ')))\n",
        "\n",
        "C = []\n",
        "\n",
        "for i in range(n):  # Para cada fila de A\n",
        "    C.append([])    # Creamos en C una fila vacia (es decir una lista vacía)\n",
        "    for j in range(p):  # Para cada columna de B\n",
        "        elemento = 0    # Definimos el elemento de la suma igual a cero\n",
        "        for k in range(m):  # Para cada fila de A o columna de B (que son iguales)\n",
        "            elemento = elemento + A[i][k] * B[k][j]  # Cada elemento es igual al elemento + la fórmula\n",
        "        C[i].append(elemento)   # Se añade a C la posición i el elemento/resultado en cada caso\n",
        "\n",
        "print('/// Resultado Matriz A x B ///')\n",
        "for i in range(n):\n",
        "    for j in range(p):\n",
        "        print(C[i][j], end='  ')\n",
        "    print('')"
      ],
      "metadata": {
        "id": "_1kGiJNqXjhe"
      },
      "execution_count": null,
      "outputs": []
    },
    {
      "cell_type": "markdown",
      "source": [
        "**TAREA 08**"
      ],
      "metadata": {
        "id": "EH4H0OrxXnB2"
      }
    },
    {
      "cell_type": "markdown",
      "source": [
        "Vamos a introducir manualmente una matriz con numpy donde las dimensiones son proporcionadas por el usuario."
      ],
      "metadata": {
        "id": "rRXAV9dyXqAO"
      }
    },
    {
      "cell_type": "code",
      "source": [
        "import numpy as np\n",
        "\n",
        "print('/// Vamos ha crear una matriz ///')\n",
        "n = int(input('Cuantas filas tendrá la matriz?: '))\n",
        "m = int(input('Cuantas columnas tendrá la matriz?: '))\n",
        "\n",
        "A = np.empty((n, m))\n",
        "\n",
        "for i in range(n):\n",
        "    for j in range(m):\n",
        "        A[i, j] = float(input(f'Introduce el elemento ({i},{j}): '))\n",
        "\n",
        "print(A)"
      ],
      "metadata": {
        "id": "A2nagzL7Xtne"
      },
      "execution_count": null,
      "outputs": []
    },
    {
      "cell_type": "markdown",
      "source": [
        "**TAREA 09**"
      ],
      "metadata": {
        "id": "7WVqT9hpXw4N"
      }
    },
    {
      "cell_type": "markdown",
      "source": [
        "Vamos a sumar dos matrices con numpy. Ambas matrices las proporcionará el usuario, así como sus dimensiones."
      ],
      "metadata": {
        "id": "JNYl271uXzU9"
      }
    },
    {
      "cell_type": "code",
      "source": [
        "import numpy as np\n",
        "\n",
        "print('/// Vamos ha crear los parámetros de las matrices a sumar A + B ///')\n",
        "n = int(input('Cuantas filas?: '))\n",
        "m = int(input('Cuantas columnas?: '))\n",
        "\n",
        "print('/// Matriz A ///')\n",
        "A = np.empty((n, m))\n",
        "\n",
        "for i in range(n):\n",
        "    for j in range(m):\n",
        "        A[i, j] = float(input(f'Introduce el elemento ({i},{j}): '))\n",
        "\n",
        "print('/// Matriz B ///')\n",
        "B = np.empty((n, m))\n",
        "\n",
        "for i in range(n):\n",
        "    for j in range(m):\n",
        "        B[i, j] = float(input(f'Introduce el elemento ({i},{j}): '))\n",
        "\n",
        "matrixSum = A + B\n",
        "\n",
        "print('/// Resultado A + B ///')\n",
        "print(matrixSum)"
      ],
      "metadata": {
        "id": "nAiobHP-X2cl"
      },
      "execution_count": null,
      "outputs": []
    },
    {
      "cell_type": "markdown",
      "source": [
        "**TAREA 10**"
      ],
      "metadata": {
        "id": "XRygBRh0X6CE"
      }
    },
    {
      "cell_type": "markdown",
      "source": [
        "Vamos a multiplicar dos matrices con numpy. Ambas matrices serán proporcionadas por el usuario, así como la dimensión de ambas."
      ],
      "metadata": {
        "id": "2Radso6oX8gs"
      }
    },
    {
      "cell_type": "code",
      "source": [
        "import numpy as np\n",
        "\n",
        "print('/// Vamos ha crear los parámetros de las matrices a multi A x B ///')\n",
        "n = int(input('Filas de A: '))\n",
        "m = int(input('Columnas de A (y filas de B): '))\n",
        "p = int(input('Columnas de B: '))\n",
        "\n",
        "print('/// Matriz A ///')\n",
        "A = np.empty((n, m))\n",
        "\n",
        "for i in range(n):\n",
        "    for j in range(m):\n",
        "        A[i, j] = float(input(f'Introduce el elemento ({i},{j}): '))\n",
        "\n",
        "print('/// Matriz B ///')\n",
        "B = np.empty((m, p))\n",
        "\n",
        "for i in range(m):\n",
        "    for j in range(p):\n",
        "        B[i, j] = float(input(f'Introduce el elemento ({i},{j}): '))\n",
        "\n",
        "print('/// Resultado de A x B ///')\n",
        "matrixProd = A.dot(B)\n",
        "\n",
        "print(matrixProd)"
      ],
      "metadata": {
        "id": "xK0B3E6hX_RM"
      },
      "execution_count": null,
      "outputs": []
    },
    {
      "cell_type": "markdown",
      "source": [
        "# EXAMEN"
      ],
      "metadata": {
        "id": "NN1p5e9IjrMH"
      }
    },
    {
      "cell_type": "markdown",
      "source": [
        "**EJERCICIO 01**"
      ],
      "metadata": {
        "id": "n5lEjJKnjuP7"
      }
    },
    {
      "cell_type": "markdown",
      "source": [
        "Crea un programa que lea una secuencia de caracteres, guarde cada caracter en una posición de una lista y finalmente muestre la secuencia invertida."
      ],
      "metadata": {
        "id": "JSmpsQLOYKDJ"
      }
    },
    {
      "cell_type": "code",
      "source": [
        "secuencia = str(input('Escribe una secuencia de caracteres: '))\n",
        "lista = list(secuencia)\n",
        "lista.reverse()\n",
        "print(lista)"
      ],
      "metadata": {
        "id": "ILzWIrPgYNWh"
      },
      "execution_count": null,
      "outputs": []
    },
    {
      "cell_type": "markdown",
      "source": [
        "**EJERCICIO 02**"
      ],
      "metadata": {
        "id": "P3-TrmZWYTMg"
      }
    },
    {
      "cell_type": "markdown",
      "source": [
        "Crea un programa que lea dos strings de la misma longitud, los guarde intercalados en una lista. Por último, mostrar el contenido de la lista. Por ejemplo, si introducimos hola caracola y adios marieta, debería mostrarse haodliao sc amraarcioeltaa."
      ],
      "metadata": {
        "id": "5PYYb09CYWBK"
      }
    },
    {
      "cell_type": "code",
      "source": [
        "string01 = str(input('Escribe una palabra: '))\n",
        "string02 = str(input('Escribe otra palabra: '))\n",
        "\n",
        "list(string01)\n",
        "list(string02)\n",
        "\n",
        "lista = []\n",
        "contador1 = 0\n",
        "contador2 = -1\n",
        "\n",
        "for letra1 in string01:\n",
        "    lista.insert(contador1, letra1)\n",
        "    contador1 += 1\n",
        "\n",
        "for letra2 in string02:\n",
        "    contador2 += 2\n",
        "    lista.insert(contador2, letra2)\n",
        "\n",
        "cadena_mezclada = ''.join(lista)\n",
        "print(cadena_mezclada)"
      ],
      "metadata": {
        "id": "n8Skw5sWYiUi"
      },
      "execution_count": null,
      "outputs": []
    },
    {
      "cell_type": "markdown",
      "source": [
        "**EJERCICIO 03**"
      ],
      "metadata": {
        "id": "ZJS4g3nEZC6w"
      }
    },
    {
      "cell_type": "markdown",
      "source": [
        "Crea un programa que lea un string y guarde en una lista todas las consonantes."
      ],
      "metadata": {
        "id": "dSn965rVZGAA"
      }
    },
    {
      "cell_type": "code",
      "source": [
        "palabra = str(input('Escribe una palabra: '))\n",
        "palabra_final = palabra.lower()\n",
        "\n",
        "lista = []\n",
        "\n",
        "for letra in palabra_final:\n",
        "    if letra == 'a' or letra == 'e' or letra == 'i' or letra == 'o' or letra == 'u':\n",
        "        continue\n",
        "    lista.append(letra)\n",
        "\n",
        "print(lista)"
      ],
      "metadata": {
        "id": "Z_nxXkTpZJif"
      },
      "execution_count": null,
      "outputs": []
    },
    {
      "cell_type": "markdown",
      "source": [
        "**EJERCICIO 04**"
      ],
      "metadata": {
        "id": "ZmTFBZVDZKXP"
      }
    },
    {
      "cell_type": "markdown",
      "source": [
        "Crea un programa que lea una palabra, la guarde en una lista y compruebe si se trata de un palíndromo."
      ],
      "metadata": {
        "id": "sgBUHQwaZNVn"
      }
    },
    {
      "cell_type": "code",
      "source": [
        "palabra = str(input('Escribe una palabra o frase: ').replace(' ', ''))\n",
        "lista = list(palabra.lower())\n",
        "\n",
        "invertida = []\n",
        "\n",
        "for letra in lista:\n",
        "    invertida.append(letra)\n",
        "\n",
        "invertida.reverse()\n",
        "\n",
        "if lista == invertida:\n",
        "    print('Es Palíndromo')\n",
        "\n",
        "else:\n",
        "    print('NO es Palíndromo')"
      ],
      "metadata": {
        "id": "XEzt2CqjZP7f"
      },
      "execution_count": null,
      "outputs": []
    },
    {
      "cell_type": "markdown",
      "source": [
        "**EJERCICIO 05**"
      ],
      "metadata": {
        "id": "DbBxACHwZSmm"
      }
    },
    {
      "cell_type": "markdown",
      "source": [
        "Crea un programa que lea una matriz 3 x 3 y devuelva el máximo de cada fila."
      ],
      "metadata": {
        "id": "fUEoTYxYZVNm"
      }
    },
    {
      "cell_type": "code",
      "source": [
        "import numpy as np\n",
        "\n",
        "n = 3\n",
        "m = 3\n",
        "\n",
        "matriz = np.empty((n, m))\n",
        "\n",
        "for i in range(n):\n",
        "    for j in range(m):\n",
        "        matriz[i, j] = float(input(f'Introduce el elemento {i}, {j}: '))\n",
        "\n",
        "# Fila 1\n",
        "if matriz[0, 0] > matriz[0, 1] and matriz[0, 0] > matriz[0, 2]:\n",
        "    print('La máxima de la fila 1 es', matriz[0, 0])\n",
        "\n",
        "elif matriz[0, 1] > matriz[0, 0] and matriz[0, 1] > matriz[0, 2]:\n",
        "    print('La máxima de la fila 1 es', matriz[0, 1])\n",
        "\n",
        "else:\n",
        "    print('La máxima de la fila 1 es', matriz[0, 2])\n",
        "\n",
        "# Fila 2\n",
        "if matriz[1, 0] > matriz[1, 1] and matriz[1, 0] > matriz[1, 2]:\n",
        "    print('La máxima de la fila 2 es', matriz[1, 0])\n",
        "\n",
        "elif matriz[1, 1] > matriz[1, 0] and matriz[1, 1] > matriz[1, 2]:\n",
        "    print('La máxima de la fila 2 es', matriz[1, 1])\n",
        "\n",
        "else:\n",
        "    print('La máxima de la fila 2 es', matriz[1, 2])\n",
        "\n",
        "# Fila 3\n",
        "if matriz[2, 0] > matriz[2, 1] and matriz[2, 0] > matriz[2, 2]:\n",
        "    print('La máxima de la fila 3 es', matriz[2, 0])\n",
        "\n",
        "elif matriz[2, 1] > matriz[2, 0] and matriz[2, 1] > matriz[2, 2]:\n",
        "    print('La máxima de la fila 3 es', matriz[2, 1])\n",
        "\n",
        "else:\n",
        "    print('La máxima de la fila 3 es', matriz[2, 2])"
      ],
      "metadata": {
        "id": "uAzgl3ZxZYM2"
      },
      "execution_count": null,
      "outputs": []
    },
    {
      "cell_type": "markdown",
      "source": [
        "**EJERCICIO 06**"
      ],
      "metadata": {
        "id": "nqUKW41EZb6O"
      }
    },
    {
      "cell_type": "markdown",
      "source": [
        "Crea un programa que lea un entero, n, de teclado y construya una matriz de tamaño n × n. Cada posición debe contener su orden en la matriz (desde 0 hasta n al cuadrado − 1. Por ejemplo, si n es 3, deberá crearse la matriz:\n",
        "\n",
        "[0, 1, 2]\n",
        "\n",
        "[3, 4, 5]\n",
        "\n",
        "[6, 7, 8]"
      ],
      "metadata": {
        "id": "_edPkiU3ZeSe"
      }
    },
    {
      "cell_type": "code",
      "source": [
        "import numpy as np\n",
        "\n",
        "n = int(input('Escribe un número entero: '))\n",
        "contador = 0\n",
        "\n",
        "matriz = []\n",
        "\n",
        "for i in range(n):\n",
        "    matriz.append([])\n",
        "\n",
        "    for j in range(n):\n",
        "        matriz[i].append(contador)\n",
        "        contador += 1\n",
        "\n",
        "print(np.matrix(matriz))"
      ],
      "metadata": {
        "id": "8z2UCrovZmOl"
      },
      "execution_count": null,
      "outputs": []
    },
    {
      "cell_type": "markdown",
      "source": [
        "**EJERCICIO 07**"
      ],
      "metadata": {
        "id": "2NK013faZsUF"
      }
    },
    {
      "cell_type": "markdown",
      "source": [
        "Crea una matriz de n × m y asigna los valores manualmente. El programa debe indicar si la suma de cada columna es el mismo valor."
      ],
      "metadata": {
        "id": "JB55gu8zZv61"
      }
    },
    {
      "cell_type": "code",
      "source": [
        "import numpy as np\n",
        "\n",
        "n = int(input('Número de filas: '))\n",
        "m = int(input('Número de columnas: '))\n",
        "\n",
        "matriz = np.empty((n, m))\n",
        "\n",
        "for i in range(n):\n",
        "\n",
        "    for j in range(m):\n",
        "        matriz[i, j] = float(input(f'Introduce el elemento {i}, {j}: '))\n",
        "\n",
        "print('\\n /// Matriz ///')\n",
        "print(matriz)\n",
        "\n",
        "suma = []\n",
        "\n",
        "for j in range(m):\n",
        "    operador = 0\n",
        "\n",
        "    for i in range(n):\n",
        "        operador += matriz[i][j]\n",
        "    suma.append(operador)\n",
        "\n",
        "suma_final = True\n",
        "\n",
        "for i in range(m - 1):\n",
        "    if suma[i] != suma[i + 1]:\n",
        "        suma_final = False\n",
        "\n",
        "if suma_final is True:\n",
        "    print('La suma de las columnas es igual')\n",
        "\n",
        "else:\n",
        "    print('La suma de las columnas NO es igual')"
      ],
      "metadata": {
        "id": "vfKk_PObZ1hl"
      },
      "execution_count": null,
      "outputs": []
    },
    {
      "cell_type": "markdown",
      "source": [
        "**EJERCICIO 08**"
      ],
      "metadata": {
        "id": "tZzhrC_6Z2pN"
      }
    },
    {
      "cell_type": "markdown",
      "source": [
        "Crear un programa determina si la matriz introducida manualmente (tanto sus dimensiones como los elementos) se trata de la matriz identidad. Recuerda que la matriz identidad debe ser una matriz cuadrada."
      ],
      "metadata": {
        "id": "0HsYQShtZ5tU"
      }
    },
    {
      "cell_type": "code",
      "source": [
        "import numpy as np\n",
        "\n",
        "n = int(input('Número de filas: '))\n",
        "m = int(input('Número de columnas: '))\n",
        "\n",
        "matriz = np.empty((n, m))\n",
        "\n",
        "for i in range(n):\n",
        "\n",
        "    for j in range(m):\n",
        "        matriz[i, j] = float(input(f'Introduce el elemento {i}, {j}: '))\n",
        "\n",
        "print('\\n /// Matriz ///')\n",
        "print(matriz)\n",
        "\n",
        "matriz_identidad = True\n",
        "\n",
        "if n == m:\n",
        "    \n",
        "    for i in range(n):\n",
        "        \n",
        "        for j in range(n):\n",
        "            \n",
        "            if i == j and matriz[i][j] != 1:\n",
        "                matriz_identidad = False\n",
        "            \n",
        "            elif i != j and matriz[i][j] != 0:\n",
        "                matriz_identidad = False\n",
        "\n",
        "else:\n",
        "    matriz_identidad = False\n",
        "\n",
        "if matriz_identidad is True:\n",
        "    print('SI es la Matriz Identidad')\n",
        "\n",
        "else:\n",
        "    print('NO es la Matriz Identidad')"
      ],
      "metadata": {
        "id": "Aa7N6NcDZ_Ds"
      },
      "execution_count": null,
      "outputs": []
    },
    {
      "cell_type": "markdown",
      "source": [
        "**EJERCICIO 09**"
      ],
      "metadata": {
        "id": "dNEGh_hDaAaD"
      }
    },
    {
      "cell_type": "markdown",
      "source": [
        "Realiza un programa que calcule la matriz transpuesta."
      ],
      "metadata": {
        "id": "RECz3l8xaEMz"
      }
    },
    {
      "cell_type": "code",
      "source": [
        "matriz = [[1, 2, 3], [4, 5, 6], [7, 8, 9]]\n",
        "\n",
        "matriz_trans = []\n",
        "\n",
        "for i in range(len(matriz[0])):\n",
        "    matriz_trans.append([])\n",
        "\n",
        "    for j in range(len(matriz)):\n",
        "        matriz_trans[i].append(matriz[j][i])\n",
        "\n",
        "for i in range(len(matriz_trans)):\n",
        "\n",
        "    for j in range(len(matriz_trans[0])):\n",
        "        print(matriz_trans[i][j], end=' ')\n",
        "    print('')"
      ],
      "metadata": {
        "id": "fYe2FJlCaFfL"
      },
      "execution_count": null,
      "outputs": []
    },
    {
      "cell_type": "markdown",
      "source": [
        "**EJERCICIO 10**"
      ],
      "metadata": {
        "id": "zt9o2PsLaH7j"
      }
    },
    {
      "cell_type": "markdown",
      "source": [
        "Crea un programa que pida al usuario la dimensión y cree la matriz identidad de orden correspondiente con numpy."
      ],
      "metadata": {
        "id": "s19XlP4yaKjU"
      }
    },
    {
      "cell_type": "code",
      "source": [
        "import numpy as np\n",
        "\n",
        "n = int(input('Escribe la dimensión de la matriz: '))\n",
        "\n",
        "matriz = np.zeros((n, n))\n",
        "\n",
        "for i in range(n):\n",
        "    matriz[i, i] = 1\n",
        "\n",
        "print(matriz)"
      ],
      "metadata": {
        "id": "lwIond2NaOw7"
      },
      "execution_count": null,
      "outputs": []
    }
  ]
}