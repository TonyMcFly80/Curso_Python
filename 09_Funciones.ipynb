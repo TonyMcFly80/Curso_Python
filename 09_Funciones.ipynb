{
  "nbformat": 4,
  "nbformat_minor": 0,
  "metadata": {
    "colab": {
      "provenance": [],
      "authorship_tag": "ABX9TyNqKittSysKCSvUDPReH9py"
    },
    "kernelspec": {
      "name": "python3",
      "display_name": "Python 3"
    },
    "language_info": {
      "name": "python"
    }
  },
  "cells": [
    {
      "cell_type": "markdown",
      "source": [
        "#FUNCIONES\n",
        "\n"
      ],
      "metadata": {
        "id": "GjVRoR-O0-0P"
      }
    },
    {
      "cell_type": "markdown",
      "source": [
        "*Ejercicios y examen que tuve que realizar para completar con exito este tema perteneciente al curso de Python.*"
      ],
      "metadata": {
        "id": "XLNGqSt5_0Dv"
      }
    },
    {
      "cell_type": "markdown",
      "source": [
        "**NOTA:** No es necesario usar código para comprobar si los datos introducidos por el usuario son correctos. Vamos a interpretar que así es por ahora a menos que se especifique lo contrario."
      ],
      "metadata": {
        "id": "6zZzP30504cA"
      }
    },
    {
      "cell_type": "markdown",
      "source": [
        "# EJERCICIOS"
      ],
      "metadata": {
        "id": "TQwFzcrS_ZDZ"
      }
    },
    {
      "cell_type": "markdown",
      "source": [
        "**TAREA 01**"
      ],
      "metadata": {
        "id": "8blzg16J1QM-"
      }
    },
    {
      "cell_type": "markdown",
      "source": [
        "Vamos a crear una función que cuente y devuelva todas las apariciones de una letra proporcionada por parámetro en una frase también proporcionada por parámetro."
      ],
      "metadata": {
        "id": "M25MWX2bYG9B"
      }
    },
    {
      "cell_type": "code",
      "execution_count": null,
      "metadata": {
        "id": "Z0SOk-XxXqOP"
      },
      "outputs": [],
      "source": [
        "def contar_letras(fr, le):\n",
        "    fr = fr.lower()\n",
        "    le = le.lower()\n",
        "    n = fr.count(le)\n",
        "    return n\n",
        "\n",
        "\n",
        "frase = str(input('Escribe una frase: '))\n",
        "letra = str(input('Escribe una letra: '))\n",
        "\n",
        "print(f'En la frase \\\"{frase}\\\" la letra \\\"{letra}\\\" aparace \\\"{contar_letras(fr=frase, le=letra)}\\\" veces.')"
      ]
    },
    {
      "cell_type": "markdown",
      "source": [
        "**TAREA 02**"
      ],
      "metadata": {
        "id": "ibWOQ_QZYWYz"
      }
    },
    {
      "cell_type": "markdown",
      "source": [
        "Vamos a crear una función que muestre por pantalla el triángulo de Pascal. Por parámetro se indicará el número de filas a mostrar. Por defecto n valdrá 1. Para calcular el número combinatorio en Python, utilizaremos el siguiente método:"
      ],
      "metadata": {
        "id": "ZqIEbgEhYZFC"
      }
    },
    {
      "cell_type": "code",
      "source": [
        "def combi(n, k):       # Calcula el número combinatorio n sobre k\n",
        "    import math\n",
        "\n",
        "    if (n >= k and k >= 0):\n",
        "        return math.factorial(n) / (math.factorial(k) * math.factorial(n - k))\n",
        "\n",
        "    else:\n",
        "        return 'No se puede calcular el número factorial indicado'\n",
        "\n",
        "def trian_pascal(n = 1):\n",
        "    print(1)\n",
        "\n",
        "    for i in range(1, n + 1):\n",
        "        for k in range(i + 1):\n",
        "            print(combi(i, k), end=' ')\n",
        "        print('')\n",
        "\n",
        "\n",
        "trian_pascal(5)"
      ],
      "metadata": {
        "id": "-KdvyLHLYnEn"
      },
      "execution_count": null,
      "outputs": []
    },
    {
      "cell_type": "markdown",
      "source": [
        "**TAREA 03**"
      ],
      "metadata": {
        "id": "g3ZXxfTGYp5B"
      }
    },
    {
      "cell_type": "markdown",
      "source": [
        "Vamos a crear una función recursiva que lleve a cabo una cuenta atrás."
      ],
      "metadata": {
        "id": "4Lg11YqBYtlJ"
      }
    },
    {
      "cell_type": "code",
      "source": [
        "def cuenta_atras(number):\n",
        "    \"\"\"\n",
        "    Cuenta atrás recursiva.\n",
        "    :param\n",
        "        number: Número entero positivo.\n",
        "        if: Garantizamos que una vez llegemos a cero, parará.\n",
        "        print: Vamos mostrando el número.\n",
        "    :return:\n",
        "        Ejecutamos de nuevo la función restando 1 al número.\n",
        "    \"\"\"\n",
        "    if number >= 0:\n",
        "        print(number)\n",
        "        return cuenta_atras(number - 1)\n",
        "\n",
        "\n",
        "cuenta_atras(30)"
      ],
      "metadata": {
        "id": "M35XRO0lYwH4"
      },
      "execution_count": null,
      "outputs": []
    },
    {
      "cell_type": "markdown",
      "source": [
        "**TAREA 04**"
      ],
      "metadata": {
        "id": "LwqDsKCVYypo"
      }
    },
    {
      "cell_type": "markdown",
      "source": [
        "Vamos a crear una función recursiva que calcule el factorial de un número entero positivo."
      ],
      "metadata": {
        "id": "FivO9QSoY2Gg"
      }
    },
    {
      "cell_type": "code",
      "source": [
        "def factorial(n):\n",
        "    \"\"\"\n",
        "        Calcula el número factorial de un número entero positivo\n",
        "    \n",
        "    :param \n",
        "        n: El número entero positivo\n",
        "    \n",
        "    :return:\n",
        "        Factorial de n\n",
        "    \"\"\"\n",
        "\n",
        "    if n == 0:\n",
        "        return 1\n",
        "    return n * factorial(n - 1)\n",
        "\n",
        "\n",
        "print(factorial(5))"
      ],
      "metadata": {
        "id": "9t6Jc4YkY4uY"
      },
      "execution_count": null,
      "outputs": []
    },
    {
      "cell_type": "markdown",
      "source": [
        "**TAREA 05**"
      ],
      "metadata": {
        "id": "OED9fwqhY7oP"
      }
    },
    {
      "cell_type": "markdown",
      "source": [
        "Vamos a crear una función que resuelva ecuaciones de primer grado de la forma Ax + B = 0. Siempre que A no sea 0."
      ],
      "metadata": {
        "id": "lUeR84MQY_3-"
      }
    },
    {
      "cell_type": "code",
      "source": [
        "def ecuaciones_grado1(a, b):\n",
        "    \"\"\"\n",
        "    Resuelve ecuaciones de primer grado en la forma Ax + B = 0\n",
        "    \n",
        "    :param a: Número real (coeficiente de x)\n",
        "    \n",
        "    :param b: Número real (término independiente)\n",
        "    \n",
        "    :return: Valor de x o Datos incorrectos\n",
        "    \n",
        "    \"\"\"\n",
        "    if a != 0:\n",
        "        x = -b / a\n",
        "        return x\n",
        "\n",
        "    else:\n",
        "        return 'Datos incorrectos'\n",
        "\n",
        "\n",
        "A = float(input('Dime que valor tendrá A (No puede ser 0): '))\n",
        "B = float(input('Dime que valor tendrá B: '))\n",
        "print(ecuaciones_grado1(A, B))"
      ],
      "metadata": {
        "id": "L5iu4YIYZEgu"
      },
      "execution_count": null,
      "outputs": []
    },
    {
      "cell_type": "markdown",
      "source": [
        "**TAREA 06**"
      ],
      "metadata": {
        "id": "9CBgU-sZZKmF"
      }
    },
    {
      "cell_type": "markdown",
      "source": [
        "Vamos a crear una función que haga de calculadora (suma, resta, producto y división), haciendo uso de funciones helper para mostrar la operación realizada. Pediremos por parámetro tipo de operación (\"sum\", \"subract\", \"product\", \"division\") y dos números reales. Devolveremos el resultado de la operación correspondiente."
      ],
      "metadata": {
        "id": "pkUxfxRjZNK1"
      }
    },
    {
      "cell_type": "code",
      "source": [
        "def helper_calculadora(operacion, x, y, resultado):\n",
        "    return f'La {operacion} de {x} y {y} es igual {resultado}'\n",
        "\n",
        "\n",
        "def calculadora(operacion, x, y):\n",
        "    \"\"\"\n",
        "    Calculadora que resuelve una operacion aritmética para los valores X e Y\n",
        "    :param operacion: String que indica el tipo de operación aritmética\n",
        "    :param x: Primer valor entero\n",
        "    :param y: Segundo valor entero\n",
        "    :return: Solución de la operación\n",
        "    \"\"\"\n",
        "    if operacion == 'sum':\n",
        "        resultado = x + y\n",
        "        print(helper_calculadora(operacion, x, y, resultado))\n",
        "\n",
        "    elif operacion == 'subract':\n",
        "        resultado = x - y\n",
        "        print(helper_calculadora(operacion, x, y, resultado))\n",
        "\n",
        "    elif operacion == 'product':\n",
        "        resultado = x * y\n",
        "        print(helper_calculadora(operacion, x, y, resultado))\n",
        "\n",
        "    elif operacion == 'division':\n",
        "        if x < y:\n",
        "            print('Esta operación no se puede resolver')\n",
        "        else:\n",
        "            resultado = x / y\n",
        "            print(helper_calculadora(operacion, x, y, resultado))\n",
        "\n",
        "    else:\n",
        "        print('Operación incorrecta')\n",
        "\n",
        "\n",
        "print('Vamos va realizar una operación matemática!')\n",
        "operacion = str(input('Cual eliges \"sum\", \"subract\", \"product\", \"division\": '))\n",
        "num1 = int(input('Introduce un número entero: '))\n",
        "num2 = int(input('Introduce un otro número entero: '))\n",
        "calculadora(operacion, num1, num2)"
      ],
      "metadata": {
        "id": "pIL0j2PdZWas"
      },
      "execution_count": null,
      "outputs": []
    },
    {
      "cell_type": "markdown",
      "source": [
        "# EXAMEN"
      ],
      "metadata": {
        "id": "RIqGaaKn_iAZ"
      }
    },
    {
      "cell_type": "markdown",
      "source": [
        "**EJERCICIO 01**"
      ],
      "metadata": {
        "id": "nwQqhSdm_s-h"
      }
    },
    {
      "cell_type": "markdown",
      "source": [
        "Crea una función que busque todos los divisores del número entero positivo dado por parámetro y devuelva una lista con todos los divisores de dicho número."
      ],
      "metadata": {
        "id": "Yoxwvd8xaW5O"
      }
    },
    {
      "cell_type": "code",
      "source": [
        "def divisores(num):\n",
        "    \"\"\"\n",
        "    Busca todos los divisores de un número entero.\n",
        "    :param num: Número entero solicitado.\n",
        "    :return: Lista con todos los divisores del número entero \n",
        "    \"\"\"\n",
        "    lista = []\n",
        "\n",
        "    for i in range(1, num + 1):\n",
        "\n",
        "        if num % i == 0:\n",
        "            lista.append(i)\n",
        "\n",
        "        else:\n",
        "            continue\n",
        "\n",
        "    return lista\n",
        "\n",
        "\n",
        "print(divisores(2345))"
      ],
      "metadata": {
        "id": "Zv205kDQabw7"
      },
      "execution_count": null,
      "outputs": []
    },
    {
      "cell_type": "markdown",
      "source": [
        "**EJERCICIO 02**"
      ],
      "metadata": {
        "id": "AHSv42R_bRQQ"
      }
    },
    {
      "cell_type": "markdown",
      "source": [
        "Crea una función que dados dos números reales por parámetro, devuelve el mayor."
      ],
      "metadata": {
        "id": "XAzmhyRsbVIY"
      }
    },
    {
      "cell_type": "code",
      "source": [
        "def comparativa(x, y):\n",
        "    \"\"\"\n",
        "    Calcula que número es mayor.\n",
        "    :param x: Número entero\n",
        "    :param y: Número entero\n",
        "    :return: Devuelve el número mayor de ambos en cada caso, a menos que sean iguales\n",
        "    \"\"\"\n",
        "    if x > y:\n",
        "        return x\n",
        "\n",
        "    elif y > x:\n",
        "        return y\n",
        "\n",
        "    else:\n",
        "        return 'Son iguales'\n",
        "\n",
        "print(comparativa(6754, 3245))"
      ],
      "metadata": {
        "id": "Ra5ie1JKbX81"
      },
      "execution_count": null,
      "outputs": []
    },
    {
      "cell_type": "markdown",
      "source": [
        "**EJERCICIO 03**"
      ],
      "metadata": {
        "id": "ADhmvt8Bblkm"
      }
    },
    {
      "cell_type": "markdown",
      "source": [
        "Crea una función que dado un número devuelva su valor absoluto."
      ],
      "metadata": {
        "id": "U1YbK42lbpiF"
      }
    },
    {
      "cell_type": "code",
      "source": [
        "def valor_absoluto(num):\n",
        "    \"\"\"\n",
        "    Calculamos el valor absoluto de un número.\n",
        "    :param num: Número a calcular.\n",
        "    :return: Valor absoluto de número\n",
        "    \"\"\"\n",
        "    if num >= 0:\n",
        "        return num\n",
        "    else:\n",
        "        return num * -1\n",
        "\n",
        "print(valor_absoluto(-32))"
      ],
      "metadata": {
        "id": "4nDzfmNnbuHl"
      },
      "execution_count": null,
      "outputs": []
    },
    {
      "cell_type": "markdown",
      "source": [
        "**EJERCICIO 04**"
      ],
      "metadata": {
        "id": "Y_NIxs3Vb4WM"
      }
    },
    {
      "cell_type": "markdown",
      "source": [
        "Crea una función que devuelva True si el caracter introducido por parámetro se trata de una vocal y False en caso contrario."
      ],
      "metadata": {
        "id": "lBRsClgYb71c"
      }
    },
    {
      "cell_type": "code",
      "source": [
        "def verificador(letra):\n",
        "    \"\"\"\n",
        "    Verifica si el caracter introducido es una vocal.\n",
        "    :param letra: Caracter introducido.\n",
        "    :return: True o False si es o no vocal.\n",
        "    \"\"\"\n",
        "    alf = 'aeiou'\n",
        "    if letra in alf:\n",
        "        return True\n",
        "    else:\n",
        "        return False\n",
        "\n",
        "print(verificador('a'))\n",
        "print(verificador('j'))"
      ],
      "metadata": {
        "id": "Zid9enUxcB-T"
      },
      "execution_count": null,
      "outputs": []
    },
    {
      "cell_type": "markdown",
      "source": [
        "**EJERCICIO 05**"
      ],
      "metadata": {
        "id": "uZUj94aGcO1a"
      }
    },
    {
      "cell_type": "markdown",
      "source": [
        "Crea una función que devuelva el MCD (máximo común divisor) de 2 números proporcionados por parámetro."
      ],
      "metadata": {
        "id": "2jL8EXkhcR2q"
      }
    },
    {
      "cell_type": "code",
      "source": [
        "def mcd(num1, num2):\n",
        "    \"\"\"\n",
        "    Devuelve el máximo común divisor de 2 números\n",
        "    :param num1: Número entero\n",
        "    :param num2: Número entero\n",
        "    :return: El máximo común divisor de num1 y num2\n",
        "    \"\"\"\n",
        "    if num1 > num2:\n",
        "        menor = num2\n",
        "    else:\n",
        "        menor = num1\n",
        "\n",
        "    for i in range(1, menor + 1):\n",
        "        if ((num1 % i == 0) and (num2 % i == 0)):\n",
        "            mcd_final = i\n",
        "    return mcd_final\n",
        "\n",
        "print(mcd(30, 14))"
      ],
      "metadata": {
        "id": "pYRrg478cW3Z"
      },
      "execution_count": null,
      "outputs": []
    },
    {
      "cell_type": "markdown",
      "source": [
        "**EJERCICIO 06**"
      ],
      "metadata": {
        "id": "37nYkQNjch2f"
      }
    },
    {
      "cell_type": "markdown",
      "source": [
        "Crea una función que devuelva el MCM (mínimo común múltiplo) de 2 números proporcionados por parámetro.\n"
      ],
      "metadata": {
        "id": "-PjORybVclEX"
      }
    },
    {
      "cell_type": "code",
      "source": [
        "def mcd(num1, num2):\n",
        "    \"\"\"\n",
        "    Devuelve el máximo común divisor de 2 números\n",
        "    :param num1: Número entero\n",
        "    :param num2: Número entero\n",
        "    :return: El máximo común divisor de num1 y num2\n",
        "    \"\"\"\n",
        "    if num1 > num2:\n",
        "        menor = num2\n",
        "    else:\n",
        "        menor = num1\n",
        "\n",
        "    for i in range(1, menor + 1):\n",
        "        if ((num1 % i == 0) and (num2 % i == 0)):\n",
        "            mcd_final = i\n",
        "    return mcd_final\n",
        "\n",
        "\n",
        "def mcm(num1, num2):\n",
        "    \"\"\"\n",
        "    Calculamos el mínimo común multiplo de 2 números\n",
        "    :param num1: Número entero\n",
        "    :param num2: Número entero\n",
        "    :return: Resultado mínimo común multiplo basado en multiplar los números dados\n",
        "            y dividirlos por el máximo común divisor de esos mismos números.\n",
        "    \"\"\"\n",
        "    return (num1 * num2) / mcd(num1, num2)\n",
        "\n",
        "print(mcm(32, 10))"
      ],
      "metadata": {
        "id": "SWAlyqvbcouX"
      },
      "execution_count": null,
      "outputs": []
    },
    {
      "cell_type": "markdown",
      "source": [
        "**EJERCICIO 07**"
      ],
      "metadata": {
        "id": "Fykel3jIc7PF"
      }
    },
    {
      "cell_type": "markdown",
      "source": [
        "Crea una función que dada una palabra devuelva si es palíndroma."
      ],
      "metadata": {
        "id": "fbVy1kSDc939"
      }
    },
    {
      "cell_type": "code",
      "source": [
        "def palindromo(palabra):\n",
        "    \"\"\"\n",
        "    Analiza la palabra y devuelve si es o no palíndroma.\n",
        "    :param palabra: Palabra introducida.\n",
        "    :return: Si es o no palíndroma.\n",
        "    \"\"\"\n",
        "    p = palabra.lower()\n",
        "\n",
        "    if p == p[::-1]:\n",
        "        return 'Es Palindroma'\n",
        "    else:\n",
        "        return 'NO es palíndroma'\n",
        "\n",
        "print(palindromo('ama'))\n",
        "print(palindromo('frodo'))"
      ],
      "metadata": {
        "id": "dXPpYnKydBJV"
      },
      "execution_count": null,
      "outputs": []
    },
    {
      "cell_type": "markdown",
      "source": [
        "**EJERCICIO 08**"
      ],
      "metadata": {
        "id": "Ns5t59PjdMbT"
      }
    },
    {
      "cell_type": "markdown",
      "source": [
        "Crea una función que dado un color en hexadecimal devuelva una lista de 3 posiciones, cada una de ellas correspondiente al valor R, G o B en este orden. Los valores de RGB varían entre 0 y 255."
      ],
      "metadata": {
        "id": "bbf94DPYdQFb"
      }
    },
    {
      "cell_type": "code",
      "source": [
        "def conv_hex_rgb(hexa):\n",
        "    \"\"\"\n",
        "    Convierte un codigo de color hexadecimal en codigo rgb.\n",
        "    :param hexa: El codigo hexadecimal\n",
        "    :return: El código rgb en orden R-G-B\n",
        "    \"\"\"\n",
        "    hexa = hexa.lower()\n",
        "    dicc = {'0': 0, '1': 1, '2': 2, '3': 3, '4': 4, '5': 5, '6': 6, '7': 7, '8': 8, '9': 9 ,'a': 10,\n",
        "            'b': 11, 'c': 12, 'd': 13, 'e': 14, 'f': 15}\n",
        "\n",
        "    lista = []\n",
        "    listaf = []\n",
        "    rgb = []\n",
        "\n",
        "    for elemento in hexa:\n",
        "        lista.append(elemento)\n",
        "\n",
        "    for i in range(len(hexa)):\n",
        "        listaf.append(dicc[hexa[i]])\n",
        "\n",
        "    rgb.append(int((listaf[0] * 16) + listaf[1]))\n",
        "    rgb.append(int((listaf[2] * 16) + listaf[3]))\n",
        "    rgb.append(int((listaf[4] * 16) + listaf[5]))\n",
        "\n",
        "    return rgb\n",
        "\n",
        "print(conv_hex_rgb('884EA0'))"
      ],
      "metadata": {
        "id": "YdJBXtMsdVO7"
      },
      "execution_count": null,
      "outputs": []
    },
    {
      "cell_type": "markdown",
      "source": [
        "**EJERCICIO 09**"
      ],
      "metadata": {
        "id": "7KMxxQtSdoZB"
      }
    },
    {
      "cell_type": "markdown",
      "source": [
        "Crea una función que dada una lista de palabras por parámetro, devuelva un diccionario que contenga cuántas son de longitud par y cuántas de longitud impar."
      ],
      "metadata": {
        "id": "IKQ2iiwrdq5x"
      }
    },
    {
      "cell_type": "code",
      "source": [
        "def par_impar(lista):\n",
        "    \"\"\"\n",
        "    Dada una lista de palabras calculamos cuantas tiene numeros de caracteres par e impar.\n",
        "    :param lista: Lista de palabras dadas a calcular.\n",
        "    :return: Diccionario con el número de pares e impares.\n",
        "    \"\"\"\n",
        "    dicc = {'par': 0, 'impar': 0}\n",
        "\n",
        "    for palabra in lista:\n",
        "        if len(palabra) % 2 == 0:\n",
        "            dicc['par'] += 1\n",
        "        else:\n",
        "            dicc['impar'] += 1\n",
        "\n",
        "    return dicc\n",
        "\n",
        "print(par_impar(['frodo', 'sam', 'merry', 'pippin']))"
      ],
      "metadata": {
        "id": "zsEdooZndupY"
      },
      "execution_count": null,
      "outputs": []
    },
    {
      "cell_type": "markdown",
      "source": [
        "**EJERCICIO 10**"
      ],
      "metadata": {
        "id": "MrB7e_BMeDU-"
      }
    },
    {
      "cell_type": "markdown",
      "source": [
        "Crea una función que dado un string por parámetro cuente cuántas veces sale cada caracter en dicho string y devuelva toda esa información en un diccionario."
      ],
      "metadata": {
        "id": "oUPU1OtreGBO"
      }
    },
    {
      "cell_type": "code",
      "source": [
        "def contar_letras(palabra):\n",
        "    \"\"\"\n",
        "    Introduce un string ya sea palabra o frase y cuenta cuantas veces aparece cada letra.\n",
        "    :param palabra: Palabra o frase en cuestión.\n",
        "    :return: Un diccionario con el número de apariciones de cada letra.\n",
        "    \"\"\"\n",
        "    p = palabra.lower()\n",
        "    resultado = {}\n",
        "\n",
        "    for letra in p:\n",
        "        if letra.isalpha() == True:\n",
        "            resultado[letra] = p.count(letra)\n",
        "        else:\n",
        "            continue\n",
        "\n",
        "    return resultado\n",
        "\n",
        "print(contar_letras('legolas'))"
      ],
      "metadata": {
        "id": "ub8Q3r6yeJZ1"
      },
      "execution_count": null,
      "outputs": []
    }
  ]
}