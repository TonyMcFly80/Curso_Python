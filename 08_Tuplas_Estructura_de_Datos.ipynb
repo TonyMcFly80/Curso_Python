{
  "nbformat": 4,
  "nbformat_minor": 0,
  "metadata": {
    "colab": {
      "provenance": [],
      "authorship_tag": "ABX9TyMLSmWfuCU0pYeVcF2c9ba7"
    },
    "kernelspec": {
      "name": "python3",
      "display_name": "Python 3"
    },
    "language_info": {
      "name": "python"
    }
  },
  "cells": [
    {
      "cell_type": "markdown",
      "source": [
        "#TUPLAS - ESTRUCTURA DE DATOS"
      ],
      "metadata": {
        "id": "GjVRoR-O0-0P"
      }
    },
    {
      "cell_type": "markdown",
      "source": [
        "*Ejercicios y examen que tuve que realizar para completar con exito este tema perteneciente al curso de Python.*"
      ],
      "metadata": {
        "id": "XLNGqSt5_0Dv"
      }
    },
    {
      "cell_type": "markdown",
      "source": [
        "**NOTA:** No es necesario usar código para comprobar si los datos introducidos por el usuario son correctos. Vamos a interpretar que así es por ahora a menos que se especifique lo contrario."
      ],
      "metadata": {
        "id": "6zZzP30504cA"
      }
    },
    {
      "cell_type": "markdown",
      "source": [
        "# EJERCICIOS"
      ],
      "metadata": {
        "id": "TQwFzcrS_ZDZ"
      }
    },
    {
      "cell_type": "markdown",
      "source": [
        "**TAREA 01**"
      ],
      "metadata": {
        "id": "8blzg16J1QM-"
      }
    },
    {
      "cell_type": "markdown",
      "source": [
        "Vamos a pedirle al usuario el número de números enteros que va a introducir por teclado. Para cada uno de esos números, vamos a crear una tupla donde la primera entrada sea el número entero, y la segunda, la palabra 'positivo', 'negativo' o 'cero' según el signo del número entero. Vamos a guardar todas las tuplas en una lista y la vamos a mostrar."
      ],
      "metadata": {
        "id": "hvVoaVQxgdCm"
      }
    },
    {
      "cell_type": "code",
      "source": [
        "number = int(input('Cuantos números deseas introducir?: '))\n",
        "\n",
        "tuplas = []\n",
        "\n",
        "for n in range(1, number + 1):\n",
        "    num = int(input(f'Nº{n} - Escribe un número entero: '))\n",
        "\n",
        "    if num > 0:\n",
        "        t = (num, 'positivo')\n",
        "        tuplas.append(t)\n",
        "\n",
        "    elif num < 0:\n",
        "        t = (num, 'negativo')\n",
        "        tuplas.append(t)\n",
        "\n",
        "    else:\n",
        "        t = (num, 'cero')\n",
        "        tuplas.append(t)\n",
        "\n",
        "print(tuplas)"
      ],
      "metadata": {
        "id": "yyFOQkKAgkXd"
      },
      "execution_count": null,
      "outputs": []
    },
    {
      "cell_type": "markdown",
      "source": [
        "**TAREA 02**"
      ],
      "metadata": {
        "id": "o2Qcv9Iig130"
      }
    },
    {
      "cell_type": "markdown",
      "source": [
        "Vamos a pedirle al usuario números enteros del 1 al 10 hasta que introduzca el 0. Para cada uno de esos números, vamos a crear una tupla donde la primera entrada sea el número entero y, la segunda, la palabra 'suspenso', 'aprobado', 'notable' o 'excelente' según el intervalo al que pertenezca el número entero. Vamos a mostrar la tupla recién creada al usuario.\n",
        "\n",
        "Las diferentes categorías son:\n",
        "\n",
        "- suspenso [1,5]\n",
        "- aprobado [5,7]\n",
        "- notable [7,9]\n",
        "- excelente [9,10]"
      ],
      "metadata": {
        "id": "OAT9wywhg5TD"
      }
    },
    {
      "cell_type": "code",
      "source": [
        "while True:\n",
        "    numero = int(input('Escribe un número del 1 al 10 (0 para finalizar el programa): '))\n",
        "\n",
        "    if numero in range(1, 5):\n",
        "        t = (numero, 'Suspenso')\n",
        "        print(t)\n",
        "\n",
        "    elif numero in range(5, 7):\n",
        "        t = (numero, 'Aprobado')\n",
        "        print(t)\n",
        "\n",
        "    elif numero in range(7, 9):\n",
        "        t = (numero, 'Notable')\n",
        "        print(t)\n",
        "\n",
        "    elif numero in range(9, 11):\n",
        "        t = (numero, 'Excelente')\n",
        "        print(t)\n",
        "\n",
        "    elif numero == 0:\n",
        "        print('FIN del programa')\n",
        "        break\n",
        "\n",
        "    else:\n",
        "        print('Número incorrecto')"
      ],
      "metadata": {
        "id": "sPqa1O2Tg4xz"
      },
      "execution_count": null,
      "outputs": []
    },
    {
      "cell_type": "markdown",
      "source": [
        "**TAREA 03**"
      ],
      "metadata": {
        "id": "8EH2PuoPhiYY"
      }
    },
    {
      "cell_type": "markdown",
      "source": [
        "Dada una frase introducida por el usuario, vamos a crear una lista con 3 tuplas y 2 entradas. La primera tupla tendrá el número de vocales; la segunda, el número de consonantes; y la última, el número de espacios en blanco. Para cada tupla, la primera entrada será un string explicativo y, la segunda, el valor correspondiente."
      ],
      "metadata": {
        "id": "eSuHR2bghlxw"
      }
    },
    {
      "cell_type": "code",
      "source": [
        "frase = str(input('Escribe una frase: '))\n",
        "frase = frase.lower()\n",
        "lista = []\n",
        "\n",
        "vocales = 'aeiou'\n",
        "consonantes = 'bcdfghijklmnñpqrstvwxyz'\n",
        "espacio = ' '\n",
        "\n",
        "count_v = 0\n",
        "count_c = 0\n",
        "count_e = 0\n",
        "\n",
        "for letra in frase:\n",
        "\n",
        "    if letra in vocales:\n",
        "        count_v += 1\n",
        "\n",
        "    elif letra in consonantes:\n",
        "        count_c += 1\n",
        "\n",
        "    elif letra in espacio:\n",
        "        count_e += 1\n",
        "\n",
        "    else:\n",
        "        continue\n",
        "\n",
        "t1 = ('Vocales en la frase', count_v)\n",
        "lista.append(t1)\n",
        "\n",
        "t2 = ('Consonantes en la frase', count_c)\n",
        "lista.append(t2)\n",
        "\n",
        "t3 = ('Espacios en la frase', count_e)\n",
        "lista.append(t3)\n",
        "\n",
        "print(lista)"
      ],
      "metadata": {
        "id": "byI61F9AhuvP"
      },
      "execution_count": null,
      "outputs": []
    },
    {
      "cell_type": "markdown",
      "source": [
        "**TAREA 04**"
      ],
      "metadata": {
        "id": "V1dskiIoh39W"
      }
    },
    {
      "cell_type": "markdown",
      "source": [
        "Vamos a pedirle al usuario una asignatura ('Mates', 'Lengua', 'Historia', 'Informática' o 'Música') y la nota en dicha asignatura hasta que introduzca una asignatura diferente a las indicadas. El usuario puede repetir una asignatura tantas veces como quiera. La nota tendrá que ser del 1 al 10. Guardaremos la información (asignatura, nota) en una tupla. Las tuplas serán guardadas en una lista. Finalmente, para cada asignatura, vamos a mostrar la nota media."
      ],
      "metadata": {
        "id": "6YIxbqcYh7AG"
      }
    },
    {
      "cell_type": "code",
      "source": [
        "lista = []\n",
        "\n",
        "c_mat = 0\n",
        "c_len = 0\n",
        "c_his = 0\n",
        "c_inf = 0\n",
        "c_mus = 0\n",
        "\n",
        "mat = 0\n",
        "len = 0\n",
        "his = 0\n",
        "inf = 0\n",
        "mus = 0\n",
        "\n",
        "while True:\n",
        "    asignatura = int(input('Elige entre 1.Mates, 2.Lengua, 3.Historia, 4.Informatica o 5.Musica (0 para Finalizar): '))\n",
        "\n",
        "    if asignatura == 1:\n",
        "        nota = float(input('Escribe la nota de Mates: '))\n",
        "        mat = mat + nota\n",
        "        c_mat += 1\n",
        "\n",
        "    elif asignatura == 2:\n",
        "        nota = float(input('Escribe la nota de Lengua: '))\n",
        "        len = len + nota\n",
        "        c_len += 1\n",
        "\n",
        "    elif asignatura == 3:\n",
        "        nota = float(input('Escribe la nota de Historia: '))\n",
        "        his = his + nota\n",
        "        c_his += 1\n",
        "\n",
        "    elif asignatura == 4:\n",
        "        nota = float(input('Escribe la nota de Informática: '))\n",
        "        inf = inf + nota\n",
        "        c_inf += 1\n",
        "\n",
        "    elif asignatura == 5:\n",
        "        nota = float(input('Escribe la nota de Música: '))\n",
        "        mus = mus + nota\n",
        "        c_mus += 1\n",
        "\n",
        "    else:\n",
        "        break\n",
        "\n",
        "if mat == 0:\n",
        "    t1 = ('Mates', 0)\n",
        "else:\n",
        "    t1 = ('Mates', mat / c_mat)\n",
        "    lista.append(t1)\n",
        "\n",
        "if len == 0:\n",
        "    t2 = ('Lengua', 0)\n",
        "else:\n",
        "    t2 = ('Lengua', len / c_len)\n",
        "    lista.append(t2)\n",
        "\n",
        "if his == 0:\n",
        "    t3 = ('Historia', 0)\n",
        "else:\n",
        "    t3 = ('Historia', his / c_his)\n",
        "    lista.append(t3)\n",
        "\n",
        "if inf == 0:\n",
        "    t4 = ('Informática', 0)\n",
        "else:\n",
        "    t4 = ('Informática', inf / c_inf)\n",
        "    lista.append(t4)\n",
        "\n",
        "if mus == 0:\n",
        "    t5 = ('Música', 0)\n",
        "else:\n",
        "    t5 = ('Música', mus / c_mus)\n",
        "    lista.append(t5)\n",
        "\n",
        "print('\\nLas notas medias de las asignaturas son:\\n')\n",
        "print(lista)"
      ],
      "metadata": {
        "id": "tLAUxIN1iI28"
      },
      "execution_count": null,
      "outputs": []
    },
    {
      "cell_type": "markdown",
      "source": [
        "**TAREA 05**"
      ],
      "metadata": {
        "id": "OED9fwqhY7oP"
      }
    },
    {
      "cell_type": "markdown",
      "source": [
        "Vamos a pedirle al usuario el número de puntos de un plano que quiere introducir. Para cada punto, vamos a solicitarle las coordenadas x e y. Guardaremos las coordenadas (x, y) en tuplas de tamaño 3, donde la última entrada se corresponde con el cuadrante al que pertenece dicho punto. Todas las tuplas de tamaño 3 serán guardadas en una lista. Finalmente, mostraremos todas las tuplas de tamaño 3 creadas, con el formato \"El punto ({x}, {y}) pertenece al cuadrante {cuadrante}\""
      ],
      "metadata": {
        "id": "lUeR84MQY_3-"
      }
    },
    {
      "cell_type": "code",
      "source": [
        "n = int(input(\"¿Cuántos puntos vas a introducir? \"))\n",
        "puntos = []\n",
        "\n",
        "for i in range(n):\n",
        "    x = float(input(\"Indica la coordenada x = \"))\n",
        "    y = float(input(\"Indica la coordenada y = \"))\n",
        "\n",
        "    if x >= 0 and y >= 0:\n",
        "        cuadrante = \"I\"\n",
        "\n",
        "    elif x <= 0 and y >= 0:\n",
        "        cuadrante = \"II\"\n",
        "\n",
        "    elif x <= 0 and y <= 0:\n",
        "        cuadrante = \"III\"\n",
        "\n",
        "    elif x >= 0 and y <= 0:\n",
        "        cuadrante = \"IV\"\n",
        "\n",
        "    elif x == 0 and y == 0:\n",
        "        cuadrante = \"center\"\n",
        "\n",
        "    puntos.append((x, y, cuadrante))\n",
        "\n",
        "for punto in puntos:\n",
        "    x, y, cuadrante = punto\n",
        "    print(f\"El punto ({x}, {y}) pertenece al cuadrante {cuadrante}\")"
      ],
      "metadata": {
        "id": "L5iu4YIYZEgu"
      },
      "execution_count": null,
      "outputs": []
    },
    {
      "cell_type": "markdown",
      "source": [
        "**TAREA 06**"
      ],
      "metadata": {
        "id": "hSlf8ECXjXrd"
      }
    },
    {
      "cell_type": "markdown",
      "source": [
        "Dada una lista de palabras, vamos a crear otra lista del mismo tamaño que guarde la primera letra de cada palabra en la posición correspondiente. Por último, con la función zip() crearemos una tupla de tuplas con la palabra en la primera entrada y la letra con la que empieza, en la segunda."
      ],
      "metadata": {
        "id": "Kk-L3FH3jcvd"
      }
    },
    {
      "cell_type": "code",
      "source": [
        "palabras = ['frodo', 'sam', 'pippin', 'merry']\n",
        "iniciales = []\n",
        "\n",
        "for xp in palabras:\n",
        "    iniciales.append(xp[0])\n",
        "\n",
        "anillo = zip(palabras, iniciales)\n",
        "\n",
        "tupla = tuple(anillo)\n",
        "\n",
        "print(tupla)"
      ],
      "metadata": {
        "id": "ULq_tOe2jgZ6"
      },
      "execution_count": null,
      "outputs": []
    },
    {
      "cell_type": "markdown",
      "source": [
        "# EXAMEN"
      ],
      "metadata": {
        "id": "NN1p5e9IjrMH"
      }
    },
    {
      "cell_type": "markdown",
      "source": [
        "**EJERCICIO 01**"
      ],
      "metadata": {
        "id": "n5lEjJKnjuP7"
      }
    },
    {
      "cell_type": "markdown",
      "source": [
        "Pide al usuario el número de números enteros que va a introducir por teclado. Para cada uno de esos números, crea una tupla donde la primera entrada sea el número entero y, la segunda, la palabra “par” o “impar” según la paridad del número entero. Muestra la tupla recién creada al usuario."
      ],
      "metadata": {
        "id": "ICNlXBYVjyji"
      }
    },
    {
      "cell_type": "code",
      "source": [
        "number = int(input('Cuantos números deseas introducir?: '))\n",
        "\n",
        "for n in range(1, number + 1):\n",
        "    num = int(input(f'Nº{n} - Escribe un número entero: '))\n",
        "\n",
        "    if num % 2 == 0:\n",
        "        print((num, 'par'))\n",
        "\n",
        "    else:\n",
        "        print((num, 'impar'))\n",
        "\n",
        "print('FIN DEL PROGRAMA')"
      ],
      "metadata": {
        "id": "hl4QJBWij3fC"
      },
      "execution_count": null,
      "outputs": []
    },
    {
      "cell_type": "markdown",
      "source": [
        "**EJERCICIO 02**"
      ],
      "metadata": {
        "id": "S0XPRhw9j9n5"
      }
    },
    {
      "cell_type": "markdown",
      "source": [
        "Dado un año proporcionado por el usuario, crea una tupla de dos elementos cuya primera entrada sea el año y, la segunda entrada, el horóscopo chino correspondiente."
      ],
      "metadata": {
        "id": "q-NBrYqakBAR"
      }
    },
    {
      "cell_type": "code",
      "source": [
        "year = int(input('Introduce un año: '))\n",
        "\n",
        "formula = year % 12\n",
        "\n",
        "dicc = {0: 'Mono', 1: 'Gallo', 2: 'Perro', 3: 'Cerdo', 4: 'Rata', 5: 'Buey', 6: 'Tigre', 7: 'Conejo',\n",
        "        8: 'Dragón', 9: 'Serpiente', 10: 'Caballo', 11: 'Cabra'}\n",
        "\n",
        "for key, value in dicc.items():\n",
        "\n",
        "    if key == formula:\n",
        "        t = year, value\n",
        "        print(t)\n",
        "\n",
        "    else:\n",
        "        continue"
      ],
      "metadata": {
        "id": "BORPtV7bkEyB"
      },
      "execution_count": null,
      "outputs": []
    },
    {
      "cell_type": "markdown",
      "source": [
        "**EJERCICIO 03**"
      ],
      "metadata": {
        "id": "YL1WuwZ2kKu4"
      }
    },
    {
      "cell_type": "markdown",
      "source": [
        "Dada una frase proporcionada por el usuario, crea una lista de tuplas indicando palabra, longitud de cada palabra, letra inicial y posición que ocupan dentro de la frase."
      ],
      "metadata": {
        "id": "es6pC_9nkN-w"
      }
    },
    {
      "cell_type": "code",
      "source": [
        "frase = str(input('Escribe una frase: '))\n",
        "frase = frase.lower()\n",
        "\n",
        "final = frase.split(' ')\n",
        "\n",
        "lista = []\n",
        "\n",
        "indice = 1\n",
        "\n",
        "for palabra in final:\n",
        "  t = palabra, len(palabra), palabra[0], indice\n",
        "  indice += 1\n",
        "  lista.append(t)\n",
        "\n",
        "print(lista)"
      ],
      "metadata": {
        "id": "SyAx_GbPkSFv"
      },
      "execution_count": null,
      "outputs": []
    },
    {
      "cell_type": "markdown",
      "source": [
        "**EJERCICIO 04**"
      ],
      "metadata": {
        "id": "BVI9Z3ArlD17"
      }
    },
    {
      "cell_type": "markdown",
      "source": [
        "Haz que el usuario introduzca palabras hasta que introduzca una palabra vacía. Guarda todas las palabras en una tupla y muestra la primera y la última introducidas haciendo uso del método unpacking.\n",
        "\n",
        "PISTA: Para guardar los elementos de uno en uno vas a tener que utilizar un tipo de dato que no es tupla y luego transformarlo a tupla."
      ],
      "metadata": {
        "id": "pnEXwPD7lGwC"
      }
    },
    {
      "cell_type": "code",
      "source": [
        "lista = []\n",
        "\n",
        "while True:\n",
        "\n",
        "    palabra = str(input('Escribe una palabra (Enter para finalizar): '))\n",
        "\n",
        "    if palabra != '':\n",
        "        lista.append(palabra.lower())\n",
        "\n",
        "    else:\n",
        "        break\n",
        "\n",
        "tupla = tuple(lista)\n",
        "(palabra1, *resto, palabra2) = tupla\n",
        "\n",
        "print((palabra1, palabra2))"
      ],
      "metadata": {
        "id": "bXOYtIq8lOcK"
      },
      "execution_count": null,
      "outputs": []
    },
    {
      "cell_type": "markdown",
      "source": [
        "**EJERCICIO 05**"
      ],
      "metadata": {
        "id": "NJDuygN5lcHI"
      }
    },
    {
      "cell_type": "markdown",
      "source": [
        "Dada una lista de palabras, crea otra lista del mismo tamaño que guarde la longitud de cada palabra. Usa la función zip() para crear un diccionario con claves las palabras y valores, su longitud."
      ],
      "metadata": {
        "id": "Z2XElNpDlfyo"
      }
    },
    {
      "cell_type": "code",
      "source": [
        "palabras = ['Legolas', 'Gimli', 'Aragorn', 'Boromir', 'Gandalf', 'Sam', 'Merry', 'Pippin', 'Frodo']\n",
        "longitud = []\n",
        "\n",
        "for xp in palabras:\n",
        "    longitud.append(len(xp))\n",
        "\n",
        "anillo = zip(palabras, longitud)\n",
        "\n",
        "dicc = dict(anillo)\n",
        "\n",
        "print(dicc)"
      ],
      "metadata": {
        "id": "smydbwx2ljt4"
      },
      "execution_count": null,
      "outputs": []
    },
    {
      "cell_type": "markdown",
      "source": [
        "**EJERCICIO 06**"
      ],
      "metadata": {
        "id": "SBUYU4K_mAll"
      }
    },
    {
      "cell_type": "markdown",
      "source": [
        "Haz que el usuario introduzca palabras hasta que introduzca una palabra vacía. Guarda todas las palabras en una tupla y muestra la tupla y el número total de caracteres que ha introducido.\n",
        "\n",
        "PISTA: Para guardar los elementos de uno en uno vas a tener que utilizar un tipo de dato que no es tupla y luego transformarlo a tupla."
      ],
      "metadata": {
        "id": "FRmTbx6vmDKM"
      }
    },
    {
      "cell_type": "code",
      "source": [
        "lista = []\n",
        "\n",
        "while True:\n",
        "\n",
        "    palabra = str(input('Escribe una palabra (Enter para finalizar): '))\n",
        "\n",
        "    if palabra != '':\n",
        "        lista.append(palabra.lower())\n",
        "\n",
        "    else:\n",
        "        break\n",
        "\n",
        "caracteres = 0\n",
        "\n",
        "for palabra in lista:\n",
        "    caracteres = len(palabra) + caracteres\n",
        "\n",
        "lista.append(caracteres)\n",
        "\n",
        "tupa = tuple(lista)\n",
        "\n",
        "print(tupa)"
      ],
      "metadata": {
        "id": "vHw8qzXFmKc5"
      },
      "execution_count": null,
      "outputs": []
    },
    {
      "cell_type": "markdown",
      "source": [
        "**EJERCICIO 07**"
      ],
      "metadata": {
        "id": "fIsXvp4vmaFR"
      }
    },
    {
      "cell_type": "markdown",
      "source": [
        "Crea una lista de 20 tuplas de tamaño 2. La primera entrada será un número entero entre 1 y 20 y la segunda entrada contendrá una lista con los 10 primeros múltiplos del número entero correspondiente. Por último, muestra las tablas de multiplicar del 1 al 20 con el formato “1 x 1 = 1”."
      ],
      "metadata": {
        "id": "zqM8IutGmc0Z"
      }
    },
    {
      "cell_type": "code",
      "source": [
        "lista = []\n",
        "\n",
        "numero = int(input('Escribe un número entero entre 1 y 20: '))\n",
        "\n",
        "if numero in range(1, 21):\n",
        "\n",
        "    for n in range(1, 21):\n",
        "        t = numero, n\n",
        "        lista.append(t)\n",
        "        print(f'{numero} x {n} = {numero * n}')\n",
        "else:\n",
        "    print('Número incorrecto')"
      ],
      "metadata": {
        "id": "-5bQYJh8mh65"
      },
      "execution_count": null,
      "outputs": []
    },
    {
      "cell_type": "markdown",
      "source": [
        "**EJERCICIO 08**"
      ],
      "metadata": {
        "id": "CVDE00s9mmfh"
      }
    },
    {
      "cell_type": "markdown",
      "source": [
        "Pide al usuario dos números enteros por teclado. Asegúrate de que el primero es mayor o igual al segundo. Realiza la división entera y guarda en una tupla el dividendo, el divisor, el cociente y el resto de la divisón entera realizada y muéstrale al usuario el resultado por pantalla."
      ],
      "metadata": {
        "id": "8BRHhAb6mpD4"
      }
    },
    {
      "cell_type": "code",
      "source": [
        "A = int(input('Escribe un número entero: '))\n",
        "B = int(input('Escribe otro número entero pero menor al anterior: '))\n",
        "\n",
        "lista = []\n",
        "\n",
        "if A > B:\n",
        "    coc = A // B\n",
        "    res = A % B\n",
        "    t = A, B, coc, res\n",
        "    lista.append(t)\n",
        "\n",
        "else:\n",
        "    print('Datos incorrectos')\n",
        "\n",
        "tupla = tuple(lista)\n",
        "\n",
        "print(tupla)\n",
        "print(f'Al dividir un dividendo {A} entre un divisor {B}, el cociente es {coc} con un resto de {res}')    "
      ],
      "metadata": {
        "id": "LkeukV3smxfQ"
      },
      "execution_count": null,
      "outputs": []
    },
    {
      "cell_type": "markdown",
      "source": [
        "**EJERCICIO 09**"
      ],
      "metadata": {
        "id": "Xd1-J1n4m5Oe"
      }
    },
    {
      "cell_type": "markdown",
      "source": [
        "Pide al usuario números entre 0 y 360. Para cada número, crea una tupla donde la primera entrada sea dicho número y, la segunda, la medida angular correspondiente en radianes. Recuerda, 360◦ = 2πrad. En este caso, utiliza π = 3.141592653589793"
      ],
      "metadata": {
        "id": "n8aO4lzVm8EO"
      }
    },
    {
      "cell_type": "code",
      "source": [
        "numero = int(input('Escribe un número entre 0 y 360: '))\n",
        "\n",
        "if numero in range(0, 361):\n",
        "    formula = numero * ((2 * 3.141592653589793) / 360)\n",
        "\n",
        "    tupla = numero, formula\n",
        "\n",
        "    print(tupla)\n",
        "\n",
        "else:\n",
        "    print('Datos incorrectos')"
      ],
      "metadata": {
        "id": "DtUb7LfDnCNz"
      },
      "execution_count": null,
      "outputs": []
    },
    {
      "cell_type": "markdown",
      "source": [
        "**EJERCICIO 10**"
      ],
      "metadata": {
        "id": "a504O0z0nHD1"
      }
    },
    {
      "cell_type": "markdown",
      "source": [
        "Pide al usuario números complejos. Para cada número, crea una tupla donde la primera entrada sea dicho número complejo, la segunda, su opuesto y, la tercera, su conjugado."
      ],
      "metadata": {
        "id": "6ZPzsMgwnJud"
      }
    },
    {
      "cell_type": "code",
      "source": [
        "print('/// Vamos a Jugar con números complejos ///')\n",
        "\n",
        "real = int(input('Introduce el número entero de la parte real: '))\n",
        "imag = int(input('Introduce el número entero de la parte imaginaria: '))\n",
        "\n",
        "n = complex(real, imag)\n",
        "\n",
        "t = complex(real, imag), complex(imag, real), n.conjugate()\n",
        "\n",
        "print('\\n Vamos a mostrar en orden el número complejo, su opuesto y su conjugado\\n')\n",
        "print(t)  "
      ],
      "metadata": {
        "id": "9-jrX125nPXE"
      },
      "execution_count": null,
      "outputs": []
    }
  ]
}