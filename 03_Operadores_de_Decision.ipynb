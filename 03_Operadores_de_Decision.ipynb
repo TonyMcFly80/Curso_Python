{
  "nbformat": 4,
  "nbformat_minor": 0,
  "metadata": {
    "colab": {
      "provenance": [],
      "authorship_tag": "ABX9TyP32ytiWR477CceXMXHvULi"
    },
    "kernelspec": {
      "name": "python3",
      "display_name": "Python 3"
    },
    "language_info": {
      "name": "python"
    }
  },
  "cells": [
    {
      "cell_type": "markdown",
      "source": [
        "#OPERADORES DE DECISIÓN"
      ],
      "metadata": {
        "id": "GjVRoR-O0-0P"
      }
    },
    {
      "cell_type": "markdown",
      "source": [
        "*Ejercicios y examen que tuve que realizar para completar con exito este tema perteneciente al curso de Python.*"
      ],
      "metadata": {
        "id": "XLNGqSt5_0Dv"
      }
    },
    {
      "cell_type": "markdown",
      "source": [
        "**NOTA:** No es necesario usar código para comprobar si los datos introducidos por el usuario son correctos. Vamos a interpretar que así es por ahora a menos que se especifique lo contrario."
      ],
      "metadata": {
        "id": "6zZzP30504cA"
      }
    },
    {
      "cell_type": "markdown",
      "source": [
        "# EJERCICIOS"
      ],
      "metadata": {
        "id": "TQwFzcrS_ZDZ"
      }
    },
    {
      "cell_type": "markdown",
      "source": [
        "**TAREA 01**"
      ],
      "metadata": {
        "id": "8blzg16J1QM-"
      }
    },
    {
      "cell_type": "markdown",
      "source": [
        "Dado un str, vamos a comprobar si contiene espacios en blamco y, en caso de ser cierto, contaremos cuantos tiene."
      ],
      "metadata": {
        "id": "87LTanj3gFHZ"
      }
    },
    {
      "cell_type": "code",
      "source": [
        "s = 'He visto rayos-C brillar en la oscuridad cerca de la Puerta de Tannhäuser'\n",
        "caracter = ' '\n",
        "contador = s.count(caracter)\n",
        "\n",
        "if caracter in s:\n",
        "    print(f'El string tiene {contador} espacios.')\n",
        "else:\n",
        "    print('No tiene espacios')"
      ],
      "metadata": {
        "id": "JgmO0TOUgM02"
      },
      "execution_count": null,
      "outputs": []
    },
    {
      "cell_type": "markdown",
      "source": [
        "**TAREA 02**"
      ],
      "metadata": {
        "id": "oMC9s6APgPKg"
      }
    },
    {
      "cell_type": "markdown",
      "source": [
        "Vamos a hacer un programa que resuelva ecuaciones de primer grado de la forma Ax + B = 0 proporcionadas por el usuario, donde A será distinta de 0."
      ],
      "metadata": {
        "id": "yq8CcW-igRuY"
      }
    },
    {
      "cell_type": "code",
      "source": [
        "print('Vamos a ejecutar una ecuación! Ax + B = 0')\n",
        "A = float(input('Dime que valor tendrá A (No puede ser 0): '))\n",
        "B = float(input('Dime que valor tendrá B: '))\n",
        "\n",
        "if A != 0:\n",
        "    solucion = -B / A\n",
        "    print(f'La solución es x = {solucion}')\n",
        "\n",
        "else:\n",
        "    print('Los datos no son correctos')"
      ],
      "metadata": {
        "id": "7YKmRcmggVTY"
      },
      "execution_count": null,
      "outputs": []
    },
    {
      "cell_type": "markdown",
      "source": [
        "**TAREA 03**"
      ],
      "metadata": {
        "id": "s0R2XsIAgYLg"
      }
    },
    {
      "cell_type": "markdown",
      "source": [
        "Vamos a comprobar si un número es par o impar usando el operador ternario."
      ],
      "metadata": {
        "id": "NEe2ohZpgarI"
      }
    },
    {
      "cell_type": "code",
      "source": [
        "numero = int(input('Escribe un número entero: '))\n",
        "texto_par = f'El número {numero} es par.'\n",
        "texto_impar = f'El número {numero} es impar.'\n",
        "\n",
        "print(texto_par) if numero % 2 == 0 else print(texto_impar)"
      ],
      "metadata": {
        "id": "LXTM771Rgde4"
      },
      "execution_count": null,
      "outputs": []
    },
    {
      "cell_type": "markdown",
      "source": [
        "**TAREA 04**"
      ],
      "metadata": {
        "id": "vpjVCrE5gtzH"
      }
    },
    {
      "cell_type": "markdown",
      "source": [
        "Vamos a comprobar si un año es bisiesto o no. Un año es bisiesto si es divisible entre 4, pero no es multiplo de cien, a no ser que lo sea de 400."
      ],
      "metadata": {
        "id": "puGRzdBVgwbP"
      }
    },
    {
      "cell_type": "code",
      "source": [
        "year = int(input('Introduce un año y comprobaremos si es bisiesto: '))\n",
        "\n",
        "if year % 4 == 0:\n",
        "    if year % 100 == 0:\n",
        "        if year % 400 == 0:\n",
        "            print(f'El año {year} SI es bisiesto')\n",
        "        else:\n",
        "            print(f'El año {year} NO es bisiesto')\n",
        "    else:\n",
        "        print(f'El año {year} SI es bisiesto')\n",
        "else:\n",
        "    print(f'El año {year} NO es bisiesto')"
      ],
      "metadata": {
        "id": "Zm5fT-J2gz3-"
      },
      "execution_count": null,
      "outputs": []
    },
    {
      "cell_type": "markdown",
      "source": [
        "# EXAMEN"
      ],
      "metadata": {
        "id": "NN1p5e9IjrMH"
      }
    },
    {
      "cell_type": "markdown",
      "source": [
        "**EJERCICIO 01**"
      ],
      "metadata": {
        "id": "n5lEjJKnjuP7"
      }
    },
    {
      "cell_type": "markdown",
      "source": [
        "Haz que un usuario introduzca un número real y evalúa si dicho número es positivo, negativo o cero. Devuelve por pantalla el resultado en cada caso."
      ],
      "metadata": {
        "id": "psQ5ZMrcg-yO"
      }
    },
    {
      "cell_type": "code",
      "source": [
        "numero = float(input('Introduce un número: '))\n",
        "\n",
        "if numero < 0:\n",
        "    print('El número introducido es negativo')\n",
        "elif numero > 0:\n",
        "    print('El número introducido es positivo')\n",
        "else:\n",
        "    print('El número introducido es cero')"
      ],
      "metadata": {
        "id": "eittLE7WhB-N"
      },
      "execution_count": null,
      "outputs": []
    },
    {
      "cell_type": "markdown",
      "source": [
        "**EJERCICIO 02**"
      ],
      "metadata": {
        "id": "D4CouUNdhFct"
      }
    },
    {
      "cell_type": "markdown",
      "source": [
        "Haz que un usuario introduzca su nombre y evalúa con operadores if y else si dicho nombre tiene una longitud mayor a 10 caracteres o no. Devuelve por pantalla el resultado en cada caso."
      ],
      "metadata": {
        "id": "Lm0id7qohIlt"
      }
    },
    {
      "cell_type": "code",
      "source": [
        "nombre = input('Escribe tu nombre: ')\n",
        "if len(nombre) >= 10:\n",
        "    print(f'Tu nombre {nombre} tiene al menos 10 caracteres')\n",
        "else:\n",
        "    print(f'Tu nombre {nombre} es inferior a 10 caracteres')"
      ],
      "metadata": {
        "id": "vvLX9IezhM6V"
      },
      "execution_count": null,
      "outputs": []
    },
    {
      "cell_type": "markdown",
      "source": [
        "**EJERCICIO 03**"
      ],
      "metadata": {
        "id": "l-8zBBO7hQSM"
      }
    },
    {
      "cell_type": "markdown",
      "source": [
        "Realiza el ejercicio anterior con el uso del operador ternario."
      ],
      "metadata": {
        "id": "BhlLgMhDhTEM"
      }
    },
    {
      "cell_type": "code",
      "source": [
        "nombre = input('Escribe tu nombre: ')\n",
        "print(f'Tu nombre {nombre} tiene al menos 10 caracteres') if len(nombre) > 10 else print(f'Tu nombre {nombre} es inferior a 10 caracteres')"
      ],
      "metadata": {
        "id": "kiOVguTChWF0"
      },
      "execution_count": null,
      "outputs": []
    },
    {
      "cell_type": "markdown",
      "source": [
        "**EJERCICIO 04**"
      ],
      "metadata": {
        "id": "YJmN4x75hduT"
      }
    },
    {
      "cell_type": "markdown",
      "source": [
        "Haz que un usuario introduzca dos números enteros positivos. Comprueba si el primer número introducido por el usuario es mayor o igual que el segundo número introducido por el usuario. Devuelve por pantalla el resultado en cada caso."
      ],
      "metadata": {
        "id": "6B_M7b4Zhilb"
      }
    },
    {
      "cell_type": "code",
      "source": [
        "num1 = int(input('Introduce un número entero positivo: '))\n",
        "num2 = int(input('Introduce un segundo número entero positivo: '))\n",
        "\n",
        "if num1 > num2:\n",
        "    print(f'El número {num1} es mayor a {num2}.')\n",
        "elif num1 == num2:\n",
        "    print(f'Ambos números: {num1} y {num2} son iguales.')\n",
        "else:\n",
        "    print(f'El número {num1} es menor a {num2}.')"
      ],
      "metadata": {
        "id": "vA7T2n5HhmNj"
      },
      "execution_count": null,
      "outputs": []
    },
    {
      "cell_type": "markdown",
      "source": [
        "**EJERCICIO 05**"
      ],
      "metadata": {
        "id": "R-bPlPaahpLL"
      }
    },
    {
      "cell_type": "markdown",
      "source": [
        "Haz que un usuario introduzca dos números enteros positivos. Suponiendo que el primer número introducido por el usuario es mayor o igual al segundo número introducido por el usuario, comprueba que la división del primer número entre el segundo número es exacta.\n",
        "\n",
        "En caso de la división ser exacta, devuelve el cociente por pantalla e indica que la división en efecto es exacta.\n",
        "\n",
        "En caso de la división no ser exacta, devuelve el cociente y el resto por pantalla e indica que la división entre los dos números no es exacta."
      ],
      "metadata": {
        "id": "IvQ11JozhsI6"
      }
    },
    {
      "cell_type": "code",
      "source": [
        "num1 = int(input('Introduce un número entero positivo: '))\n",
        "num2 = int(input('Introduce un segundo número entero positivo menor o igual al anterior: '))\n",
        "\n",
        "if num1 >= num2:\n",
        " \n",
        "    if num1 % num2 == 0:\n",
        "        cociente = num1 / num2\n",
        "        print(f'El resultado de dicha división es {cociente} y es exacta.')\n",
        " \n",
        "    elif num1 % num2 != 0:\n",
        "        cociente = num1 / num2\n",
        "        resto = num1 % num2\n",
        "        print(f'El resultado de dicha división es {cociente} con un resto de {resto}.')\n",
        "        \n",
        "else:\n",
        "    print('Los números no son válidos')"
      ],
      "metadata": {
        "id": "guZ9-bHxhzdq"
      },
      "execution_count": null,
      "outputs": []
    },
    {
      "cell_type": "markdown",
      "source": [
        "**EJERCICIO 06**"
      ],
      "metadata": {
        "id": "1wntqIbmh2Wq"
      }
    },
    {
      "cell_type": "markdown",
      "source": [
        "Fusiona lo hecho en los ejercicios 4 y 5 para que:\n",
        "\n",
        "1. Un usuario introduzca dos números enteros por pantalla.\n",
        "2. Comprobar si el primer número es mayor o igual al segundo número introducido por el usuario. Devolver por pantalla en que caso nos encontramos.\n",
        "3. Hacer la división entera pertinente en cada caso.\n",
        "4. Si la división es exacta, entonces devolver por pantalla el cociente e indicar que la división es exacta. Si la división no es exacta, entonces devolver por pantalla el cociente y el resto e indicar que la división realizada no es exacta."
      ],
      "metadata": {
        "id": "Xuz39uudh5jZ"
      }
    },
    {
      "cell_type": "code",
      "source": [
        "num1 = int(input('Introduce un número entero positivo: '))\n",
        "num2 = int(input('Introduce un segundo número entero positivo menor o igual al anterior: '))\n",
        "\n",
        "if num1 >= num2:\n",
        "    print(f'El número {num1} es mayor o igual al número {num2}.')\n",
        "\n",
        "    if num1 % num2 == 0:\n",
        "        cociente = num1 / num2\n",
        "        print(f'El resultado de dicha división es {cociente} y es exacta.')\n",
        "\n",
        "    elif num1 % num2 != 0:\n",
        "        cociente = num1 / num2\n",
        "        resto = num1 % num2\n",
        "        print(f'El resultado de dicha división es {cociente} con un resto de {resto}.')\n",
        "\n",
        "else:\n",
        "    print(f'El número {num1} es menor a {num2}.')\n",
        "    print('Los números no son válidos')"
      ],
      "metadata": {
        "id": "H5Kvf6YOiE3J"
      },
      "execution_count": null,
      "outputs": []
    },
    {
      "cell_type": "markdown",
      "source": [
        "**EJERCICIO 07**"
      ],
      "metadata": {
        "id": "lQW_XBKHiJ2w"
      }
    },
    {
      "cell_type": "markdown",
      "source": [
        "Haz que un usuario introduzca dos números enteros positivos. Comprueba si el mayor es múltiplo del menor. Devuelve por pantalla el resultado en cada caso."
      ],
      "metadata": {
        "id": "jm9IgkAqiMto"
      }
    },
    {
      "cell_type": "code",
      "source": [
        "num1 = int(input('Introduce un número entero positivo: '))\n",
        "num2 = int(input('Introduce un segundo número entero positivo menor al anterior: '))\n",
        "\n",
        "if num1 > num2:\n",
        "    \n",
        "    if num1 % num2 == 0:\n",
        "        print(f'{num1} es múltiplo de {num2}')\n",
        " \n",
        "    elif num1 % num2 != 0:\n",
        "        print(f'{num1} no es múltiplo de {num2}')\n",
        "\n",
        "else:\n",
        "    print('Los números no son válidos')"
      ],
      "metadata": {
        "id": "souO2S2NiRGY"
      },
      "execution_count": null,
      "outputs": []
    },
    {
      "cell_type": "markdown",
      "source": [
        "**EJERCICIO 08**"
      ],
      "metadata": {
        "id": "tlE7BHH2iUEf"
      }
    },
    {
      "cell_type": "markdown",
      "source": [
        "Haz que un usuario introduzca una palabra y comprueba si dicha palabra empieza por mayúscula. Devuelve por pantalla el resultado en cada caso."
      ],
      "metadata": {
        "id": "9lDK6pSjiWvH"
      }
    },
    {
      "cell_type": "code",
      "source": [
        "palabra = input('Escribe una palabra: ')\n",
        "\n",
        "if palabra.isalpha() is False:\n",
        "    print(f'La palabra \\\"{palabra}\\\" no es válida')\n",
        "\n",
        "elif palabra[0].isupper() is True:\n",
        "    print(f'La palabra \\\"{palabra}\\\" comienza por mayúsculas.')\n",
        "\n",
        "else:\n",
        "    print(f'La palabra \\\"{palabra}\\\" comienza por minúsculas.')"
      ],
      "metadata": {
        "id": "abap7mpIiaLP"
      },
      "execution_count": null,
      "outputs": []
    },
    {
      "cell_type": "markdown",
      "source": [
        "**EJERCICIO 09**"
      ],
      "metadata": {
        "id": "uTxMDZWeicf_"
      }
    },
    {
      "cell_type": "markdown",
      "source": [
        "Haz un usuario introduza una letra y comprueba si se trata de una vocal. Si el usuario introduce un string de más de un carácter, infórmale de que no se puede procesar el dato, pues debe tener como máximo tamaño 1."
      ],
      "metadata": {
        "id": "xij-Seeqigj2"
      }
    },
    {
      "cell_type": "code",
      "source": [
        "letra = input('Escribe una sola letra: ')\n",
        "letra = letra.lower()\n",
        "\n",
        "if letra.isalpha() is False or len(letra) > 1:\n",
        "    print(f'El dato introducido \\\"{letra}\\\" no cumple con los requisitos')\n",
        "\n",
        "elif letra == 'a' or letra == 'e' or letra == 'i' or letra == 'o' or letra == 'u':\n",
        "    print(f'El dato introducido \\\"{letra}\\\" se trata de una vocal')\n",
        "    \n",
        "else:\n",
        "    print(f'El dato introducido \\\"{letra}\\\" se trata de una consonante')"
      ],
      "metadata": {
        "id": "7hX6EFSTijLm"
      },
      "execution_count": null,
      "outputs": []
    },
    {
      "cell_type": "markdown",
      "source": [
        "**EJERCICIO 10**"
      ],
      "metadata": {
        "id": "1HEQ73Z-imSG"
      }
    },
    {
      "cell_type": "markdown",
      "source": [
        "Dada una ecuación de segundo grado:\n",
        "1. Comprueba que el coeficiente A es distinto de 0.\n",
        "2. En función del discriminante, calcula cuántas soluciones va a tener la ecuación de segundo grado.\n",
        "3. Devuelve por pantalla el resultado en cada caso (tanto el número de soluciones en los números reales como el valor de estas)."
      ],
      "metadata": {
        "id": "Ju-wvuZEiqSG"
      }
    },
    {
      "cell_type": "code",
      "source": [
        "import math\n",
        "\n",
        "print('Vamos a realizar una ecuación de sgundo grado!!')\n",
        "a = int(input('Escribe el coeficiente A (No puede ser 0): '))\n",
        "b = int(input('Escribe el coeficiente B: '))\n",
        "c = int(input('Escribe el coeficiente C: '))\n",
        "\n",
        "discriminante = b ** 2 - 4 * a * c\n",
        "\n",
        "if a != 0:\n",
        "    \n",
        "    if discriminante > 0:\n",
        "        print('Tenemos dos soluciones!')\n",
        "        sol1 = (-b + math.sqrt(discriminante)) / (2 * a)\n",
        "        sol2 = (-b - math.sqrt(discriminante)) / (2 * a)\n",
        "        print(f'Solución 1 = {sol1} y Solución 2 = {sol2}')\n",
        "        \n",
        "    elif discriminante == 0:\n",
        "        sol3 = (-b) / (2 * a)\n",
        "        print(f'La solución es {sol3}')\n",
        "        \n",
        "    else:\n",
        "        print('La ecuación no tiene solución')\n",
        "        \n",
        "else:\n",
        "    print('A es igual a 0, por tanto, datos incorrectos.')"
      ],
      "metadata": {
        "id": "uGwDVbkzivCG"
      },
      "execution_count": null,
      "outputs": []
    }
  ]
}