{
  "nbformat": 4,
  "nbformat_minor": 0,
  "metadata": {
    "colab": {
      "provenance": [],
      "authorship_tag": "ABX9TyNdzGxg2n2pz52DBNxkB1C5"
    },
    "kernelspec": {
      "name": "python3",
      "display_name": "Python 3"
    },
    "language_info": {
      "name": "python"
    }
  },
  "cells": [
    {
      "cell_type": "markdown",
      "source": [
        "# TEMA 12 - PROGRAMACIÓN ORIENTADA A OBJETOS (OOP)"
      ],
      "metadata": {
        "id": "GjVRoR-O0-0P"
      }
    },
    {
      "cell_type": "markdown",
      "source": [
        "**EJERCICIOS y EXAMEN FINAL**"
      ],
      "metadata": {
        "id": "fEqpPkFS0hpz"
      }
    },
    {
      "cell_type": "markdown",
      "source": [
        "**NOTA:** No es necesario usar código para comprobar si los datos introducidos por el usuario son correctos. Vamos a interpretar que así es por ahora a menos que se especifique lo contrario."
      ],
      "metadata": {
        "id": "6zZzP30504cA"
      }
    },
    {
      "cell_type": "markdown",
      "source": [
        "**TAREA 01**"
      ],
      "metadata": {
        "id": "8blzg16J1QM-"
      }
    },
    {
      "cell_type": "markdown",
      "source": [
        "Vamos a crear la clase RationalNumber. Vamos a configurar el constructor de modo que haya un atributo numerator y otro denominator, este último con 1 como valor por defecto. Ambos atributos deben ser números enteros."
      ],
      "metadata": {
        "id": "9Aoc7AzB1Zmz"
      }
    },
    {
      "cell_type": "code",
      "source": [
        "class RationalNumber():\n",
        "    \"\"\"\n",
        "    Clase para trabajar con números racionales.\n",
        "    \"\"\"\n",
        "    def __init__(self, numerator, denominator=1):\n",
        "        if type(numerator) is int and type(denominator) is int:\n",
        "            self.numerator = numerator\n",
        "            self.denominator = denominator\n",
        "        else:\n",
        "            print('ERROR... Ambos números deben ser números enteros')"
      ],
      "metadata": {
        "id": "1cBPlkw41YEi"
      },
      "execution_count": null,
      "outputs": []
    },
    {
      "cell_type": "markdown",
      "source": [
        "**TAREA 02**"
      ],
      "metadata": {
        "id": "eXrpDtka25wk"
      }
    },
    {
      "cell_type": "markdown",
      "source": [
        "Vamos a configurar el método `.__str__()` para que nos muestre el número racional de la forma numerador / denominador."
      ],
      "metadata": {
        "id": "QKvmNLSB3DtT"
      }
    },
    {
      "cell_type": "markdown",
      "source": [
        "EXTRA: Busca como usar `LaTeX` en strings de Python y construye el método .mathMode() que muestre el número racional en formato numerator / denominador."
      ],
      "metadata": {
        "id": "NF4FVL5m3Siy"
      }
    },
    {
      "cell_type": "code",
      "source": [
        "class RationalNumber():\n",
        "    \"\"\"\n",
        "    Clase para trabajar con números racionales.\n",
        "    \"\"\"\n",
        "    def __init__(self, numerator, denominator=1):\n",
        "        if type(numerator) is int and type(denominator) is int:\n",
        "            self.numerator = numerator\n",
        "            self.denominator = denominator\n",
        "        else:\n",
        "            print('ERROR... Ambos números deben ser números enteros')\n",
        "\n",
        "    def __str__(self):\n",
        "        return f'{self.numerator} / {self.denominator}'\n",
        "\n",
        "    def mathFormat(self):\n",
        "        from IPython.display import display, Latex\n",
        "        display(Latex(f'${self.numerator}\\\\over{self.denominator}$'))\n",
        "\n",
        "\n",
        "q = RationalNumber(12, 8)\n",
        "print(q)\n",
        "q.mathFormat()"
      ],
      "metadata": {
        "colab": {
          "base_uri": "https://localhost:8080/",
          "height": 55
        },
        "id": "B0AEDkIz3cJx",
        "outputId": "b8621c9f-47d3-4635-bcf6-0ac6899a751a"
      },
      "execution_count": 1,
      "outputs": [
        {
          "output_type": "stream",
          "name": "stdout",
          "text": [
            "12 / 8\n"
          ]
        },
        {
          "output_type": "display_data",
          "data": {
            "text/plain": [
              "<IPython.core.display.Latex object>"
            ],
            "text/latex": "$12\\over8$"
          },
          "metadata": {}
        }
      ]
    }
  ]
}