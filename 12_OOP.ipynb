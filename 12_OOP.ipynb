{
  "nbformat": 4,
  "nbformat_minor": 0,
  "metadata": {
    "colab": {
      "provenance": [],
      "authorship_tag": "ABX9TyP7QoD+cWxQQWG5fc7Zd1QC"
    },
    "kernelspec": {
      "name": "python3",
      "display_name": "Python 3"
    },
    "language_info": {
      "name": "python"
    }
  },
  "cells": [
    {
      "cell_type": "markdown",
      "source": [
        "# TEMA 12 - PROGRAMACIÓN ORIENTADA A OBJETOS (OOP)"
      ],
      "metadata": {
        "id": "GjVRoR-O0-0P"
      }
    },
    {
      "cell_type": "markdown",
      "source": [
        "*Ejercicios y examen que tuve que realizar para completar con exito este tema perteneciente al curso de Python.*"
      ],
      "metadata": {
        "id": "XLNGqSt5_0Dv"
      }
    },
    {
      "cell_type": "markdown",
      "source": [
        "**EJERCICIOS y EXAMEN FINAL**"
      ],
      "metadata": {
        "id": "fEqpPkFS0hpz"
      }
    },
    {
      "cell_type": "markdown",
      "source": [
        "**NOTA:** No es necesario usar código para comprobar si los datos introducidos por el usuario son correctos. Vamos a interpretar que así es por ahora a menos que se especifique lo contrario."
      ],
      "metadata": {
        "id": "6zZzP30504cA"
      }
    },
    {
      "cell_type": "markdown",
      "source": [
        "**TAREA 01**"
      ],
      "metadata": {
        "id": "8blzg16J1QM-"
      }
    },
    {
      "cell_type": "markdown",
      "source": [
        "Vamos a crear la clase RationalNumber. Vamos a configurar el constructor de modo que haya un atributo numerator y otro denominator, este último con 1 como valor por defecto. Ambos atributos deben ser números enteros."
      ],
      "metadata": {
        "id": "9Aoc7AzB1Zmz"
      }
    },
    {
      "cell_type": "code",
      "source": [
        "class RationalNumber():\n",
        "    \"\"\"\n",
        "    Clase para trabajar con números racionales.\n",
        "    \"\"\"\n",
        "    def __init__(self, numerator, denominator=1):\n",
        "        if type(numerator) is int and type(denominator) is int:\n",
        "            self.numerator = numerator\n",
        "            self.denominator = denominator\n",
        "        else:\n",
        "            print('ERROR... Ambos números deben ser números enteros')"
      ],
      "metadata": {
        "id": "1cBPlkw41YEi"
      },
      "execution_count": null,
      "outputs": []
    },
    {
      "cell_type": "markdown",
      "source": [
        "**TAREA 02**"
      ],
      "metadata": {
        "id": "eXrpDtka25wk"
      }
    },
    {
      "cell_type": "markdown",
      "source": [
        "Vamos a configurar el método `.__str__()` para que nos muestre el número racional de la forma numerador / denominador."
      ],
      "metadata": {
        "id": "QKvmNLSB3DtT"
      }
    },
    {
      "cell_type": "markdown",
      "source": [
        "EXTRA: Busca como usar `LaTeX` en strings de Python y construye el método .mathMode() que muestre el número racional en formato numerator / denominador."
      ],
      "metadata": {
        "id": "NF4FVL5m3Siy"
      }
    },
    {
      "cell_type": "code",
      "source": [
        "class RationalNumber():\n",
        "    \"\"\"\n",
        "    Clase para trabajar con números racionales.\n",
        "    \"\"\"\n",
        "    def __init__(self, numerator, denominator=1):\n",
        "        if type(numerator) is int and type(denominator) is int:\n",
        "            self.numerator = numerator\n",
        "            self.denominator = denominator\n",
        "        else:\n",
        "            print('ERROR... Ambos números deben ser números enteros')\n",
        "\n",
        "    def __str__(self):\n",
        "        return f'{self.numerator} / {self.denominator}'\n",
        "\n",
        "    def mathFormat(self):\n",
        "        from IPython.display import display, Latex\n",
        "        display(Latex(f'${self.numerator}\\\\over{self.denominator}$'))\n",
        "\n",
        "\n",
        "q = RationalNumber(12, 8)\n",
        "print(q)\n",
        "q.mathFormat()"
      ],
      "metadata": {
        "id": "B0AEDkIz3cJx"
      },
      "execution_count": null,
      "outputs": []
    },
    {
      "cell_type": "markdown",
      "source": [
        "**TAREA 03**"
      ],
      "metadata": {
        "id": "r-Y9UN_fAx7g"
      }
    },
    {
      "cell_type": "markdown",
      "source": [
        "- Implementa un método de instancia .quotient() que devuelva el cociente.\n",
        "- Implementa un método de instancia .isInfinite() que devuelva si el denominador es 0 o no.\n",
        "- Implementa un método de instancia .simplify() que simplifique la fracción a la fracción irreducible."
      ],
      "metadata": {
        "id": "E-oYrwJWA9P6"
      }
    },
    {
      "cell_type": "code",
      "source": [
        "def bigger(a, b):\n",
        "  \"\"\"\n",
        "  Devuelve el mayor número de 2 números reales dados.\n",
        "  Args:\n",
        "    a: Número real\n",
        "    b: Número real\n",
        "  Returns:\n",
        "    Número real\n",
        "  \"\"\"\n",
        "  if a >= b:\n",
        "    return a\n",
        "  return b\n",
        "\n",
        "def lower(a, b):\n",
        "  \"\"\"\n",
        "  Devuelve el menor número de 2 números reales dados.\n",
        "  Args:\n",
        "    a: Número real\n",
        "    b: Número real\n",
        "  Returns:\n",
        "    Número real\n",
        "  \"\"\"\n",
        "  if a <= b:\n",
        "    return a\n",
        "  return b\n",
        "\n",
        "def mcd(a, b):\n",
        "  \"\"\"\n",
        "  Devuelve el MCD de dos números enteros.\n",
        "  Args:\n",
        "    a: Número entero\n",
        "    b: Número entero\n",
        "  Returns:\n",
        "    max: Número entero\n",
        "  \"\"\"\n",
        "  r = 0\n",
        "  max = bigger(a, b)\n",
        "  min = lower(a, b)\n",
        "  while(min > 0):\n",
        "    r = min\n",
        "    min = max % min\n",
        "    max = r\n",
        "  return max\n",
        "\n",
        "class RationalNumber():\n",
        "    \"\"\"\n",
        "    Clase para trabajar con números racionales.\n",
        "    \"\"\"\n",
        "    def __init__(self, numerator, denominator=1):\n",
        "        if type(numerator) is int and type(denominator) is int:\n",
        "            self.numerator = numerator\n",
        "            self.denominator = denominator\n",
        "        else:\n",
        "            print('ERROR... Ambos números deben ser números enteros')\n",
        "\n",
        "    def __str__(self):\n",
        "        return f'{self.numerator} / {self.denominator}'\n",
        "\n",
        "    def mathFormat(self):\n",
        "        from IPython.display import display, Latex\n",
        "        display(Latex(f'${self.numerator}\\\\over{self.denominator}$'))\n",
        "\n",
        "    def quotient(self):\n",
        "        cociente = self.numerator // self.denominator\n",
        "        return cociente\n",
        "\n",
        "    def isInfinite(self):\n",
        "        if self.denominator == 0:\n",
        "            return True\n",
        "        return False\n",
        "\n",
        "    def simplify(self):\n",
        "        div = mcd(self.numerator, self.denominator)\n",
        "        self.numerator = int(self.numerator / div)\n",
        "        self.denominator = int(self.denominator / div)\n",
        "\n",
        "\n",
        "# Creamos y mostramos el objeto\n",
        "q = RationalNumber(2, 4)\n",
        "q.mathFormat()\n",
        "\n",
        "# Mostramos el cociente\n",
        "print(q.quotient())\n",
        "\n",
        "# Mostramos si el denominador es 0\n",
        "print(q.isInfinite())\n",
        "\n",
        "# Mostramos la fracción irreducible\n",
        "q.simplify()\n",
        "q.mathFormat()"
      ],
      "metadata": {
        "id": "xJm9s1RIBH1O"
      },
      "execution_count": null,
      "outputs": []
    },
    {
      "cell_type": "markdown",
      "source": [
        "**TAREA 04**"
      ],
      "metadata": {
        "id": "AbAImtSvBzeI"
      }
    },
    {
      "cell_type": "markdown",
      "source": [
        "Vamos a implementar lo siguientes métodos estáticos: \n",
        "- .sum() \n",
        "- .subract() \n",
        "- .product()\n",
        "- .division()"
      ],
      "metadata": {
        "id": "jMsP1Q3oB8Et"
      }
    },
    {
      "cell_type": "code",
      "source": [
        "def helper(n, d):\n",
        "    \"\"\"\n",
        "    Print de los decoradores de la Clase RatinalNumber y no repetir código.\n",
        "    :param n: Numerador\n",
        "    :param d: Donominador\n",
        "    :return: print\n",
        "    \"\"\"\n",
        "    print(f'{n} / {d} = {n / d}')\n",
        "\n",
        "\n",
        "class RationalNumber():\n",
        "    \"\"\"\n",
        "    Clase para trabajar con números racionales.\n",
        "    \"\"\"\n",
        "    def __init__(self, numerator, denominator=1):\n",
        "        if type(numerator) is int and type(denominator) is int:\n",
        "            self.numerator = numerator\n",
        "            self.denominator = denominator\n",
        "        else:\n",
        "            print('ERROR... Ambos números deben ser números enteros')\n",
        "\n",
        "    @staticmethod\n",
        "    def sum(p, q):\n",
        "        num = p.numerator * q.denominator + q.numerator * p.denominator\n",
        "        den = p.denominator * q.denominator\n",
        "        helper(num, den)\n",
        "\n",
        "    @staticmethod\n",
        "    def subract(p, q):\n",
        "        num = p.numerator * q.denominator - q.numerator * p.denominator\n",
        "        den = p.denominator * q.denominator\n",
        "        helper(num, den)\n",
        "\n",
        "    @staticmethod\n",
        "    def product(p, q):\n",
        "        num = p.numerator * q.numerator\n",
        "        den = p.denominator * q.denominator\n",
        "        helper(num, den)\n",
        "\n",
        "    @staticmethod\n",
        "    def division(p, q):\n",
        "        num = p.numerator * q.denominator\n",
        "        den = p.denominator * q.numerator\n",
        "        helper(num, den)\n",
        "\n",
        "\n",
        "p = RationalNumber(1, 2)\n",
        "q = RationalNumber(2, 3)\n",
        "\n",
        "RationalNumber.sum(p, q)\n",
        "RationalNumber.subract(p, q)\n",
        "RationalNumber.product(p, q)\n",
        "RationalNumber.division(p, q)"
      ],
      "metadata": {
        "id": "u3wz4wj6CJua"
      },
      "execution_count": null,
      "outputs": []
    },
    {
      "cell_type": "markdown",
      "source": [
        "**TAREA 05**"
      ],
      "metadata": {
        "id": "RRCnGY00CgGF"
      }
    },
    {
      "cell_type": "markdown",
      "source": [
        "Vamos a configurar los siguientes métodos de clase:\n",
        "- .random() que se encarga de crear un objeto aleatorio de la clase RationalNumber.\n",
        "- .zero() que se encarga de crear el objeto de la clase RationalNumber que tiene por numerador 0 y denominador 1.\n",
        "- .one() que se encarga de crear el objeto de la clase RationalNumber que tiene por numerador 1 y denominador 1.\n",
        "- .fromRealNumber() que dado un número real se encarga de buscar su expresión en racional. Por ejemplo, dado 5.4, tendremos que crear el objeto RationalNumber con numerador 54 y denominador 10.\n",
        "- Investiga el método math.modf() para este caso."
      ],
      "metadata": {
        "id": "ZBofYi1gClwZ"
      }
    },
    {
      "cell_type": "code",
      "source": [
        "def bigger(a, b):\n",
        "  \"\"\"\n",
        "  Devuelve el mayor número de 2 números reales dados.\n",
        "  Args:\n",
        "    a: Número real\n",
        "    b: Número real\n",
        "  Returns:\n",
        "    Número real\n",
        "  \"\"\"\n",
        "  if a >= b:\n",
        "    return a\n",
        "  return b\n",
        "\n",
        "\n",
        "def lower(a, b):\n",
        "  \"\"\"\n",
        "  Devuelve el menor número de 2 números reales dados.\n",
        "  Args:\n",
        "    a: Número real\n",
        "    b: Número real\n",
        "  Returns:\n",
        "    Número real\n",
        "  \"\"\"\n",
        "  if a <= b:\n",
        "    return a\n",
        "  return b\n",
        "\n",
        "\n",
        "def mcd(a, b):\n",
        "  \"\"\"\n",
        "  Devuelve el MCD de dos números enteros.\n",
        "  Args:\n",
        "    a: Número entero\n",
        "    b: Número entero\n",
        "  Returns:\n",
        "    max: Número entero\n",
        "  \"\"\"\n",
        "  r = 0\n",
        "  max = bigger(a, b)\n",
        "  min = lower(a, b)\n",
        "  while(min > 0):\n",
        "    r = min\n",
        "    min = max % min\n",
        "    max = r\n",
        "  return max\n",
        "\n",
        "\n",
        "def helper(n, d):\n",
        "    \"\"\"\n",
        "    Print de los decoradores de la Clase RatinalNumber y no repetir código.\n",
        "    :param n: Numerador\n",
        "    :param d: Donominador\n",
        "    :return: print\n",
        "    \"\"\"\n",
        "    print(f'{n} / {d} = {n / d}')\n",
        "\n",
        "\n",
        "class RationalNumber():\n",
        "    \"\"\"\n",
        "    Clase para trabajar con números racionales.\n",
        "    \"\"\"\n",
        "    def __init__(self, numerator, denominator=1):\n",
        "        if type(numerator) is int and type(denominator) is int:\n",
        "            self.numerator = numerator\n",
        "            self.denominator = denominator\n",
        "        else:\n",
        "            print('ERROR... Ambos números deben ser números enteros')\n",
        "\n",
        "    def __str__(self):\n",
        "        return f'{self.numerator} / {self.denominator}'\n",
        "\n",
        "    def mathFormat(self):\n",
        "        from IPython.display import display, Latex\n",
        "        display(Latex(f'${self.numerator}\\\\over{self.denominator}$'))\n",
        "\n",
        "    def quotient(self):\n",
        "        cociente = self.numerator / self.denominator\n",
        "        return cociente\n",
        "\n",
        "    def isInfinite(self):\n",
        "        if self.denominator == 0:\n",
        "            return True\n",
        "        return False\n",
        "\n",
        "    def simplify(self):\n",
        "        div = mcd(self.numerator, self.denominator)\n",
        "        self.numerator = int(self.numerator / div)\n",
        "        self.denominator = int(self.denominator / div)\n",
        "\n",
        "    @staticmethod\n",
        "    def sum(p, q):\n",
        "        num = p.numerator * q.denominator + q.numerator * p.denominator\n",
        "        den = p.denominator * q.denominator\n",
        "        helper(num, den)\n",
        "\n",
        "    @staticmethod\n",
        "    def subract(p, q):\n",
        "        num = p.numerator * q.denominator - q.numerator * p.denominator\n",
        "        den = p.denominator * q.denominator\n",
        "        helper(num, den)\n",
        "\n",
        "    @staticmethod\n",
        "    def product(p, q):\n",
        "        num = p.numerator * q.numerator\n",
        "        den = p.denominator * q.denominator\n",
        "        helper(num, den)\n",
        "\n",
        "    @staticmethod\n",
        "    def division(p, q):\n",
        "        num = p.numerator * q.denominator\n",
        "        den = p.denominator * q.numerator\n",
        "        helper(num, den)\n",
        "\n",
        "    @classmethod\n",
        "    def random(cls):\n",
        "        import random\n",
        "        num = random.randrange(1, 101)\n",
        "        den = random.randrange(1, 101)\n",
        "        return cls(num, den)\n",
        "\n",
        "    @classmethod\n",
        "    def zero(cls):\n",
        "        num = 0\n",
        "        den = 1\n",
        "        return cls(num, den)\n",
        "\n",
        "    @classmethod\n",
        "    def one(cls):\n",
        "        num = 1\n",
        "        den = 1\n",
        "        return cls(num, den)\n",
        "\n",
        "    @classmethod\n",
        "    def fromRealNumber(cls, f):  # f representa al float que tenemos que introducir\n",
        "        import math\n",
        "        num = f\n",
        "        den = 1\n",
        "        d, i = math.modf(num)  \n",
        "        while d != 0:\n",
        "            num *= 10\n",
        "            den *= 10\n",
        "            d, i = math.modf(num)\n",
        "        num = int(num)\n",
        "        den = int(den)\n",
        "        return cls(num, den)\n",
        "\n",
        "\n",
        "p2 = RationalNumber(1).random()\n",
        "p3 = RationalNumber(1).zero()\n",
        "p4 = RationalNumber(1).one()\n",
        "p5 = RationalNumber(1).fromRealNumber(0.72)\n",
        "\n",
        "print(p2)\n",
        "print(p3)\n",
        "print(p4)\n",
        "print(p5)"
      ],
      "metadata": {
        "id": "P2GM40huC3lA"
      },
      "execution_count": null,
      "outputs": []
    }
  ]
}