{
  "nbformat": 4,
  "nbformat_minor": 0,
  "metadata": {
    "colab": {
      "provenance": [],
      "authorship_tag": "ABX9TyNTx9KUc4KfnfIJjjV015up"
    },
    "kernelspec": {
      "name": "python3",
      "display_name": "Python 3"
    },
    "language_info": {
      "name": "python"
    }
  },
  "cells": [
    {
      "cell_type": "markdown",
      "source": [
        "#CONJUNTOS - ESTRUCTURA DE DATOS"
      ],
      "metadata": {
        "id": "GjVRoR-O0-0P"
      }
    },
    {
      "cell_type": "markdown",
      "source": [
        "*Ejercicios y examen que tuve que realizar para completar con exito este tema perteneciente al curso de Python.*"
      ],
      "metadata": {
        "id": "XLNGqSt5_0Dv"
      }
    },
    {
      "cell_type": "markdown",
      "source": [
        "**NOTA:** No es necesario usar código para comprobar si los datos introducidos por el usuario son correctos. Vamos a interpretar que así es por ahora a menos que se especifique lo contrario."
      ],
      "metadata": {
        "id": "6zZzP30504cA"
      }
    },
    {
      "cell_type": "markdown",
      "source": [
        "# EJERCICIOS"
      ],
      "metadata": {
        "id": "TQwFzcrS_ZDZ"
      }
    },
    {
      "cell_type": "markdown",
      "source": [
        "**TAREA 01**"
      ],
      "metadata": {
        "id": "8blzg16J1QM-"
      }
    },
    {
      "cell_type": "markdown",
      "source": [
        "Vamos a pedirle al usuario una frase y vamos a guardar en un conjunto las letras que aparecen en dicha frase."
      ],
      "metadata": {
        "id": "FW0sgb78YcFj"
      }
    },
    {
      "cell_type": "code",
      "execution_count": null,
      "metadata": {
        "id": "iMa6MCN5YJyg"
      },
      "outputs": [],
      "source": [
        "frase = str(input('Escribe una frase: '))\n",
        "f = frase.lower()\n",
        "set1 = set()\n",
        "\n",
        "for l in f:\n",
        "\n",
        "    if l.isalnum() is True:\n",
        "        set1.add(l)\n",
        "\n",
        "    else:\n",
        "        continue\n",
        "\n",
        "print(set1)"
      ]
    },
    {
      "cell_type": "markdown",
      "source": [
        "**TAREA 02**"
      ],
      "metadata": {
        "id": "qB8hcNUbYvFB"
      }
    },
    {
      "cell_type": "markdown",
      "source": [
        "Vamos a pedirle al usuario dos palabras y vamos a calcular la intersección de las letras de cada palabra. Para ello habrá que crear dos conjuntos que contendrán, respectivamente, las letras que forman cada palabra."
      ],
      "metadata": {
        "id": "yVTWaJBGZcmm"
      }
    },
    {
      "cell_type": "code",
      "source": [
        "palabra1 = str(input('Escribe una palabra: '))\n",
        "palabra2 = str(input('Escribe otra palabra: '))\n",
        "p1 = palabra1.lower()\n",
        "p2 = palabra2.lower()\n",
        "\n",
        "set1 = set()\n",
        "set2 = set()\n",
        "\n",
        "for l in p1:    # Creamos conjunto de la primera palabra.\n",
        "\n",
        "    if l.isalnum() is True:\n",
        "        set1.add(l)\n",
        "\n",
        "    else:\n",
        "        continue\n",
        "\n",
        "for l in p2:    # Creamos conjunto de la segunda palabra.\n",
        "\n",
        "    if l.isalnum() is True:\n",
        "        set2.add(l)\n",
        "\n",
        "    else:\n",
        "        continue\n",
        "\n",
        "set3 = set1.intersection(set2)\n",
        "\n",
        "print(set3)"
      ],
      "metadata": {
        "id": "hMmxtUGtZiL-"
      },
      "execution_count": null,
      "outputs": []
    },
    {
      "cell_type": "markdown",
      "source": [
        "**TAREA 03**"
      ],
      "metadata": {
        "id": "2DIMofw7Z29c"
      }
    },
    {
      "cell_type": "markdown",
      "source": [
        "Vamos a pedirle 4 números enteros al usuario. Se corresponderán con los extremos de los intervalos [a,b] y [c,d]. Vamos a generar dos conjuntos que guarden, respectivamente, los enteros contenidos en cada uno de los intervalos (incluyendo los extremos) y, finalmente, calcularemos la diferencia simétrica."
      ],
      "metadata": {
        "id": "4eIt5zc7Z5os"
      }
    },
    {
      "cell_type": "code",
      "source": [
        "print('Vamos a pedirte 4 numeros que crearán 2 intervalos de números... de A a B, y de C a D...')\n",
        "\n",
        "A = int(input('Escribe número para A: '))\n",
        "B = int(input('Escribe número para B: '))\n",
        "C = int(input('Escribe número para C: '))\n",
        "D = int(input('Escribe número para D: '))\n",
        "\n",
        "set1 = set()\n",
        "set2 = set()\n",
        "\n",
        "if B < A or D < C:\n",
        "    print('Los intervalos no son correctos.')\n",
        "\n",
        "else:\n",
        "    for n in range(A, B + 1):\n",
        "        set1.add(n)\n",
        "\n",
        "    for n in range(C, D + 1):\n",
        "        set2.add(n)\n",
        "\n",
        "    set3 = set1.symmetric_difference(set2)\n",
        "\n",
        "    print(set3)"
      ],
      "metadata": {
        "id": "lGEjY667aEDR"
      },
      "execution_count": null,
      "outputs": []
    },
    {
      "cell_type": "markdown",
      "source": [
        "**TAREA 04**"
      ],
      "metadata": {
        "id": "IgIRT7WEaMUj"
      }
    },
    {
      "cell_type": "markdown",
      "source": [
        "Vamos a guardar en un conjunto los números primos comprendidos entre 2 y el número n que nos indique el usuario mediante la criba de Eratóstenes."
      ],
      "metadata": {
        "id": "ljIW64dnaPND"
      }
    },
    {
      "cell_type": "code",
      "source": [
        "n = int(input('Escribe un número entero mayor que 2: '))\n",
        "primos = set(range(2, n + 1))       # Rango completo de números introducidos\n",
        "numeros = list(range(2, n + 1))     # Lista igual que primos para poder trabajar\n",
        "multiplos = [True for x in range(len(numeros))]     #Lista Booleana con todo en True\n",
        "\n",
        "for i in range(len(numeros)):   # Índice de toda la lista\n",
        "    if multiplos[i] == False:   # Si el número que está trabajando es False, continuamos.\n",
        "        continue\n",
        "\n",
        "    for j in range(i + 1, len(numeros)):    # Consideramos el siguiente número True\n",
        "        if numeros[j] % numeros[i] == 0:    # Comprobamos si j es multiplo de i\n",
        "            multiplos[j] = False            # Si es multiplo lo tachamos\n",
        "            primos.discard(numeros[j])      # Y lo eliminamos del conjunto\n",
        "\n",
        "print(primos)"
      ],
      "metadata": {
        "id": "JpryOaIZaUWD"
      },
      "execution_count": null,
      "outputs": []
    },
    {
      "cell_type": "markdown",
      "source": [
        "**TAREA 05**"
      ],
      "metadata": {
        "id": "VBD6mXiWacFh"
      }
    },
    {
      "cell_type": "markdown",
      "source": [
        "Vamos a crear un programa que nos devuelva el elemento máximo de un conjunto sin utilizar la función max()."
      ],
      "metadata": {
        "id": "etae7mWraebZ"
      }
    },
    {
      "cell_type": "code",
      "source": [
        "set1 = {2, 13, -7, 14, 5, 0, -1, 3, 9}\n",
        "ok = -100\n",
        "\n",
        "for n in set1:\n",
        "\n",
        "    if n > ok:\n",
        "        ok = n\n",
        "\n",
        "    else:\n",
        "        continue\n",
        "\n",
        "print(f'El número mayor de {set1} es {ok}')"
      ],
      "metadata": {
        "id": "W_GI-5CZaiNx"
      },
      "execution_count": null,
      "outputs": []
    },
    {
      "cell_type": "markdown",
      "source": [
        "# EXAMEN"
      ],
      "metadata": {
        "id": "NN1p5e9IjrMH"
      }
    },
    {
      "cell_type": "markdown",
      "source": [
        "**EJERCICIO 01**"
      ],
      "metadata": {
        "id": "n5lEjJKnjuP7"
      }
    },
    {
      "cell_type": "markdown",
      "source": [
        "Dado un número entero introducido por teclado, guarda sus divisores en un conjunto y muéstralo."
      ],
      "metadata": {
        "id": "1dgGqYWSav44"
      }
    },
    {
      "cell_type": "code",
      "source": [
        "print('/// Vamos a calcular todos los divisores de un número ///')\n",
        "\n",
        "n = int(input('Qué numero vamos a dividir?: '))\n",
        "set1 = set()\n",
        "\n",
        "for i in range(1, n + 1):\n",
        "\n",
        "    if n % i == 0:\n",
        "        set1.add(i)\n",
        "\n",
        "    else:\n",
        "        continue\n",
        "\n",
        "print('Estos son los divisores:')\n",
        "print(set1)"
      ],
      "metadata": {
        "id": "DVrAY4R6ayeg"
      },
      "execution_count": null,
      "outputs": []
    },
    {
      "cell_type": "markdown",
      "source": [
        "**EJERCICIO 02**"
      ],
      "metadata": {
        "id": "bkUJlG_La5Lv"
      }
    },
    {
      "cell_type": "markdown",
      "source": [
        "Crea un programa que dado un conjunto, nos devuelva su mínimo. Debes hacerlo sin recurrir a la función min()."
      ],
      "metadata": {
        "id": "ZzPg35EXa71f"
      }
    },
    {
      "cell_type": "code",
      "source": [
        "set1 = {2, 13, -7, 14, 5, 0, -1, 3, 9}\n",
        "ok = 100\n",
        "\n",
        "for n in set1:\n",
        "\n",
        "    if n < ok:\n",
        "        ok = n\n",
        "\n",
        "    else:\n",
        "        continue\n",
        "\n",
        "print(f'El número menor de {set1} es {ok}')"
      ],
      "metadata": {
        "id": "0iF6j-iQa_r_"
      },
      "execution_count": null,
      "outputs": []
    },
    {
      "cell_type": "markdown",
      "source": [
        "**EJERCICIO 03**"
      ],
      "metadata": {
        "id": "ABIDM-c3bDfP"
      }
    },
    {
      "cell_type": "markdown",
      "source": [
        "Dada una frase introducida por teclado, guarda en un conjunto todas las palabras que empiecen por la letra indicada por el usuario."
      ],
      "metadata": {
        "id": "fpaKAVUXbG7v"
      }
    },
    {
      "cell_type": "code",
      "source": [
        "print('/// Escribe una frase y luego una letra, y te diremos que palabras empiezan por esa letra ///')\n",
        "\n",
        "frase = str(input('Escribe una frase: '))\n",
        "letra = str(input('Escribe una letra: '))\n",
        "\n",
        "f = frase.lower()\n",
        "l = letra.lower()\n",
        "\n",
        "set1 = set()\n",
        "\n",
        "lista_palabras = f.split(' ')\n",
        "\n",
        "for palabra in lista_palabras:\n",
        "\n",
        "    if palabra[0] == l:\n",
        "        set1.add(palabra)\n",
        "\n",
        "    else:\n",
        "        continue\n",
        "\n",
        "print(f'\\nEn la frase \\\"{frase}\\\"')\n",
        "print(f'Las palabras que comienzan con la letra \\\"{letra}\\\" son:\\n')\n",
        "\n",
        "if set1 == set():\n",
        "    print('Nínguna')\n",
        "\n",
        "else:\n",
        "    print(set1)"
      ],
      "metadata": {
        "id": "zHJ1BhZIbKrv"
      },
      "execution_count": null,
      "outputs": []
    },
    {
      "cell_type": "markdown",
      "source": [
        "**EJERCICIO 04**"
      ],
      "metadata": {
        "id": "JTQM3IZMbZLV"
      }
    },
    {
      "cell_type": "markdown",
      "source": [
        "Dado un conjunto, crea un programa que nos devuelva el caracter con mayor valor ASCII. Debes hacerlo sin recurrir a la función max()."
      ],
      "metadata": {
        "id": "K5RHCeXabcFF"
      }
    },
    {
      "cell_type": "code",
      "source": [
        "set1 = {'A', 'X', 'F', 'J', 'H', 'M', 'Z'}\n",
        "\n",
        "dicc1 = {'T': 0, 'R': 1, 'W': 2, 'A': 3, 'G': 4, 'M': 5, 'Y': 6, 'F': 7, 'P': 8, 'D': 9, 'X': 10,\n",
        "        'B': 11, 'N': 12, 'J': 13, 'Z': 14, 'S': 15, 'Q': 16, 'V': 17, 'H': 18, 'L': 19, 'C': 20,\n",
        "        'K': 21, 'E': 23\n",
        "         }\n",
        "\n",
        "dicc2 = {0: 'T', 1: 'R', 2: 'W', 3: 'A', 4: 'G', 5: 'M', 6: 'Y', 7: 'F', 8: 'P', 9: 'D', 10: 'X',\n",
        "         11: 'B', 12: 'N', 13: 'J', 14: 'Z', 15: 'S', 16: 'Q', 17: 'V', 18: 'H', 19: 'L', 20: 'C',\n",
        "         21: 'K', 22: 'E'\n",
        "         }\n",
        "\n",
        "ok = -100\n",
        "\n",
        "for n in set1:\n",
        "    n1 = dicc1[n]\n",
        "\n",
        "    if n1 > ok:\n",
        "        ok = n1\n",
        "\n",
        "    else:\n",
        "        continue\n",
        "\n",
        "print(f'La letra mayor de {set1} es {dicc2[ok]}')"
      ],
      "metadata": {
        "id": "Fl1TvoE6bfx1"
      },
      "execution_count": null,
      "outputs": []
    },
    {
      "cell_type": "markdown",
      "source": [
        "**EJERCICIO 05**"
      ],
      "metadata": {
        "id": "BrkA7cnLbnqU"
      }
    },
    {
      "cell_type": "markdown",
      "source": [
        "Dado un conjunto, crea un programa que nos devuelva el caracter con menor valor ASCII. Debes hacerlo sin recurrir a la función min()."
      ],
      "metadata": {
        "id": "uuimS7gobqqM"
      }
    },
    {
      "cell_type": "code",
      "source": [
        "set1 = {'A', 'X', 'F', 'J', 'H', 'M', 'Z'}\n",
        "\n",
        "dicc1 = {'T': 0, 'R': 1, 'W': 2, 'A': 3, 'G': 4, 'M': 5, 'Y': 6, 'F': 7, 'P': 8, 'D': 9, 'X': 10,\n",
        "        'B': 11, 'N': 12, 'J': 13, 'Z': 14, 'S': 15, 'Q': 16, 'V': 17, 'H': 18, 'L': 19, 'C': 20,\n",
        "        'K': 21, 'E': 23\n",
        "         }\n",
        "\n",
        "dicc2 = {0: 'T', 1: 'R', 2: 'W', 3: 'A', 4: 'G', 5: 'M', 6: 'Y', 7: 'F', 8: 'P', 9: 'D', 10: 'X',\n",
        "         11: 'B', 12: 'N', 13: 'J', 14: 'Z', 15: 'S', 16: 'Q', 17: 'V', 18: 'H', 19: 'L', 20: 'C',\n",
        "         21: 'K', 22: 'E'\n",
        "         }\n",
        "\n",
        "ok = 100\n",
        "\n",
        "for n in set1:\n",
        "    n1 = dicc1[n]\n",
        "\n",
        "    if n1 < ok:\n",
        "        ok = n1\n",
        "\n",
        "    else:\n",
        "        continue\n",
        "\n",
        "print(f'La letra menor de {set1} es {dicc2[ok]}')"
      ],
      "metadata": {
        "id": "hlbbMvtQbvXT"
      },
      "execution_count": null,
      "outputs": []
    },
    {
      "cell_type": "markdown",
      "source": [
        "**EJERCICIO 06**"
      ],
      "metadata": {
        "id": "jVSllC-Lbzvr"
      }
    },
    {
      "cell_type": "markdown",
      "source": [
        "Dada una frase introducida por teclado, guarda en un conjunto todas las palabras que contengan la letra indicada por el usuario."
      ],
      "metadata": {
        "id": "CnVaQX4fb2jT"
      }
    },
    {
      "cell_type": "code",
      "source": [
        "print('/// Escribe una frase y luego una letra, y te diremos que palabras contienen esa letra ///')\n",
        "\n",
        "frase = str(input('Escribe una frase: '))\n",
        "letra = str(input('Escribe una letra: '))\n",
        "\n",
        "f = frase.lower()\n",
        "l = letra.lower()\n",
        "\n",
        "set1 = set()\n",
        "\n",
        "lista_palabras = f.split(' ')\n",
        "\n",
        "for palabra in lista_palabras:\n",
        "\n",
        "    if l in palabra:\n",
        "        set1.add(palabra)\n",
        "\n",
        "    else:\n",
        "        continue\n",
        "\n",
        "\n",
        "print(f'\\nEn la frase \\\"{frase}\\\"')\n",
        "print(f'Las palabras que contienen la letra \\\"{letra}\\\" son:\\n')\n",
        "\n",
        "if set1 == set():\n",
        "    print('Nínguna')\n",
        "\n",
        "else:\n",
        "    print(set1)"
      ],
      "metadata": {
        "id": "IVh7HX1zb6QD"
      },
      "execution_count": null,
      "outputs": []
    },
    {
      "cell_type": "markdown",
      "source": [
        "**EJERCICIO 07**"
      ],
      "metadata": {
        "id": "jfjJCEfKcB_q"
      }
    },
    {
      "cell_type": "markdown",
      "source": [
        "Dada una frase introducida por teclado, guarda en un conjunto la primera letra de cada palabra sin hacer uso del método .split()."
      ],
      "metadata": {
        "id": "SSegdkg-cFAq"
      }
    },
    {
      "cell_type": "code",
      "source": [
        "frase = str(input('Escribe una frase: '))\n",
        "set1 = set()\n",
        "\n",
        "ini = frase.title()\n",
        "\n",
        "for letra in ini:\n",
        "\n",
        "    if letra == letra.upper() and letra.isalpha() is True:\n",
        "        set1.add(letra)\n",
        "\n",
        "    else:\n",
        "        continue\n",
        "\n",
        "print(set1)"
      ],
      "metadata": {
        "id": "CP5bIgjrcIRS"
      },
      "execution_count": null,
      "outputs": []
    },
    {
      "cell_type": "markdown",
      "source": [
        "**EJERCICIO 08**"
      ],
      "metadata": {
        "id": "l2V1Azj3cQtI"
      }
    },
    {
      "cell_type": "markdown",
      "source": [
        "Dada una frase introducida por teclado, guarda en un conjunto todas las palabras con longitud par."
      ],
      "metadata": {
        "id": "BeXErQtccT3g"
      }
    },
    {
      "cell_type": "code",
      "source": [
        "frase = str(input('Escribe una frase: '))\n",
        "f = frase.lower()\n",
        "set1 = set()\n",
        "lista_palabras = f.split(' ')\n",
        "\n",
        "for palabra in lista_palabras:\n",
        "\n",
        "    if len(palabra) % 2 == 0 and palabra.isalpha() is True:\n",
        "        set1.add(palabra)\n",
        "\n",
        "    else:\n",
        "        continue\n",
        "\n",
        "print(set1)"
      ],
      "metadata": {
        "id": "4IuZJq-dcY_w"
      },
      "execution_count": null,
      "outputs": []
    },
    {
      "cell_type": "markdown",
      "source": [
        "**EJERCICIO 09**"
      ],
      "metadata": {
        "id": "FtzqK46-cdIg"
      }
    },
    {
      "cell_type": "markdown",
      "source": [
        "Dada una frase introducida por teclado, guarda en un conjunto todas las palabras que acaben por la letra indicada por el usuario."
      ],
      "metadata": {
        "id": "tj6IRMS4cf6Q"
      }
    },
    {
      "cell_type": "code",
      "source": [
        "print('/// Escribe una frase y luego una letra, y te diremos que palabras terminan por esa letra ///')\n",
        "\n",
        "frase = str(input('Escribe una frase: '))\n",
        "letra = str(input('Escribe una letra: '))\n",
        "\n",
        "f = frase.lower()\n",
        "l = letra.lower()\n",
        "\n",
        "set1 = set()\n",
        "\n",
        "lista_palabras = f.split(' ')\n",
        "\n",
        "for palabra in lista_palabras:\n",
        "\n",
        "    if palabra[-1] == l:\n",
        "        set1.add(palabra)\n",
        "\n",
        "    else:\n",
        "        continue\n",
        "\n",
        "print(f'\\nEn la frase \\\"{frase}\\\"')\n",
        "print(f'Las palabras que terminan con la letra \\\"{letra}\\\" son:\\n')\n",
        "\n",
        "if set1 == set():\n",
        "    print('Nínguna')\n",
        "\n",
        "else:\n",
        "    print(set1)"
      ],
      "metadata": {
        "id": "QIeXwr3bcjNY"
      },
      "execution_count": null,
      "outputs": []
    },
    {
      "cell_type": "markdown",
      "source": [
        "**EJERCICIO 10**"
      ],
      "metadata": {
        "id": "SDa6s02xcrdn"
      }
    },
    {
      "cell_type": "markdown",
      "source": [
        "Dada una frase introducida por teclado, guarda en un conjunto todas las palabras palíndromas."
      ],
      "metadata": {
        "id": "cN0Lx8u0cuNP"
      }
    },
    {
      "cell_type": "code",
      "source": [
        "frase = str(input('Escribe una frase: '))\n",
        "\n",
        "f = frase.lower()\n",
        "\n",
        "set1 = set()\n",
        "\n",
        "lista_palabras = f.split(' ')\n",
        "\n",
        "for palabra in lista_palabras:\n",
        "\n",
        "    if palabra == palabra[::-1]:\n",
        "        set1.add(palabra)\n",
        "\n",
        "    else:\n",
        "        continue\n",
        "\n",
        "print(set1)    "
      ],
      "metadata": {
        "id": "wOxHTt3mcy4_"
      },
      "execution_count": null,
      "outputs": []
    }
  ]
}