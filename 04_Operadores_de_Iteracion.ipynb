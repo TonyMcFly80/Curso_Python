{
  "nbformat": 4,
  "nbformat_minor": 0,
  "metadata": {
    "colab": {
      "provenance": [],
      "authorship_tag": "ABX9TyOdpBIzlbciiv/HNoiRI6wj"
    },
    "kernelspec": {
      "name": "python3",
      "display_name": "Python 3"
    },
    "language_info": {
      "name": "python"
    }
  },
  "cells": [
    {
      "cell_type": "markdown",
      "source": [
        "#OPERADORES DE ITERACIÓN"
      ],
      "metadata": {
        "id": "GjVRoR-O0-0P"
      }
    },
    {
      "cell_type": "markdown",
      "source": [
        "*Ejercicios y examen que tuve que realizar para completar con exito este tema perteneciente al curso de Python.*"
      ],
      "metadata": {
        "id": "XLNGqSt5_0Dv"
      }
    },
    {
      "cell_type": "markdown",
      "source": [
        "**NOTA:** No es necesario usar código para comprobar si los datos introducidos por el usuario son correctos. Vamos a interpretar que así es por ahora a menos que se especifique lo contrario."
      ],
      "metadata": {
        "id": "6zZzP30504cA"
      }
    },
    {
      "cell_type": "markdown",
      "source": [
        "# EJERCICIOS"
      ],
      "metadata": {
        "id": "TQwFzcrS_ZDZ"
      }
    },
    {
      "cell_type": "markdown",
      "source": [
        "**TAREA 01**"
      ],
      "metadata": {
        "id": "8blzg16J1QM-"
      }
    },
    {
      "cell_type": "markdown",
      "source": [
        "Con un bucle while, dado un string vamos a recorrer una frase y contar el número total de vocales."
      ],
      "metadata": {
        "id": "zWcODSmObtRt"
      }
    },
    {
      "cell_type": "code",
      "source": [
        "frase = str(input('Escribe una frase y te diré cuantas vocales tiene: '))\n",
        "f = frase.lower()\n",
        "n = 0\n",
        "long = int(len(frase))\n",
        "total = 0\n",
        "\n",
        "while n <= (long - 1):\n",
        "    if f[n] == 'a' or f[n] == 'e' or f[n] == 'i' or f[n] == 'o' or f[n] == 'u':\n",
        "        n += 1\n",
        "        total += 1\n",
        "    else:\n",
        "        n += 1\n",
        "\n",
        "print(f'La frase introducida tiene {total} vocales.')"
      ],
      "metadata": {
        "id": "1Sn7C91abwva"
      },
      "execution_count": null,
      "outputs": []
    },
    {
      "cell_type": "markdown",
      "source": [
        "**TAREA 02**"
      ],
      "metadata": {
        "id": "Vs8VNZfzcCM7"
      }
    },
    {
      "cell_type": "markdown",
      "source": [
        "Con un bucle while, dados dos números enteros proporcionados por el usuario, vamos a encontrar el primer número divisible entre 2, 3 y 5, siempre que sea posible, que se encuentre dentro del intervalo formado por los dos números dados por el usuario (ambos extremos también incluidos).\n"
      ],
      "metadata": {
        "id": "5fXUIRUWcGub"
      }
    },
    {
      "cell_type": "code",
      "source": [
        "num1 = int(input('Escribe un número entero: '))\n",
        "num2 = int(input('Escribe otro número entero: '))\n",
        "\n",
        "if num1 > num2:\n",
        "\n",
        "    while num2 <= num1:\n",
        "        if num2 % 2 == 0 and num2 % 3 == 0 and num2 % 5 == 0:\n",
        "            print(f'{num2} se puede dividir entre 2, 3 y 5')\n",
        "            num2 += 1\n",
        "            break\n",
        "\n",
        "elif num1 < num2:\n",
        "\n",
        "    while num1 <= num2:\n",
        "        if num1 % 2 == 0 and num1 % 3 == 0 and num1 % 5 == 0:\n",
        "            print(f'{num1} se puede dividir entre 2, 3 y 5')\n",
        "            num1 += 1\n",
        "        else:\n",
        "            num1 += 1\n",
        "else:\n",
        "    print('Error ambos números no pueden ser iguales')"
      ],
      "metadata": {
        "id": "FWkbxwSVcLWy"
      },
      "execution_count": null,
      "outputs": []
    },
    {
      "cell_type": "markdown",
      "source": [
        "**TAREA 03**"
      ],
      "metadata": {
        "id": "ALUa_b35cPvK"
      }
    },
    {
      "cell_type": "markdown",
      "source": [
        "Vamos a hacer que el usuario introduzca números por teclado e ir sumándolos. Cuando el usuario introduzca 0 saldremos del bucle while. Al salir del bucle, con un else mostraremos la suma."
      ],
      "metadata": {
        "id": "RXhw7xEBcVe6"
      }
    },
    {
      "cell_type": "code",
      "source": [
        "n = float(input('Introduce un número y lo iremos sumando hasta que escribas 0: '))\n",
        "suma = float(0)\n",
        "\n",
        "while n != 0:\n",
        "    suma += n\n",
        "    n = float(input('Introduce un número y lo iremos sumando hasta que escribas 0: '))\n",
        "\n",
        "else:\n",
        "    print(f'La suma total es {suma}')"
      ],
      "metadata": {
        "id": "3nmJU192cTNi"
      },
      "execution_count": null,
      "outputs": []
    },
    {
      "cell_type": "markdown",
      "source": [
        "**TAREA 04**"
      ],
      "metadata": {
        "id": "SyBtdkw_cbfp"
      }
    },
    {
      "cell_type": "markdown",
      "source": [
        "Imaginemos las letras del abecedario ordenadas y dispuestas en círculo. Es decir, a la derecha de la A está la B, luego la C, y así sucesivamente hasta la Z. A la derecha de la Z, se encuentra de nuevo la letra A.\n",
        "\n",
        "Vamos a hacer que el usuario introduzca un valor entero n, que se corresponderá con la rotación que llevará a una determinada letra n posiciones a su derecha. Por ejemplo, si la rotación es 4, entonces la A pasará a la E, la B a la F, ..., la Y a la C y la Z a la D.\n",
        "\n",
        "Con un bucle while, vamos a construir el programa que desplazará las letras n posiciones a la derecha.\n",
        "\n",
        "PISTA: Investiga las funciones chr() y ord() para pasar del valor ASCII de un caracter y viceversa."
      ],
      "metadata": {
        "id": "HKmE6JPdceW5"
      }
    },
    {
      "cell_type": "code",
      "source": [
        "print('Vamos a girar la rueda del Abecedario!')\n",
        "abecedario = 'ABCDEFGHIJKLMNÑOPQRSTUVWXYZ'\n",
        "print(f'Esta es la posición actual: {abecedario}')\n",
        "n = int(input('Cuantas pociciones quieres mover?: '))\n",
        "inicio = 65\n",
        "\n",
        "while inicio <= 90:\n",
        "    if inicio + n <= 90:\n",
        "        print(chr(inicio + n))\n",
        "    else:\n",
        "        print(chr((inicio - 26) + n))\n",
        "    inicio += 1"
      ],
      "metadata": {
        "id": "pWyld6_rceGB"
      },
      "execution_count": null,
      "outputs": []
    },
    {
      "cell_type": "markdown",
      "source": [
        "**TAREA 05**"
      ],
      "metadata": {
        "id": "TBAGCjPqcryA"
      }
    },
    {
      "cell_type": "markdown",
      "source": [
        "Vamos a recorrer un string dado un bucle for y lo vamos a devolver del revés."
      ],
      "metadata": {
        "id": "noDQuRh0cyHH"
      }
    },
    {
      "cell_type": "code",
      "source": [
        "frase = str(input('Escribe una frase: '))\n",
        "frase_invertida = str('')\n",
        "\n",
        "for letra in frase:\n",
        "    frase_invertida = letra + frase_invertida\n",
        "\n",
        "print(frase_invertida)"
      ],
      "metadata": {
        "id": "jkFYlweLc11H"
      },
      "execution_count": null,
      "outputs": []
    },
    {
      "cell_type": "markdown",
      "source": [
        "**TAREA 06**"
      ],
      "metadata": {
        "id": "AoTaYKamc3Jf"
      }
    },
    {
      "cell_type": "markdown",
      "source": [
        "Con un bucle for, dada una progresión aritmética de números enteros indicada por el usuario (nos dará el primer término, la diferencía y la cota), vamos a calcular la suma de los elementos incluyendo la cota.\n",
        "\n",
        "Un ejemplo de progresión aritmética es: 0, 2, 4, 6, 8,... donde el primer término es 0 y la diferencia entre sus términos es 2."
      ],
      "metadata": {
        "id": "bLntl-XRc5QP"
      }
    },
    {
      "cell_type": "code",
      "source": [
        "print('Vamos a sumar una progresión aritmética!!! Para ello necesito unos datos...')\n",
        "\n",
        "ini = int(input('Con qué número quieres comenzar?: '))\n",
        "fin = int(input('Con qué número quieres finalizar?: '))\n",
        "salto = int(input('Cada cuanto quieres contar?... ejemplo (de 1 en 1, 2 en 2, etc): '))\n",
        "suma = 0\n",
        "\n",
        "for n in range(ini, fin + 1, salto):\n",
        "    print(n)\n",
        "    suma += n\n",
        "\n",
        "print(f'La suma total es de {suma}')"
      ],
      "metadata": {
        "id": "f-B3TAlqdAan"
      },
      "execution_count": null,
      "outputs": []
    },
    {
      "cell_type": "markdown",
      "source": [
        "**TAREA 07**"
      ],
      "metadata": {
        "id": "Awl0MHsZdCV-"
      }
    },
    {
      "cell_type": "markdown",
      "source": [
        "Con un bucle for, vamos a recorrer un string dado y vamos a imprimir todas las letras salvo por la letra indicada por el usuario."
      ],
      "metadata": {
        "id": "Fh0Yn52gdFFW"
      }
    },
    {
      "cell_type": "code",
      "source": [
        "frase = str(input('Escribe una frase: '))\n",
        "frase = frase.lower()\n",
        "letra_x = str(input('Qué letra quieres hacer desaparecer de la frase?: '))\n",
        "letra_x = letra_x.lower()\n",
        "final = ''\n",
        "\n",
        "for letra in frase:\n",
        "    if letra == letra_x:\n",
        "        continue\n",
        "    else:\n",
        "        final += letra\n",
        "\n",
        "print(final)"
      ],
      "metadata": {
        "id": "YCMzF3QndJD-"
      },
      "execution_count": null,
      "outputs": []
    },
    {
      "cell_type": "markdown",
      "source": [
        "**TAREA 08**"
      ],
      "metadata": {
        "id": "Hh9HQupfdLze"
      }
    },
    {
      "cell_type": "markdown",
      "source": [
        "Dado un string, con un bucle for vamos a imprimirlo sin vocales y vamos a salir del bucle si la letra que indique el usuario aparece más de n veces, número que támbien nos proporcionará el usuario."
      ],
      "metadata": {
        "id": "SLCmeSZ7dOO1"
      }
    },
    {
      "cell_type": "code",
      "source": [
        "frase = str(input('Escribe una frase: '))\n",
        "frase = frase.lower()\n",
        "letra_x = str(input('Cual es la letra maldita? (no puede ser vocal): '))\n",
        "letra_x = letra_x.lower()\n",
        "repe = int(input('Cuantas veces tiene que salir la letra maldita?: '))\n",
        "f_final = ''\n",
        "contador = 0\n",
        "\n",
        "for letra in frase:\n",
        "    if letra == 'a' or letra == 'e' or letra == 'i' or letra == 'o' or letra == 'u':\n",
        "        continue\n",
        "    elif letra == letra_x:\n",
        "        contador += 1\n",
        "        f_final += letra\n",
        "        if contador == repe:\n",
        "            break\n",
        "    else:\n",
        "        f_final += letra\n",
        "\n",
        "print(f_final)"
      ],
      "metadata": {
        "id": "Q9GnKkwOdSm1"
      },
      "execution_count": null,
      "outputs": []
    },
    {
      "cell_type": "markdown",
      "source": [
        "# EXAMEN"
      ],
      "metadata": {
        "id": "NN1p5e9IjrMH"
      }
    },
    {
      "cell_type": "markdown",
      "source": [
        "**EJERCICIO 01**"
      ],
      "metadata": {
        "id": "n5lEjJKnjuP7"
      }
    },
    {
      "cell_type": "markdown",
      "source": [
        "Haz que el usuario introduzca números enteros por teclado. Mientras el usuario no introduzca el 0, muestra si el número introducido es par o impar."
      ],
      "metadata": {
        "id": "JQEEUydDdbVE"
      }
    },
    {
      "cell_type": "code",
      "source": [
        "numero = int(input('Introduce un número entero: '))\n",
        "\n",
        "while numero > 0:\n",
        "\n",
        "    if numero % 2 == 0:\n",
        "        print(f'El número {numero} es par')\n",
        "\n",
        "    elif numero % 2 != 0:\n",
        "        print(f'El número {numero} es impar')\n",
        "\n",
        "    elif numero <= 0:\n",
        "        break\n",
        "    numero = int(input('Introduce un número entero: '))"
      ],
      "metadata": {
        "id": "JYl_DF1kde5M"
      },
      "execution_count": null,
      "outputs": []
    },
    {
      "cell_type": "markdown",
      "source": [
        "**EJERCICIO 02**"
      ],
      "metadata": {
        "id": "I-ZsJj4Edhgs"
      }
    },
    {
      "cell_type": "markdown",
      "source": [
        "Haz que el usuario introduzca una palabra y una letra por teclado. Comprueba si la palabra contiene la letra o no e indícaselo al usuario por pantalla."
      ],
      "metadata": {
        "id": "m0oFi1FkdkTT"
      }
    },
    {
      "cell_type": "code",
      "source": [
        "palabra = input('Introduce una palabra: ').lower()\n",
        "letra = input('Introduce una letra: ').lower()\n",
        "contador = 0\n",
        "\n",
        "for x in palabra:\n",
        "\n",
        "    if x == letra:\n",
        "        print(f'La letra {letra} se encuentra en la palabra {palabra}')\n",
        "        break\n",
        "\n",
        "    elif x != letra:\n",
        "        contador += 1\n",
        "        if contador == len(palabra):\n",
        "            print(f'La letra {letra} NO se encuentra en la palabra {palabra}')\n",
        "            break\n",
        "    else:\n",
        "        continue"
      ],
      "metadata": {
        "id": "yQ3jkjKhdno7"
      },
      "execution_count": null,
      "outputs": []
    },
    {
      "cell_type": "markdown",
      "source": [
        "**EJERCICIO 03**"
      ],
      "metadata": {
        "id": "mTC2oBZ4dqG7"
      }
    },
    {
      "cell_type": "markdown",
      "source": [
        "Haz que el usuario introduzca precios por teclado (si introduce 0, entonces es que ha finalizado). Si el usuario pasa de 200€, entonces ya no debe poder introducir más precios pues se ha pasado de presupuesto. Sea cual sea el resultado (o bien el precio final o bien que no tiene más presupuesto), indícaselo por pantalla al usuario."
      ],
      "metadata": {
        "id": "6C-9mmGOds4j"
      }
    },
    {
      "cell_type": "code",
      "source": [
        "ahorros = 200\n",
        "print(f'Tienes {ahorros} euros en tu cuenta.')\n",
        "\n",
        "while ahorros > 0:\n",
        "    retirada = float(input('Cuanto dinero quieres sacar?: '))\n",
        "    \n",
        "    if retirada == 0:\n",
        "        print('Fin del programa')\n",
        "        break\n",
        " \n",
        "    elif retirada <= ahorros:\n",
        "        ahorros -= retirada\n",
        "        \n",
        "        if ahorros > 0:\n",
        "            print(f'Aún tienes {ahorros} euros')\n",
        "            continue\n",
        " \n",
        "        elif ahorros == 0:\n",
        "            print('Ya no te queda dinero')\n",
        "            break\n",
        " \n",
        "        elif ahorros < 0:\n",
        "            print(f'No tienes tanto dinero para retirar. Tienes disponible {ahorros} euros')\n",
        "            continue\n",
        " \n",
        "    else:\n",
        "        print(f'No tienes tanto dinero para retirar. Tienes disponible {ahorros} euros')\n",
        "        continue"
      ],
      "metadata": {
        "id": "atbrAzMbdyFq"
      },
      "execution_count": null,
      "outputs": []
    },
    {
      "cell_type": "markdown",
      "source": [
        "**EJERCICIO 04**"
      ],
      "metadata": {
        "id": "ST88cgT3d1RK"
      }
    },
    {
      "cell_type": "markdown",
      "source": [
        "Haz que el usuario introduzca números enteros por teclado. Mientras el usuario no introduzca el 0, calcula cuántos números positivos y cuántos negativos ha introducido y muéstraselo al final."
      ],
      "metadata": {
        "id": "pImlqHdmd4fi"
      }
    },
    {
      "cell_type": "code",
      "source": [
        "print('/// Escribe un número entero positivo o negativo (0 para finalizar el programa) ///')\n",
        "\n",
        "contador_positivios = 0\n",
        "contador_negativos = 0\n",
        "\n",
        "while True:\n",
        "    numero = int(input('Número: '))\n",
        "\n",
        "    if numero > 0:\n",
        "        contador_positivios += 1\n",
        "        continue\n",
        "\n",
        "    elif numero < 0:\n",
        "        contador_negativos += 1\n",
        "        continue\n",
        "\n",
        "    else:\n",
        "        print(f'Has introducido {contador_positivios} números positivos y {contador_negativos} números negativos')\n",
        "        print('Fin del programa...')\n",
        "        break"
      ],
      "metadata": {
        "id": "3G8dyDCRd76C"
      },
      "execution_count": null,
      "outputs": []
    },
    {
      "cell_type": "markdown",
      "source": [
        "**EJERCICIO 05**"
      ],
      "metadata": {
        "id": "Th3UpwX9d_D6"
      }
    },
    {
      "cell_type": "markdown",
      "source": [
        "Haz que el usuario introduzca números por teclado. Mientras el usuario no introduzca el 0, pídele otro número. Cuando el usuario introduzca el 0, muéstrale la media aritmética de los números que ha introducido."
      ],
      "metadata": {
        "id": "Dr-uYKMXeB3a"
      }
    },
    {
      "cell_type": "code",
      "source": [
        "print('/// Escribe un número (0 para finalizar el programa) ///')\n",
        "suma = 0\n",
        "\n",
        "while True:\n",
        "    numero = float(input('Número: '))\n",
        "\n",
        "    if numero != 0:\n",
        "        suma = suma + numero\n",
        "        continue\n",
        "\n",
        "    else:\n",
        "        print(f'La media aritmética es {suma/2}')\n",
        "        break"
      ],
      "metadata": {
        "id": "hyyLPbE8eFtK"
      },
      "execution_count": null,
      "outputs": []
    },
    {
      "cell_type": "markdown",
      "source": [
        "**EJERCICIO 06**"
      ],
      "metadata": {
        "id": "STvcu3WpeILy"
      }
    },
    {
      "cell_type": "markdown",
      "source": [
        "Haz que el usuario introduzca dos números enteros por teclado. El primero será el extremo izquierdo del intervalo y, el segundo, el extremo derecho. Imprime todos los números que se encuentren entre los dos números introducidos por el usuario (los extremos incluidos)."
      ],
      "metadata": {
        "id": "B8Y4Y8ESeLKR"
      }
    },
    {
      "cell_type": "code",
      "source": [
        "print('/// Escribe dos números enteros, el primero debe ser menor al segundo ///')\n",
        "\n",
        "numero1 = int(input('Escribe un 1er número entero: '))\n",
        "numero2 = int(input('Escribe un 2do número entero: '))\n",
        "\n",
        "for numero in range(numero1, numero2+1):\n",
        "    print(numero)"
      ],
      "metadata": {
        "id": "rARozOwHePjo"
      },
      "execution_count": null,
      "outputs": []
    },
    {
      "cell_type": "markdown",
      "source": [
        "**EJERCICIO 07**"
      ],
      "metadata": {
        "id": "p41eQFFeeSLQ"
      }
    },
    {
      "cell_type": "markdown",
      "source": [
        "Haz que el usuario introduzca dos números enteros por teclado. El primero será el extremo izquierdo del intervalo y, el segundo, el extremo derecho. Imprime la suma de todos los múltiplos de 3 que se encuentren entre los dos números introducidos por el usuario (los extremos incluidos). Finalmente, muestra por pantalla el resultado de la suma."
      ],
      "metadata": {
        "id": "j-x4JMDUeU1I"
      }
    },
    {
      "cell_type": "code",
      "source": [
        "print('/// Escribe dos números enteros, el primero debe ser menor al segundo ///')\n",
        "\n",
        "numero1 = int(input('Escribe un 1er número entero: '))\n",
        "numero2 = int(input('Escribe un 2do número entero: '))\n",
        "suma_mult_3 = 0\n",
        "\n",
        "for numero in range(numero1, numero2+1):\n",
        "\n",
        "    if numero % 3 == 0:\n",
        "        suma_mult_3 = numero + suma_mult_3\n",
        "        continue\n",
        "\n",
        "    else:\n",
        "        continue\n",
        "\n",
        "print(f'La suma de los múltiplos de 3 es {suma_mult_3}')"
      ],
      "metadata": {
        "id": "HLz92HeUeaKJ"
      },
      "execution_count": null,
      "outputs": []
    },
    {
      "cell_type": "markdown",
      "source": [
        "**EJERCICIO 08**"
      ],
      "metadata": {
        "id": "BL2rOLU_ecs4"
      }
    },
    {
      "cell_type": "markdown",
      "source": [
        "Pídele al usuario cuántos números va a introducir. Con un bucle for, solicítale esa cantidad de números y calcula su producto."
      ],
      "metadata": {
        "id": "K6G8NHteefgI"
      }
    },
    {
      "cell_type": "code",
      "source": [
        "print('/// Escribe los numeros que deseas multiplicar ///')\n",
        "\n",
        "total = int(input('Cuantos números vas a introducir?: '))\n",
        "producto = 1\n",
        "\n",
        "for n in range(0, total):\n",
        "    numero = int(input('Escribe un número: '))\n",
        "    producto = (producto * numero)\n",
        "    continue\n",
        "\n",
        "print(f'El producto es {producto}')"
      ],
      "metadata": {
        "id": "MruMQ1wPeiaY"
      },
      "execution_count": null,
      "outputs": []
    },
    {
      "cell_type": "markdown",
      "source": [
        "**EJERCICIO 09**"
      ],
      "metadata": {
        "id": "S8TCpGn3ekjP"
      }
    },
    {
      "cell_type": "markdown",
      "source": [
        "Haz que el usuario introduzca su edad y el año actual. Imprime todos los años que han pasado desde su año de nacimiento hasta el año actual (ambos incluidos)."
      ],
      "metadata": {
        "id": "8L4VmW-aenDP"
      }
    },
    {
      "cell_type": "code",
      "source": [
        "edad = int(input('Escribe tu edad: '))\n",
        "year_actual = int(input('En qué año estamos?: '))\n",
        "\n",
        "year_nacimiento = year_actual - edad\n",
        "\n",
        "for years in range(year_nacimiento, year_actual+1):\n",
        "    print(years)"
      ],
      "metadata": {
        "id": "40qWuMRHetQ4"
      },
      "execution_count": null,
      "outputs": []
    },
    {
      "cell_type": "markdown",
      "source": [
        "**EJERCICIO 10**"
      ],
      "metadata": {
        "id": "hKZSYIDMevkv"
      }
    },
    {
      "cell_type": "markdown",
      "source": [
        "Haz que el usuario introduzca un número entero entre 3 y 10. Muestra un cuadrado y luego un triángulo rectángulo de lado y altura, respectivamente, el número entero introducido. Por ejemplo, si el usuario introduce como número 5, se deberá mostrar:\n",
        "\n",
        "```\n",
        "*          * * * * *\n",
        "* *        * * * * *\n",
        "* * *      * * * * *\n",
        "* * * *    * * * * *\n",
        "* * * * *  * * * * *\n",
        "```\n",
        "\n",
        "\n",
        "\n",
        "\n",
        "\n"
      ],
      "metadata": {
        "id": "Nrh6kFBCeypX"
      }
    },
    {
      "cell_type": "code",
      "source": [
        "print('Vamos a dibujar un triángulo y un cuadrado!')\n",
        "\n",
        "numero = int(input('Escribe un número entero entre 3 y 10: '))\n",
        "\n",
        "for i in range(numero):\n",
        "    print('* ' * (i + 1) + ' ' * (20 - (2 * i + 2) + 1) + '* ' * numero)"
      ],
      "metadata": {
        "id": "ZiuvzS_cfO9N"
      },
      "execution_count": null,
      "outputs": []
    }
  ]
}