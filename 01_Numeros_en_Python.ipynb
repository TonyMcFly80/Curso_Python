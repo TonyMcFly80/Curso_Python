{
  "nbformat": 4,
  "nbformat_minor": 0,
  "metadata": {
    "colab": {
      "provenance": [],
      "authorship_tag": "ABX9TyPLsBoTOhyT8sT1VnXQ381b"
    },
    "kernelspec": {
      "name": "python3",
      "display_name": "Python 3"
    },
    "language_info": {
      "name": "python"
    }
  },
  "cells": [
    {
      "cell_type": "markdown",
      "source": [
        "#NÚMEROS EN PYTHON"
      ],
      "metadata": {
        "id": "GjVRoR-O0-0P"
      }
    },
    {
      "cell_type": "markdown",
      "source": [
        "*Examen que tuve que realizar para completar con exito este tema perteneciente al curso de Python.*"
      ],
      "metadata": {
        "id": "XLNGqSt5_0Dv"
      }
    },
    {
      "cell_type": "markdown",
      "source": [
        "**NOTA:** No es necesario usar código para comprobar si los datos introducidos por el usuario son correctos. Vamos a interpretar que así es por ahora a menos que se especifique lo contrario."
      ],
      "metadata": {
        "id": "6zZzP30504cA"
      }
    },
    {
      "cell_type": "markdown",
      "source": [
        "# EXAMEN"
      ],
      "metadata": {
        "id": "TQwFzcrS_ZDZ"
      }
    },
    {
      "cell_type": "markdown",
      "source": [
        "**EJERCICIO 01**"
      ],
      "metadata": {
        "id": "8blzg16J1QM-"
      }
    },
    {
      "cell_type": "markdown",
      "source": [
        "Calcula la división entera de 45 entre 6"
      ],
      "metadata": {
        "id": "53T46Qd5mIEX"
      }
    },
    {
      "cell_type": "code",
      "source": [
        "z = 45 / 6\n",
        "print(z)"
      ],
      "metadata": {
        "id": "YWwXoez9mKs0"
      },
      "execution_count": null,
      "outputs": []
    },
    {
      "cell_type": "markdown",
      "source": [
        "**EJERCICIO 02**"
      ],
      "metadata": {
        "id": "a-VI86snmMmX"
      }
    },
    {
      "cell_type": "markdown",
      "source": [
        "Calcula el resto de la división entera de 45 entre 6"
      ],
      "metadata": {
        "id": "iEL1TAZNmPlu"
      }
    },
    {
      "cell_type": "code",
      "source": [
        "z = 45 % 6\n",
        "print(z)"
      ],
      "metadata": {
        "id": "tqAmLAqAmR7e"
      },
      "execution_count": null,
      "outputs": []
    },
    {
      "cell_type": "markdown",
      "source": [
        "**EJERCICIO 03**"
      ],
      "metadata": {
        "id": "50bCD1sHmUgO"
      }
    },
    {
      "cell_type": "markdown",
      "source": [
        "Realiza la siguiente operación en Python, donde ÷ indica la división entera: 10 + 20 ÷ 7 − 2"
      ],
      "metadata": {
        "id": "GiuHqoe4mXIe"
      }
    },
    {
      "cell_type": "code",
      "source": [
        "z = 10 + 20 / 7 - 2\n",
        "print(z)"
      ],
      "metadata": {
        "id": "cccCUeIVmbNN"
      },
      "execution_count": null,
      "outputs": []
    },
    {
      "cell_type": "markdown",
      "source": [
        "**EJERCICIO 04**"
      ],
      "metadata": {
        "id": "OJgSFv3omdIm"
      }
    },
    {
      "cell_type": "markdown",
      "source": [
        "Realiza la siguiente operación en Python... y pásala a formaro python"
      ],
      "metadata": {
        "id": "2GruvznMmgLG"
      }
    },
    {
      "cell_type": "code",
      "source": [
        "z = (9 - (25+5-2) / (7*4)) / 2**3\n",
        "print(z)"
      ],
      "metadata": {
        "id": "ZijDwcfMmk12"
      },
      "execution_count": null,
      "outputs": []
    },
    {
      "cell_type": "markdown",
      "source": [
        "**EJERCICIO 05**"
      ],
      "metadata": {
        "id": "apdTJnqzmmMl"
      }
    },
    {
      "cell_type": "markdown",
      "source": [
        "Realiza la siguiente operación en Python... y pásala a formaro python"
      ],
      "metadata": {
        "id": "GRGpyD4jmpIt"
      }
    },
    {
      "cell_type": "code",
      "source": [
        "z = (2 + 2**3 - 2 * (2 - 2**5) + 2**2 * 2 + 2) / (2 * (2 * 2 - 2**4) + 2**2)\n",
        "print(z)"
      ],
      "metadata": {
        "id": "va-pBvcumrZ0"
      },
      "execution_count": null,
      "outputs": []
    },
    {
      "cell_type": "markdown",
      "source": [
        "**EJERCICIO 06**"
      ],
      "metadata": {
        "id": "z0ep4LPWmt3E"
      }
    },
    {
      "cell_type": "markdown",
      "source": [
        "Realiza la siguiente operación en Python: 6i − (4 + i) ∗ 2"
      ],
      "metadata": {
        "id": "CR94WSzNmxDM"
      }
    },
    {
      "cell_type": "code",
      "source": [
        "z = 6j - (4 + 1j) * 2\n",
        "print(z)"
      ],
      "metadata": {
        "id": "7GxevqYLm1u0"
      },
      "execution_count": null,
      "outputs": []
    },
    {
      "cell_type": "markdown",
      "source": [
        "**EJERCICIO 07**"
      ],
      "metadata": {
        "id": "R6CgCDmNm3sL"
      }
    },
    {
      "cell_type": "markdown",
      "source": [
        "Realiza la siguiente operación en Python... y pásala a formaro python"
      ],
      "metadata": {
        "id": "zLBgJB4Km6Rz"
      }
    },
    {
      "cell_type": "code",
      "source": [
        "z = ((1 + 1j) / (1 - 1j)) + (2 / (-1 + 1j))\n",
        "print(z)"
      ],
      "metadata": {
        "id": "0rs4WoNKm9Kz"
      },
      "execution_count": null,
      "outputs": []
    },
    {
      "cell_type": "markdown",
      "source": [
        "**EJERCICIO 08**"
      ],
      "metadata": {
        "id": "7Wpgfc-tm_8L"
      }
    },
    {
      "cell_type": "markdown",
      "source": [
        "Realiza la siguiente operación en Python... y pásala a formato python"
      ],
      "metadata": {
        "id": "9ESdjFBdnC0b"
      }
    },
    {
      "cell_type": "code",
      "source": [
        "z = (1 + 1j)**2\n",
        "print(z)"
      ],
      "metadata": {
        "id": "3YBvOZQAnF3z"
      },
      "execution_count": null,
      "outputs": []
    },
    {
      "cell_type": "markdown",
      "source": [
        "**EJERCICIO 09**"
      ],
      "metadata": {
        "id": "xVcgRdO1nIbb"
      }
    },
    {
      "cell_type": "markdown",
      "source": [
        "Realiza la siguiente operación en Python, donde Mod(z) indica módulo del complejo z y pásala a formato python"
      ],
      "metadata": {
        "id": "rdJhM6cmnK86"
      }
    },
    {
      "cell_type": "code",
      "source": [
        "z = (9 - 3j) / (-2 - 1j)\n",
        "print(abs(z))"
      ],
      "metadata": {
        "id": "8yugGVHUnOU6"
      },
      "execution_count": null,
      "outputs": []
    },
    {
      "cell_type": "markdown",
      "source": [
        "**EJERCICIO 10**"
      ],
      "metadata": {
        "id": "rb8wIlRWnQtS"
      }
    },
    {
      "cell_type": "markdown",
      "source": [
        "¿Cuál es el argumento del número complejo i?"
      ],
      "metadata": {
        "id": "HQmSiPefnVmi"
      }
    },
    {
      "cell_type": "code",
      "source": [
        "import cmath\n",
        "z = 1j\n",
        "print(cmath.phase(z))"
      ],
      "metadata": {
        "id": "BafFtseanZwi"
      },
      "execution_count": null,
      "outputs": []
    }
  ]
}