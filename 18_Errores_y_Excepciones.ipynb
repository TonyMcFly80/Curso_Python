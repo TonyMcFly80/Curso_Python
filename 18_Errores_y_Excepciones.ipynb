{
  "nbformat": 4,
  "nbformat_minor": 0,
  "metadata": {
    "colab": {
      "provenance": [],
      "authorship_tag": "ABX9TyMADDN9YUehqPlAtdlbEQam"
    },
    "kernelspec": {
      "name": "python3",
      "display_name": "Python 3"
    },
    "language_info": {
      "name": "python"
    }
  },
  "cells": [
    {
      "cell_type": "markdown",
      "source": [
        "#ERRORES Y EXCEPCIONES\n",
        "\n"
      ],
      "metadata": {
        "id": "GjVRoR-O0-0P"
      }
    },
    {
      "cell_type": "markdown",
      "source": [
        "*Examen que tuve que realizar para completar con exito este tema perteneciente al curso de Python.*"
      ],
      "metadata": {
        "id": "XLNGqSt5_0Dv"
      }
    },
    {
      "cell_type": "markdown",
      "source": [
        "**NOTA:** No es necesario usar código para comprobar si los datos introducidos por el usuario son correctos. Vamos a interpretar que así es por ahora a menos que se especifique lo contrario."
      ],
      "metadata": {
        "id": "6zZzP30504cA"
      }
    },
    {
      "cell_type": "markdown",
      "source": [
        "# EXAMEN"
      ],
      "metadata": {
        "id": "TQwFzcrS_ZDZ"
      }
    },
    {
      "cell_type": "markdown",
      "source": [
        "**EJERCICIO 01**"
      ],
      "metadata": {
        "id": "8blzg16J1QM-"
      }
    },
    {
      "cell_type": "markdown",
      "source": [
        "Dada la función divisors(), asegura con assert que el parámetro n se trata de un número entero positivo.\n",
        "De lo contrario, muestra como mensaje que \"n debe ser de tipo int y debe ser mayor que 0\""
      ],
      "metadata": {
        "id": "RRqn6390TyAU"
      }
    },
    {
      "cell_type": "code",
      "execution_count": null,
      "metadata": {
        "id": "TPgyFqjjTfZR"
      },
      "outputs": [],
      "source": [
        "# CÓDIGO DEL ENUNCIADO\n",
        "\n",
        "def divisors(n):\n",
        "\"\"\"\n",
        "Calcula los divisores de un número entero positivo.\n",
        "Args:\n",
        "n: Número entero positivo\n",
        "Returns:\n",
        "divisors: Lista de divisores de n\n",
        "\"\"\"\n",
        "divisors = []\n",
        "for i in range(1, n + 1):\n",
        "if n % i == 0: divisors.append(i)\n",
        "return divisors"
      ]
    },
    {
      "cell_type": "code",
      "source": [
        "# EJERCICIO 01 RESUELTO\n",
        "def divisors(n):\n",
        "    \"\"\"\n",
        "    Calcula los divisores de un número entero positivo.\n",
        "    :param n: Número entero positivo.\n",
        "    :return: Lista de divisores de n.\n",
        "    \"\"\"\n",
        "    assert n > 0 and type(n) == int, 'n debe ser de tipo int y debe ser mayor que 0'\n",
        "    \n",
        "    divisors = []\n",
        "    \n",
        "    for i in range(1, n + 1):\n",
        "        if n % i == 0:\n",
        "            divisors.append(i)\n",
        "    \n",
        "    return divisors"
      ],
      "metadata": {
        "id": "qE-aCzFpUDjm"
      },
      "execution_count": null,
      "outputs": []
    },
    {
      "cell_type": "markdown",
      "source": [
        "**EJERCICIO 02**"
      ],
      "metadata": {
        "id": "gJXxkQSbX2iN"
      }
    },
    {
      "cell_type": "markdown",
      "source": [
        "Dada la función divisors(), muestra TypeError con el mensaje correspondiente si el parámetro n no se trata de un número entero y muestra ValueError con el mensaje correspondiente si n no se trata de un número positivo."
      ],
      "metadata": {
        "id": "PjsvMbR5X5qd"
      }
    },
    {
      "cell_type": "code",
      "source": [
        "# CÓDIGO DEL ENUNCIADO\n",
        "def divisors(n):\n",
        "\"\"\"\n",
        "Calcula los divisores de un número entero positivo.\n",
        "Args:\n",
        "n: Número entero positivo\n",
        "Returns:\n",
        "divisors: Lista de divisores de n\n",
        "\"\"\"\n",
        "divisors = []\n",
        "for i in range(1, n + 1):\n",
        "if n % i == 0: divisors.append(i)\n",
        "return divisors"
      ],
      "metadata": {
        "id": "c_XpB9rGX_-K"
      },
      "execution_count": null,
      "outputs": []
    },
    {
      "cell_type": "code",
      "source": [
        "# EJERCICIO 02 RESUELTO\n",
        "def divisors(n):\n",
        "    \"\"\"\n",
        "    Calcula los divisores de un número entero positivo.\n",
        "    :param n: Número entero positivo.\n",
        "    :return: Lista de divisores de n.\n",
        "    \"\"\"\n",
        "    if n <= 0:\n",
        "        raise ValueError('n tiene que ser positivo')\n",
        "\n",
        "    elif type(n) != int:\n",
        "        raise TypeError('n tiene que ser un número entero')\n",
        "\n",
        "    divisors = []\n",
        "\n",
        "    for i in range(1, n + 1):\n",
        "        if n % i == 0:\n",
        "            divisors.append(i)\n",
        "\n",
        "    return divisors"
      ],
      "metadata": {
        "id": "cq2J8H5gYIBs"
      },
      "execution_count": null,
      "outputs": []
    },
    {
      "cell_type": "markdown",
      "source": [
        "**EJERCICIO 03**"
      ],
      "metadata": {
        "id": "JJP5Dy5BaJ4T"
      }
    },
    {
      "cell_type": "markdown",
      "source": [
        "Dada la función is_palindrome(), asegura con assert que el parámetro word se trata de una variable de tipo string. De lo contrario, muestra como mensaje que \"word debe ser de tipo string\"."
      ],
      "metadata": {
        "id": "QypGsXl1aMh7"
      }
    },
    {
      "cell_type": "code",
      "source": [
        "# CÓDIGO DEL ENUNCIADO\n",
        "def is_palindrome(word):\n",
        "\"\"\"\n",
        "Devuelve si la palabra word es palíndroma.\n",
        "Args:\n",
        "word: Palabra\n",
        "Returns:\n",
        "isPalindrome: Booleano\n",
        "\"\"\"\n",
        "word = word.lower()\n",
        "l = []\n",
        "isPalindrome = True\n",
        "for c in word:\n",
        "l.append(c)\n",
        "n = len(l)\n",
        "for i in range(int(n / 2)):\n",
        "if l[i] != l[n - (i + 1)]: isPalindrome = False\n",
        "return isPalindrome"
      ],
      "metadata": {
        "id": "sptnEZtnaRGw"
      },
      "execution_count": null,
      "outputs": []
    },
    {
      "cell_type": "code",
      "source": [
        "# EJERCICIO 03 RESUELTO\n",
        "def is_palindrome(word):\n",
        "    \"\"\"\n",
        "    Devuelve si la palabra word es palíndroma.\n",
        "    :param word: Palabra.\n",
        "    :return: Booleano.\n",
        "    \"\"\"\n",
        "    assert type(word) == str, 'word debe ser de tipo string'\n",
        "\n",
        "    word = word.lower()\n",
        "    l = []\n",
        "    isPalindrome = True\n",
        "\n",
        "    for c in word:\n",
        "        l.append(c)\n",
        "        n = len(l)\n",
        "\n",
        "    for i in range(int(n / 2)):\n",
        "        if l[i] != l[n - (i + 1)]:\n",
        "            isPalindrome = False\n",
        "\n",
        "    return isPalindrome"
      ],
      "metadata": {
        "id": "NZrJlPopaXw6"
      },
      "execution_count": null,
      "outputs": []
    },
    {
      "cell_type": "markdown",
      "source": [
        "**EJERCICIO 04**"
      ],
      "metadata": {
        "id": "nFt5SJevcQLK"
      }
    },
    {
      "cell_type": "markdown",
      "source": [
        "Dada la función is_palindrome(), muestra TypeError con el mensaje correspondiente si word no se trata de una variable de tipo string."
      ],
      "metadata": {
        "id": "Wuq5209KcSlp"
      }
    },
    {
      "cell_type": "code",
      "source": [
        "# CÓDIGO DEL ENUNCIADO\n",
        "def is_palindrome(word):\n",
        "\"\"\"\n",
        "Devuelve si la palabra word es palíndroma.\n",
        "Args:\n",
        "word: Palabra\n",
        "Returns:\n",
        "isPalindrome: Booleano\n",
        "\"\"\"\n",
        "word = word.lower()\n",
        "l = []\n",
        "isPalindrome = True\n",
        "for c in word:\n",
        "l.append(c)\n",
        "n = len(l)\n",
        "for i in range(int(n / 2)):\n",
        "if l[i] != l[n - (i + 1)]: isPalindrome = False\n",
        "return isPalindrome"
      ],
      "metadata": {
        "id": "VOgMaOiJcWXX"
      },
      "execution_count": null,
      "outputs": []
    },
    {
      "cell_type": "code",
      "source": [
        "# EJERCICIO 04 RESUELTO\n",
        "def is_palindrome(word):\n",
        "    \"\"\"\n",
        "    Devuelve si la palabra word es palíndroma.\n",
        "    :param word: Palabra.\n",
        "    :return: Booleano.\n",
        "    \"\"\"\n",
        "    if type(word) != str:\n",
        "        raise TypeError('word tiene que ser una palabra de tipo string')\n",
        "\n",
        "    word = word.lower()\n",
        "    l = []\n",
        "    isPalindrome = True\n",
        "\n",
        "    for c in word:\n",
        "        l.append(c)\n",
        "        n = len(l)\n",
        "\n",
        "    for i in range(int(n / 2)):\n",
        "        if l[i] != l[n - (i + 1)]:\n",
        "            isPalindrome = False\n",
        "\n",
        "    return isPalindrome"
      ],
      "metadata": {
        "id": "WN_Nj8d-ccgp"
      },
      "execution_count": null,
      "outputs": []
    },
    {
      "cell_type": "markdown",
      "source": [
        "**EJERCICIO 05**"
      ],
      "metadata": {
        "id": "uodLaSzqdJak"
      }
    },
    {
      "cell_type": "markdown",
      "source": [
        "Dada la función is_palindrome(), muestra ValueError con el mensaje correspondiente si word no se trata de una palabra. Es decir, si una vez ha pasado la comprobación de ser una variable de tipo string, comprueba que no tiene espacios."
      ],
      "metadata": {
        "id": "rLFXrp_CdL2m"
      }
    },
    {
      "cell_type": "code",
      "source": [
        "# CÓDIGO DEL ENUNCIADO\n",
        "def is_palindrome(word):\n",
        "\"\"\"\n",
        "Devuelve si la palabra word es palíndroma.\n",
        "Args:\n",
        "word: Palabra\n",
        "Returns:\n",
        "isPalindrome: Booleano\n",
        "\"\"\"\n",
        "word = word.lower()\n",
        "l = []\n",
        "isPalindrome = True\n",
        "for c in word:\n",
        "l.append(c)\n",
        "n = len(l)\n",
        "for i in range(int(n / 2)):\n",
        "if l[i] != l[n - (i + 1)]: isPalindrome = False\n",
        "return isPalindrome"
      ],
      "metadata": {
        "id": "m2m71zVHdSAD"
      },
      "execution_count": null,
      "outputs": []
    },
    {
      "cell_type": "code",
      "source": [
        "# EJERCICIO 05 RESUELTO\n",
        "def is_palindrome(word):\n",
        "    \"\"\"\n",
        "    Devuelve si la palabra word es palíndroma.\n",
        "    :param word: Palabra.\n",
        "    :return: Booleano.\n",
        "    \"\"\"\n",
        "    if type(word) != str:\n",
        "        raise TypeError('word tiene que ser una palabra de tipo string')\n",
        "    elif ' ' in word:\n",
        "        raise TypeError('word no puede contener espacios')\n",
        "\n",
        "    word = word.lower()\n",
        "    l = []\n",
        "    isPalindrome = True\n",
        "\n",
        "    for c in word:\n",
        "        l.append(c)\n",
        "        n = len(l)\n",
        "\n",
        "    for i in range(int(n / 2)):\n",
        "        if l[i] != l[n - (i + 1)]:\n",
        "            isPalindrome = False\n",
        "\n",
        "    return isPalindrome"
      ],
      "metadata": {
        "id": "JWSEP2VPdioc"
      },
      "execution_count": null,
      "outputs": []
    },
    {
      "cell_type": "markdown",
      "source": [
        "**EJERCICIO 06**"
      ],
      "metadata": {
        "id": "zoXHAmuheSxB"
      }
    },
    {
      "cell_type": "markdown",
      "source": [
        "Dada la función is_palindrome() del resultado del ejercicio anterior, modifícala de modo que acepte no solo palabras sino también frases y devuelva si el string introducido es palíndromo o no. Recuerda tener en cuenta la excepción TypeError junto al mensaje correspondiente."
      ],
      "metadata": {
        "id": "Dyp-0EbleVVY"
      }
    },
    {
      "cell_type": "code",
      "source": [
        "def is_palindrome(word):\n",
        "    \"\"\"\n",
        "    Devuelve si la palabra word es palíndroma.\n",
        "    :param word: Palabra.\n",
        "    :return: Booleano.\n",
        "    \"\"\"\n",
        "    if type(word) != str:\n",
        "        raise TypeError('word tiene que ser una palabra de tipo string')\n",
        "\n",
        "    word = word.replace(' ', '')\n",
        "    word = word.lower()\n",
        "\n",
        "    l = []\n",
        "    isPalindrome = True\n",
        "\n",
        "    for c in word:\n",
        "        l.append(c)\n",
        "        n = len(l)\n",
        "\n",
        "    for i in range(int(n / 2)):\n",
        "        if l[i] != l[n - (i + 1)]:\n",
        "            isPalindrome = False\n",
        "\n",
        "    return isPalindrome"
      ],
      "metadata": {
        "id": "FQgk0FHkfd7p"
      },
      "execution_count": null,
      "outputs": []
    },
    {
      "cell_type": "markdown",
      "source": [
        "**EJERCICIO 07**"
      ],
      "metadata": {
        "id": "JP1-qIcwfvHA"
      }
    },
    {
      "cell_type": "markdown",
      "source": [
        "Utiliza try / except para dado un objeto de Python guardado en la variable x, aplicarle el método .index() y localizar el elemento \"c\". En el bloque try, guarda el resultado en la variable result. En el bloque except, en la variable result, si el objeto x es una lista, guarda el mensaje \"La lista no tiene el elemento \"c\". En caso contario, guarda el mensaje \"El objeto {tipo del objeto que sea x} no tiene el método .index()\". Finalmente, imprime por pantalla el resultado."
      ],
      "metadata": {
        "id": "fMpPGBgefyFK"
      }
    },
    {
      "cell_type": "code",
      "source": [
        "x = 'La vida es así'\n",
        "\n",
        "try:\n",
        "    result = x.index('c')\n",
        "\n",
        "except:\n",
        "    if type(x) == list:\n",
        "        result = 'La lista no tiene el elemento \\\"c\\\"'\n",
        "    elif type(x) == str:\n",
        "        result = f'El objeto {type(x)} no contiene el elemento \\\"c\\\"'\n",
        "    else:\n",
        "        result = f'El objeto {type(x)} no tiene el método .index()'\n",
        "\n",
        "print(result)"
      ],
      "metadata": {
        "id": "bHvCUKFwf6Nn"
      },
      "execution_count": null,
      "outputs": []
    },
    {
      "cell_type": "markdown",
      "source": [
        "**EJERCICIO 08**"
      ],
      "metadata": {
        "id": "tCZauJQAj85Y"
      }
    },
    {
      "cell_type": "markdown",
      "source": [
        "Crea una función que calcule el área de un cuadrado. Como parámetro se recibirá un número real, correspondiente a la longitud de la base. Lanza las excepciones pertinentes siempre que el parámetro no se trate de un número real o entero positivo.\n"
      ],
      "metadata": {
        "id": "lK0t90wLj_rv"
      }
    },
    {
      "cell_type": "code",
      "source": [
        "def area_cuadrado(num):\n",
        "    \"\"\"\n",
        "    Calcura el área de la base de un cuadrado.\n",
        "    :param num: Tamaño de uno de los lados del cuadrado.\n",
        "    :return: Resultado del área.\n",
        "    \"\"\"\n",
        "    if type(num) != int and type(num) != float:\n",
        "        raise TypeError('El número tiene que ser un entero o decimal')\n",
        "\n",
        "    if num < 0:\n",
        "        raise ValueError('El número no puede ser negativo')\n",
        "\n",
        "    area = num * num\n",
        "\n",
        "    return area"
      ],
      "metadata": {
        "id": "V84tkH_RkCbV"
      },
      "execution_count": null,
      "outputs": []
    },
    {
      "cell_type": "markdown",
      "source": [
        "**EJERCICIO 09**"
      ],
      "metadata": {
        "id": "NP2ezb8ynUnW"
      }
    },
    {
      "cell_type": "markdown",
      "source": [
        "Crea una función que solicite al usuario la edad. Lanza una excepción en caso de que no se trate de una edad válida. Se considera edad no válida una edad negativa o mayor a 150. En cada caso, lanza el mensaje correspondiente"
      ],
      "metadata": {
        "id": "PagynzI3nYJw"
      }
    }
  ]
}