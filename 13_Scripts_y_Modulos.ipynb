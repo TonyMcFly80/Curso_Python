{
  "nbformat": 4,
  "nbformat_minor": 0,
  "metadata": {
    "colab": {
      "provenance": [],
      "authorship_tag": "ABX9TyN1BLPJLedjfehPQgutZkBV"
    },
    "kernelspec": {
      "name": "python3",
      "display_name": "Python 3"
    },
    "language_info": {
      "name": "python"
    }
  },
  "cells": [
    {
      "cell_type": "markdown",
      "source": [
        "#SCRIPT Y MÓDULOS\n",
        "\n"
      ],
      "metadata": {
        "id": "GjVRoR-O0-0P"
      }
    },
    {
      "cell_type": "markdown",
      "source": [
        "*Ejercicios y examen que tuve que realizar para completar con exito este tema perteneciente al curso de Python.*"
      ],
      "metadata": {
        "id": "XLNGqSt5_0Dv"
      }
    },
    {
      "cell_type": "markdown",
      "source": [
        "**NOTA:** No es necesario usar código para comprobar si los datos introducidos por el usuario son correctos. Vamos a interpretar que así es por ahora a menos que se especifique lo contrario."
      ],
      "metadata": {
        "id": "6zZzP30504cA"
      }
    },
    {
      "cell_type": "markdown",
      "source": [
        "# EJERCICIOS"
      ],
      "metadata": {
        "id": "TQwFzcrS_ZDZ"
      }
    },
    {
      "cell_type": "markdown",
      "source": [
        "**TAREA 01**"
      ],
      "metadata": {
        "id": "8blzg16J1QM-"
      }
    },
    {
      "cell_type": "markdown",
      "source": [
        "Vamos a crear un script llamado `geometry.py` y en él vamos a crear la clase `RegularPolygon`. \n",
        "\n",
        "* El constructor tomará 2 parámetros: \n",
        "    - `base`: longitud de la base\n",
        "    - `n`: número de lados\n",
        "* El método `.__str__()` mostrará \"Soy un polígono de {} lados de longitud {}\".\n",
        "* El método de instancia `.apothem()` calculará el apotema. Lo convertiremos en una propiedad.\n",
        "* El método de instancia `.area()` calculará el área del polígono. Lo convertiremos en una propiedad.\n",
        "* El método de instancia `.perimeter()` calculará el perímetro del polígono. Lo convertiremos en una propiedad."
      ],
      "metadata": {
        "id": "cH6FbYLbw0ff"
      }
    },
    {
      "cell_type": "code",
      "execution_count": null,
      "metadata": {
        "id": "-wd6xt50wXWB"
      },
      "outputs": [],
      "source": [
        "import math\n",
        "\n",
        "\n",
        "class RegularPolygon(object):\n",
        "\n",
        "    def __init__(self, base, n=3):\n",
        "        self.base = base\n",
        "        self.n = n\n",
        "\n",
        "    def __str__(self):\n",
        "        return f'Soy un polígono regular de {self.n} lados de longitud {self.base}'\n",
        "\n",
        "    @property\n",
        "    def apothem(self):\n",
        "        return self.base / (2 * round(math.tan(math.pi / self.n), 3))\n",
        "\n",
        "    @property\n",
        "    def area(self):\n",
        "        return self.apothem * self.perimeter / 2\n",
        "\n",
        "    @property\n",
        "    def perimeter(self):\n",
        "        return self.base * self.n"
      ]
    },
    {
      "cell_type": "markdown",
      "source": [
        "**TAREA 02**"
      ],
      "metadata": {
        "id": "iyEMzjKcIrWG"
      }
    },
    {
      "cell_type": "markdown",
      "source": [
        "Vamos a crear las clases `Triangle`, `Square` y `Pentagon`, que hereden de la clase `RegularPolygon`. Solamente cambiaremos el constructor."
      ],
      "metadata": {
        "id": "PubohQKwIvH9"
      }
    },
    {
      "cell_type": "code",
      "source": [
        "import math\n",
        "\n",
        "\n",
        "class RegularPolygon(object):\n",
        "\n",
        "    def __init__(self, base, n=3):\n",
        "        self.base = base\n",
        "        self.n = n\n",
        "\n",
        "    def __str__(self):\n",
        "        return f'Soy un polígono regular de {self.n} lados de longitud {self.base}'\n",
        "\n",
        "    @property\n",
        "    def apothem(self):\n",
        "        return self.base / (2 * round(math.tan(math.pi / self.n), 3))\n",
        "\n",
        "    @property\n",
        "    def area(self):\n",
        "        return self.apothem * self.perimeter / 2\n",
        "\n",
        "    @property\n",
        "    def perimeter(self):\n",
        "        return self.base * self.n\n",
        "\n",
        "\n",
        "class Triangle(RegularPolygon):\n",
        "    def __init__(self, base):\n",
        "        super().__init__(base, 3)\n",
        "\n",
        "\n",
        "class Square(RegularPolygon):\n",
        "    def __init__(self, base):\n",
        "        super().__init__(base, 4)\n",
        "\n",
        "\n",
        "class Pentagon(RegularPolygon):\n",
        "    def __init__(self, base):\n",
        "        super().__init__(base, 5)"
      ],
      "metadata": {
        "id": "KIHwTI05IvvW"
      },
      "execution_count": null,
      "outputs": []
    },
    {
      "cell_type": "markdown",
      "source": [
        "**TAREA 03**"
      ],
      "metadata": {
        "id": "XaAtIqkeMUDO"
      }
    },
    {
      "cell_type": "markdown",
      "source": [
        "Vamos a crear las clases `Tetrahedron` y `Cube`. La primera hereda de la clase `Triangle` y la segunda, de la clase `Square`. A ambas clases les vamos a añadir el método `.volume()`, que convertiremos en ambos casos a propiedad. También tendremos que modificar ligeramente la propiedad `.area` y el método `.__str__()`."
      ],
      "metadata": {
        "id": "NC0IsdZqMUlG"
      }
    },
    {
      "cell_type": "code",
      "source": [
        "import math\n",
        "\n",
        "\n",
        "class RegularPolygon(object):\n",
        "\n",
        "    def __init__(self, base, n=3):\n",
        "        self.base = base\n",
        "        self.n = n\n",
        "\n",
        "    def __str__(self):\n",
        "        return f'Soy un polígono regular de {self.n} lados de longitud {self.base}'\n",
        "\n",
        "    @property\n",
        "    def apothem(self):\n",
        "        return self.base / (2 * round(math.tan(math.pi / self.n), 3))\n",
        "\n",
        "    @property\n",
        "    def area(self):\n",
        "        return self.apothem * self.perimeter / 2\n",
        "\n",
        "    @property\n",
        "    def perimeter(self):\n",
        "        return self.base * self.n\n",
        "\n",
        "\n",
        "class Triangle(RegularPolygon):\n",
        "    def __init__(self, base):\n",
        "        super().__init__(base, 3)\n",
        "\n",
        "\n",
        "class Square(RegularPolygon):\n",
        "    def __init__(self, base):\n",
        "        super().__init__(base, 4)\n",
        "\n",
        "\n",
        "class Pentagon(RegularPolygon):\n",
        "    def __init__(self, base):\n",
        "        super().__init__(base, 5)\n",
        "\n",
        "\n",
        "class Tetrahedrom(Triangle):\n",
        "    def __str__(self):\n",
        "        return f'Soy un tetraedro con lados de longitud {self.base}'\n",
        "\n",
        "    @property\n",
        "    def area(self):\n",
        "        return 4 * super().area\n",
        "\n",
        "    @property\n",
        "    def volume(self):\n",
        "        return math.sqrt(2) / 12 * self.base\n",
        "\n",
        "\n",
        "class Cube(Square):\n",
        "    def __str__(self):\n",
        "        return f'Soy un cubo con lados de longitu {self.base}'\n",
        "    \n",
        "    @property\n",
        "    def area(self):\n",
        "        return 6 * super().area\n",
        "\n",
        "    @property\n",
        "    def volume(self):\n",
        "        return super().area * self.base"
      ],
      "metadata": {
        "id": "FqNMCEuDMVGG"
      },
      "execution_count": null,
      "outputs": []
    },
    {
      "cell_type": "markdown",
      "source": [
        "**TAREA 04**"
      ],
      "metadata": {
        "id": "eW2Hiwk7PNhb"
      }
    },
    {
      "cell_type": "markdown",
      "source": [
        "Vamos a crear la clase `Circle` que por parámetro tome el radio `r` y tenga 4 métodos: el constructor y las propiedad `.diameter()`, `.perimeter()` y `.area()`.\n",
        "\n",
        "Finalmente vamos a crear la clase `Cylinder` que herede de `Circle` y `Square`. Vamos a modificar la propiedad `.area()` y crear la propiedad `.volume()`."
      ],
      "metadata": {
        "id": "8AQaLmpGPN6T"
      }
    },
    {
      "cell_type": "markdown",
      "source": [
        "Aquí `geometry.py`"
      ],
      "metadata": {
        "id": "P2bHb1C1PZOC"
      }
    },
    {
      "cell_type": "code",
      "source": [
        "import math\n",
        "\n",
        "\n",
        "class RegularPolygon(object):\n",
        "\n",
        "    def __init__(self, base, n=3):\n",
        "        self.base = base\n",
        "        self.n = n\n",
        "\n",
        "    def __str__(self):\n",
        "        return f'Soy un polígono regular de {self.n} lados de longitud {self.base}'\n",
        "\n",
        "    @property\n",
        "    def apothem(self):\n",
        "        return self.base / (2 * round(math.tan(math.pi / self.n), 3))\n",
        "\n",
        "    @property\n",
        "    def area(self):\n",
        "        return self.apothem * self.perimeter / 2\n",
        "\n",
        "    @property\n",
        "    def perimeter(self):\n",
        "        return self.base * self.n\n",
        "\n",
        "\n",
        "class Triangle(RegularPolygon):\n",
        "    def __init__(self, base):\n",
        "        super().__init__(base, 3)\n",
        "\n",
        "\n",
        "class Square(RegularPolygon):\n",
        "    def __init__(self, base):\n",
        "        super().__init__(base, 4)\n",
        "\n",
        "\n",
        "class Pentagon(RegularPolygon):\n",
        "    def __init__(self, base):\n",
        "        super().__init__(base, 5)\n",
        "\n",
        "\n",
        "class Tetrahedrom(Triangle):\n",
        "    def __str__(self):\n",
        "        return f'Soy un tetraedro con lados de longitud {self.base}'\n",
        "\n",
        "    @property\n",
        "    def area(self):\n",
        "        return 4 * super().area\n",
        "\n",
        "    @property\n",
        "    def volume(self):\n",
        "        return math.sqrt(2) / 12 * self.base\n",
        "\n",
        "\n",
        "class Cube(Square):\n",
        "    def __str__(self):\n",
        "        return f'Soy un cubo con lados de longitud {self.base}'\n",
        "\n",
        "    @property\n",
        "    def area(self):\n",
        "        return 6 * super().area\n",
        "\n",
        "    @property\n",
        "    def volume(self):\n",
        "        return super().area * self.base\n",
        "\n",
        "\n",
        "class Circle(object):\n",
        "    def __init__(self, r):\n",
        "        self.r = r\n",
        "\n",
        "    def __str__(self):\n",
        "        return f'Soy un cículo de radio {self.r}'\n",
        "\n",
        "    @property\n",
        "    def diameter(self):\n",
        "        return 2 * self.r\n",
        "\n",
        "    @property\n",
        "    def perimeter(self):\n",
        "        return self.diameter * math.pi\n",
        "\n",
        "    @property\n",
        "    def area(self):\n",
        "        return math.pi * self.r**2\n",
        "\n",
        "\n",
        "class Cylinder(Circle, Square):\n",
        "    def __init__(self, r):\n",
        "        super().__init__(r)\n",
        "        self.height = super().perimeter\n",
        "\n",
        "    def __str__(self):\n",
        "        return f'Soy un cilindro de altura {round(self.height, 3)} y radio {self.r}'\n",
        "\n",
        "    @property\n",
        "    def area(self):\n",
        "        lateral_area = self.height**2\n",
        "        base_area = super().area\n",
        "        return 2 * base_area + lateral_area\n",
        "\n",
        "    @property\n",
        "    def volume(self):\n",
        "        base_area = super().area\n",
        "        return base_area * self.height"
      ],
      "metadata": {
        "id": "rsDiKcZrPOXb"
      },
      "execution_count": null,
      "outputs": []
    },
    {
      "cell_type": "markdown",
      "source": [
        "Aquí `ini.py`"
      ],
      "metadata": {
        "id": "iNXD6GsgPsHR"
      }
    },
    {
      "cell_type": "code",
      "source": [
        "from geometry import *\n",
        "\n",
        "s = RegularPolygon(2, 4)\n",
        "print(s)\n",
        "\n",
        "square = Square(2)\n",
        "print(square)\n",
        "\n",
        "print(s.perimeter)\n",
        "print(square.perimeter)\n",
        "\n",
        "print(s.area)\n",
        "print(square.area)\n",
        "\n",
        "cube = Cube(2)\n",
        "print(cube)\n",
        "\n",
        "print(cube.area)\n",
        "print(cube.volume)\n",
        "\n",
        "c = Cylinder(1)\n",
        "print(c.diameter)\n",
        "print(c.area)"
      ],
      "metadata": {
        "id": "zEh-WFliPz3O"
      },
      "execution_count": null,
      "outputs": []
    },
    {
      "cell_type": "markdown",
      "source": [
        "# EXAMEN"
      ],
      "metadata": {
        "id": "mlHCKwpcRqm7"
      }
    },
    {
      "cell_type": "markdown",
      "source": [
        "**EJERCICIO 01**"
      ],
      "metadata": {
        "id": "M2IhhGk1Rp4R"
      }
    },
    {
      "cell_type": "markdown",
      "source": [
        "Crea un script llamado vectors.py. Ábrelo y crea una clase llamada Vector2D. El constructor debe guardar\n",
        "las coordenadas x e y del vector."
      ],
      "metadata": {
        "id": "8kDJIBDRRx7Y"
      }
    },
    {
      "cell_type": "code",
      "source": [
        "class Vector2D(object):\n",
        "    def __init__(self, x, y):\n",
        "        self.x = x\n",
        "        self.y = y"
      ],
      "metadata": {
        "id": "G5nlPHD-z7mn"
      },
      "execution_count": null,
      "outputs": []
    },
    {
      "cell_type": "markdown",
      "source": [
        "**EJERCICIO 02**"
      ],
      "metadata": {
        "id": "N2NxUtjnz_lO"
      }
    },
    {
      "cell_type": "markdown",
      "source": [
        "Crea los siguientes métodos:\n",
        "- La propiedad .module que devuelva el módulo del vector. Recuerda que el módulo de un vector 2D se\n",
        "calcula como raiz cuadradra de X al cuadrado + Y al cuadro. Para calcular raíces cuadradas, dispones del método math.sqrt().\n",
        "- El método de instancia .scalar_prod() que multiplique el vector por el número real dado por\n",
        "parámetro, que por defecto vale 1.\n",
        "\n",
        "Configura el método .__str__ para que se nos muestre por pantalla el vector de la forma (x, y)."
      ],
      "metadata": {
        "id": "j_meTd4F0KMG"
      }
    },
    {
      "cell_type": "code",
      "source": [
        "import math\n",
        "\n",
        "\n",
        "class Vector2D(object):\n",
        "    def __init__(self, x, y):\n",
        "        self.x = x\n",
        "        self.y = y\n",
        "\n",
        "    def __str__(self):\n",
        "        return f'({self.x}, {self.y})'\n",
        "\n",
        "    @property\n",
        "    def module(self):\n",
        "        return math.sqrt(self.x**2 + self.y**2)\n",
        "\n",
        "    def scalar_prod(self, n=1):\n",
        "        self.x *= n\n",
        "        self.y *= n"
      ],
      "metadata": {
        "id": "QagIanGY0rxg"
      },
      "execution_count": null,
      "outputs": []
    },
    {
      "cell_type": "markdown",
      "source": [
        "**EJERCICIO 03**"
      ],
      "metadata": {
        "id": "hyOBMMGe2S6g"
      }
    },
    {
      "cell_type": "markdown",
      "source": [
        "Crea los siguientes métodos:\n",
        "- El método de clase .sum() que dados dos vectores los sume y devuelva un objeto de la clase Vector2D.\n",
        "- El método de clase .subtract() que dadoas dos vectores los reste y devuelva un objeto de la clase\n",
        "Vector2D."
      ],
      "metadata": {
        "id": "D_cpF3y12Wgv"
      }
    },
    {
      "cell_type": "code",
      "source": [
        "import math\n",
        "\n",
        "\n",
        "class Vector2D(object):\n",
        "    def __init__(self, x, y):\n",
        "        self.x = x\n",
        "        self.y = y\n",
        "\n",
        "    def __str__(self):\n",
        "        return f'({self.x}, {self.y})'\n",
        "\n",
        "    @property\n",
        "    def module(self):\n",
        "        return math.sqrt(self.x**2 + self.y**2)\n",
        "\n",
        "    def scalar_prod(self, n=1):\n",
        "        self.x *= n\n",
        "        self.y *= n\n",
        "\n",
        "    @classmethod\n",
        "    def sum(cls, a, b):\n",
        "        return cls(a.x + b.x, a.y + b.y)\n",
        "\n",
        "    @classmethod\n",
        "    def subtract(cls, a, b):\n",
        "        return cls(a.x - b.x, a.y - b.y)"
      ],
      "metadata": {
        "id": "6w721p-B2cEt"
      },
      "execution_count": null,
      "outputs": []
    },
    {
      "cell_type": "markdown",
      "source": [
        "**EJERCICIO 04**"
      ],
      "metadata": {
        "id": "w74cmBFl5zE0"
      }
    },
    {
      "cell_type": "markdown",
      "source": [
        "Crea los siguientes métodos:\n",
        "- El método estático .dot_product() que dados dos vectores calcule su producto escalar.\n",
        "- El método de clase .distance() que dados dos vectores calcule la distancia entre ellos."
      ],
      "metadata": {
        "id": "fek2636F52i0"
      }
    },
    {
      "cell_type": "code",
      "source": [
        "import math\n",
        "\n",
        "\n",
        "class Vector2D(object):\n",
        "    def __init__(self, x, y):\n",
        "        self.x = x\n",
        "        self.y = y\n",
        "\n",
        "    def __str__(self):\n",
        "        return f'({self.x}, {self.y})'\n",
        "\n",
        "    @property\n",
        "    def module(self):\n",
        "        return math.sqrt(self.x**2 + self.y**2)\n",
        "\n",
        "    def scalar_prod(self, n=1):\n",
        "        self.x *= n\n",
        "        self.y *= n\n",
        "\n",
        "    @classmethod\n",
        "    def sum(cls, a, b):\n",
        "        return cls(a.x + b.x, a.y + b.y)\n",
        "\n",
        "    @classmethod\n",
        "    def subtract(cls, a, b):\n",
        "        return cls(a.x - b.x, a.y - b.y)\n",
        "\n",
        "    @staticmethod\n",
        "    def dot_product(a, b):\n",
        "        return a.x * b.x + a.y * b.y\n",
        "\n",
        "    @classmethod\n",
        "    def distance(cls, a, b):\n",
        "        return cls.subtract(a, b).module"
      ],
      "metadata": {
        "id": "EJ1NN_NA7izJ"
      },
      "execution_count": null,
      "outputs": []
    },
    {
      "cell_type": "markdown",
      "source": [
        "**EJERCICIO 05**"
      ],
      "metadata": {
        "id": "SlsErHex7l4O"
      }
    },
    {
      "cell_type": "markdown",
      "source": [
        "Ahora crea la clase Vector3D que herede de la clase Vector2D. Empieza con el constructor para que además\n",
        "de las coordenadas x e y, también tome la coordenada z. Recuerda que puedes utilizar el método .super()\n",
        "para acceder a métodos de la clase padre."
      ],
      "metadata": {
        "id": "YsZD4pxM7o54"
      }
    },
    {
      "cell_type": "code",
      "source": [
        "import math\n",
        "\n",
        "\n",
        "class Vector2D(object):\n",
        "    def __init__(self, x, y):\n",
        "        self.x = x\n",
        "        self.y = y\n",
        "\n",
        "    def __str__(self):\n",
        "        return f'({self.x}, {self.y})'\n",
        "\n",
        "    @property\n",
        "    def module(self):\n",
        "        return math.sqrt(self.x**2 + self.y**2)\n",
        "\n",
        "    def scalar_prod(self, n=1):\n",
        "        self.x *= n\n",
        "        self.y *= n\n",
        "\n",
        "    @classmethod\n",
        "    def sum(cls, a, b):\n",
        "        return cls(a.x + b.x, a.y + b.y)\n",
        "\n",
        "    @classmethod\n",
        "    def subtract(cls, a, b):\n",
        "        return cls(a.x - b.x, a.y - b.y)\n",
        "\n",
        "    @staticmethod\n",
        "    def dot_product(a, b):\n",
        "        return a.x * b.x + a.y * b.y\n",
        "\n",
        "    @classmethod\n",
        "    def distance(cls, a, b):\n",
        "        return cls.subtract(a, b).module\n",
        "\n",
        "\n",
        "class Vector3D(Vector2D):\n",
        "    def __init__(self, x, y, z):\n",
        "        super().__init__(x, y)\n",
        "        self.z = z"
      ],
      "metadata": {
        "id": "atX2lXe27sag"
      },
      "execution_count": null,
      "outputs": []
    },
    {
      "cell_type": "markdown",
      "source": [
        "**EJERCICIO 06**"
      ],
      "metadata": {
        "id": "whHLn5OWGZNd"
      }
    },
    {
      "cell_type": "markdown",
      "source": [
        "Crea en la clase Vector3D los métodos siguientes:\n",
        "- El método .__str__() para que muestre el vector por pantalla de la forma (x, y, z).\n",
        "- La propiedad .module. Al tener vectores 3D, el módulo se calcula con x, y, z.\n",
        "- El método de instancia .scalar_prod()\n",
        "- Los métodos de clase .sum() y .subtract() para que devuelvan objetos de la clase Vector3D.\n",
        "- El método estático .dot_product(), pues ahora el producto escalar se calcula con x, y, z.\n",
        "- El método de clase .distance(), pues ahora la distancia se calcula con x, y, z."
      ],
      "metadata": {
        "id": "BX5R8rfhGox8"
      }
    },
    {
      "cell_type": "code",
      "source": [
        "import math\n",
        "\n",
        "\n",
        "class Vector2D(object):\n",
        "    def __init__(self, x, y):\n",
        "        self.x = x\n",
        "        self.y = y\n",
        "\n",
        "    def __str__(self):\n",
        "        return f'({self.x}, {self.y})'\n",
        "\n",
        "    @property\n",
        "    def module(self):\n",
        "        return math.sqrt(self.x**2 + self.y**2)\n",
        "\n",
        "    def scalar_prod(self, n=1):\n",
        "        self.x *= n\n",
        "        self.y *= n\n",
        "\n",
        "    @classmethod\n",
        "    def sum(cls, a, b):\n",
        "        return cls(a.x + b.x, a.y + b.y)\n",
        "\n",
        "    @classmethod\n",
        "    def subtract(cls, a, b):\n",
        "        return cls(a.x - b.x, a.y - b.y)\n",
        "\n",
        "    @staticmethod\n",
        "    def dot_product(a, b):\n",
        "        return a.x * b.x + a.y * b.y\n",
        "\n",
        "    @classmethod\n",
        "    def distance(cls, a, b):\n",
        "        return cls.subtract(a, b).module\n",
        "\n",
        "\n",
        "class Vector3D(Vector2D):\n",
        "    def __init__(self, x, y, z):\n",
        "        super().__init__(x, y)\n",
        "        self.z = z\n",
        "\n",
        "    def __str__(self):\n",
        "        return f'({self.x}, {self.y}, {self.z})'\n",
        "\n",
        "    @property\n",
        "    def module(self):\n",
        "        return math.sqrt(self.x ** 2 + self.y ** 2 + self.z ** 2)\n",
        "\n",
        "    def scalar_prod(self, n=1):\n",
        "        super().scalar_prod(n)\n",
        "        self.z *= n\n",
        "\n",
        "    @classmethod\n",
        "    def sum(cls, a, b):\n",
        "        return cls(a.x + b.x, a.y + b.y, a.z + b.z)\n",
        "\n",
        "    @classmethod\n",
        "    def subtract(cls, a, b):\n",
        "        return cls(a.x - b.x, a.y - b.y, a.z - b.z)\n",
        "\n",
        "    @staticmethod\n",
        "    def dot_product(a, b):\n",
        "        return super().dot_product(a, b) + a.z * b.z\n",
        "\n",
        "    @classmethod\n",
        "    def distance(cls, a, b):\n",
        "        return cls.subtract(a, b).module"
      ],
      "metadata": {
        "id": "8Hh3G4TQHRqR"
      },
      "execution_count": null,
      "outputs": []
    },
    {
      "cell_type": "markdown",
      "source": [
        "**EJERCICIO 07**"
      ],
      "metadata": {
        "id": "4q068ISKHYuu"
      }
    },
    {
      "cell_type": "markdown",
      "source": [
        "Crea en la clase Vector3D los métodos siguientes:\n",
        "- El método de clase .zero() que devuelva un objeto Vector3D con todas sus componentes 0.\n",
        "- El método de clase .horizontal() que devuelva un objeto Vector3D con todas sus componentes 0\n",
        "salvo la primera que valdrá 1.\n",
        "- El método de clase .vertical() que devuelva un objeto Vector3D con todas sus componentes 0 salvo\n",
        "la segunda que valdrá 1.\n",
        "- El método de clase .forward() que devuelva un objeto Vector3D con todas sus componentes 0 salvo\n",
        "la tercera y última que valdrá 1.\n"
      ],
      "metadata": {
        "id": "dIltYOhLHcNI"
      }
    },
    {
      "cell_type": "code",
      "source": [
        "import math\n",
        "\n",
        "\n",
        "class Vector2D(object):\n",
        "    def __init__(self, x, y):\n",
        "        self.x = x\n",
        "        self.y = y\n",
        "\n",
        "    def __str__(self):\n",
        "        return f'({self.x}, {self.y})'\n",
        "\n",
        "    @property\n",
        "    def module(self):\n",
        "        return math.sqrt(self.x**2 + self.y**2)\n",
        "\n",
        "    def scalar_prod(self, n=1):\n",
        "        self.x *= n\n",
        "        self.y *= n\n",
        "\n",
        "    @classmethod\n",
        "    def sum(cls, a, b):\n",
        "        return cls(a.x + b.x, a.y + b.y)\n",
        "\n",
        "    @classmethod\n",
        "    def subtract(cls, a, b):\n",
        "        return cls(a.x - b.x, a.y - b.y)\n",
        "\n",
        "    @staticmethod\n",
        "    def dot_product(a, b):\n",
        "        return a.x * b.x + a.y * b.y\n",
        "\n",
        "    @classmethod\n",
        "    def distance(cls, a, b):\n",
        "        return cls.subtract(a, b).module\n",
        "\n",
        "\n",
        "class Vector3D(Vector2D):\n",
        "    def __init__(self, x, y, z):\n",
        "        super().__init__(x, y)\n",
        "        self.z = z\n",
        "\n",
        "    def __str__(self):\n",
        "        return f'({self.x}, {self.y}, {self.z})'\n",
        "\n",
        "    @property\n",
        "    def module(self):\n",
        "        return math.sqrt(self.x ** 2 + self.y ** 2 + self.z ** 2)\n",
        "\n",
        "    def scalar_prod(self, n=1):\n",
        "        super().scalar_prod(n)\n",
        "        self.z *= n\n",
        "\n",
        "    @classmethod\n",
        "    def sum(cls, a, b):\n",
        "        return cls(a.x + b.x, a.y + b.y, a.z + b.z)\n",
        "\n",
        "    @classmethod\n",
        "    def subtract(cls, a, b):\n",
        "        return cls(a.x - b.x, a.y - b.y, a.z - b.z)\n",
        "\n",
        "    @staticmethod\n",
        "    def dot_product(a, b):\n",
        "        return super().dot_product(a, b) + a.z * b.z\n",
        "\n",
        "    @classmethod\n",
        "    def distance(cls, a, b):\n",
        "        return cls.subtract(a, b).module\n",
        "\n",
        "    @classmethod\n",
        "    def zero(cls):\n",
        "        return cls(0, 0, 0)\n",
        "    \n",
        "    @classmethod\n",
        "    def horizontal(cls):\n",
        "        return cls(1, 0, 0)\n",
        "    \n",
        "    @classmethod\n",
        "    def vertical(cls):\n",
        "        return cls(0, 1, 0)\n",
        "    \n",
        "    @classmethod\n",
        "    def forward(cls):\n",
        "        return cls(0, 0, 1)"
      ],
      "metadata": {
        "id": "SN8JEaMBINAl"
      },
      "execution_count": null,
      "outputs": []
    },
    {
      "cell_type": "markdown",
      "source": [
        "**EJERCICIO 08**"
      ],
      "metadata": {
        "id": "qTMwMfxUIQQ9"
      }
    },
    {
      "cell_type": "markdown",
      "source": [
        "Crea en la clase Vector2D el método de instancia .extend_to_3D() que devuelva un objeto de la clase\n",
        "Vector3D siendo la componente z el valor indicado por parámetro, que por defecto valdrá 0.\n"
      ],
      "metadata": {
        "id": "93kupBhUITW9"
      }
    },
    {
      "cell_type": "markdown",
      "source": [
        "Aquí `vectors.py`"
      ],
      "metadata": {
        "id": "tTugGYQaOi0j"
      }
    },
    {
      "cell_type": "code",
      "source": [
        "import math\n",
        "\n",
        "\n",
        "class Vector2D(object):\n",
        "    def __init__(self, x, y):\n",
        "        self.x = x\n",
        "        self.y = y\n",
        "\n",
        "    def __str__(self):\n",
        "        return f'({self.x}, {self.y})'\n",
        "\n",
        "    @property\n",
        "    def module(self):\n",
        "        return math.sqrt(self.x**2 + self.y**2)\n",
        "\n",
        "    def scalar_prod(self, n=1):\n",
        "        self.x *= n\n",
        "        self.y *= n\n",
        "\n",
        "    @classmethod\n",
        "    def sum(cls, a, b):\n",
        "        return cls(a.x + b.x, a.y + b.y)\n",
        "\n",
        "    @classmethod\n",
        "    def subtract(cls, a, b):\n",
        "        return cls(a.x - b.x, a.y - b.y)\n",
        "\n",
        "    @staticmethod\n",
        "    def dot_product(a, b):\n",
        "        return a.x * b.x + a.y * b.y\n",
        "\n",
        "    @classmethod\n",
        "    def distance(cls, a, b):\n",
        "        return cls.subtract(a, b).module\n",
        "    \n",
        "    def extend_to_3D(self, z=0):\n",
        "        return Vector3D(self.x, self.y, z)\n",
        "    \n",
        "        \n",
        "class Vector3D(Vector2D):\n",
        "    def __init__(self, x, y, z):\n",
        "        super().__init__(x, y)\n",
        "        self.z = z\n",
        "\n",
        "    def __str__(self):\n",
        "        return f'({self.x}, {self.y}, {self.z})'\n",
        "\n",
        "    @property\n",
        "    def module(self):\n",
        "        return math.sqrt(self.x ** 2 + self.y ** 2 + self.z ** 2)\n",
        "\n",
        "    def scalar_prod(self, n=1):\n",
        "        super().scalar_prod(n)\n",
        "        self.z *= n\n",
        "\n",
        "    @classmethod\n",
        "    def sum(cls, a, b):\n",
        "        return cls(a.x + b.x, a.y + b.y, a.z + b.z)\n",
        "\n",
        "    @classmethod\n",
        "    def subtract(cls, a, b):\n",
        "        return cls(a.x - b.x, a.y - b.y, a.z - b.z)\n",
        "\n",
        "    @staticmethod\n",
        "    def dot_product(a, b):\n",
        "        return super().dot_product(a, b) + a.z * b.z\n",
        "\n",
        "    @classmethod\n",
        "    def distance(cls, a, b):\n",
        "        return cls.subtract(a, b).module\n",
        "\n",
        "    @classmethod\n",
        "    def zero(cls):\n",
        "        return cls(0, 0, 0)\n",
        "\n",
        "    @classmethod\n",
        "    def horizontal(cls):\n",
        "        return cls(1, 0, 0)\n",
        "\n",
        "    @classmethod\n",
        "    def vertical(cls):\n",
        "        return cls(0, 1, 0)\n",
        "\n",
        "    @classmethod\n",
        "    def forward(cls):\n",
        "        return cls(0, 0, 1)"
      ],
      "metadata": {
        "id": "kG1lROsRI1Ii"
      },
      "execution_count": null,
      "outputs": []
    },
    {
      "cell_type": "markdown",
      "source": [
        "**EJERCICIO 09**"
      ],
      "metadata": {
        "id": "4ND-n-jFI4l6"
      }
    },
    {
      "cell_type": "markdown",
      "source": [
        "En un notebook de Google Colab, importa el script, crea dos objetos de la clase Vector2D y prueba que\n",
        "todos los métodos de la clase Vector2D funcionan correctamente."
      ],
      "metadata": {
        "id": "hlpxszWUJHVR"
      }
    },
    {
      "cell_type": "markdown",
      "source": [
        "Aquí `ini.py`"
      ],
      "metadata": {
        "id": "MVw5kn2-OsSC"
      }
    },
    {
      "cell_type": "code",
      "source": [
        "import vectors as vt\n",
        "\n",
        "# Vector 2D - a\n",
        "a = vt.Vector2D(5, 6)\n",
        "print(a)\n",
        "\n",
        "# Módulo Vector 2D - a\n",
        "print(a.module)\n",
        "\n",
        "# Multiplicar Vector 2D - a\n",
        "a.scalar_prod(6)\n",
        "print(a)\n",
        "\n",
        "# Vector 2D - b\n",
        "b = vt.Vector2D(2, -3)\n",
        "print(b)\n",
        "\n",
        "# Sumar Vector 2D a, b\n",
        "print(vt.Vector2D.sum(a, b))\n",
        "\n",
        "# Restar Vector 2D a, b\n",
        "print((vt.Vector2D.subtract(a, b)))\n",
        "\n",
        "# Multiplicación Vector 2D a, b\n",
        "print((vt.Vector2D.dot_product(a, b)))\n",
        "\n",
        "# Distancia Vector 2D a, b\n",
        "print((vt.Vector2D.distance(a, b)))\n",
        "\n",
        "# Pasar 2D a 3D\n",
        "a3D = a.extend_to_3D(8)\n",
        "print(a3D)"
      ],
      "metadata": {
        "id": "BscTQzRdJJxx"
      },
      "execution_count": null,
      "outputs": []
    },
    {
      "cell_type": "markdown",
      "source": [
        "**EJERCICIO 10**"
      ],
      "metadata": {
        "id": "aFPSgjtCOypi"
      }
    },
    {
      "cell_type": "markdown",
      "source": [
        "Ahora crea dos objetos de la clase Vector3D y prueba que todos los métodos de la clase Vector3D funcionan\n",
        "correctamente."
      ],
      "metadata": {
        "id": "ajjLs4u3O6Kh"
      }
    },
    {
      "cell_type": "markdown",
      "source": [
        "Aquí `ini2.py`"
      ],
      "metadata": {
        "id": "DZ6YUWFkO-xy"
      }
    },
    {
      "cell_type": "code",
      "source": [
        "import vectors as vt\n",
        "\n",
        "# Vector 3D - a\n",
        "a = vt.Vector3D(2, 3, 1)\n",
        "print(a)\n",
        "\n",
        "# Módulo Vector 3D - a\n",
        "print(a.module)\n",
        "\n",
        "# Multiplicar Vector 3D - a\n",
        "a.scalar_prod(6)\n",
        "print(a)\n",
        "\n",
        "# Vector 3D - b\n",
        "b = vt.Vector3D(2, -3, 2)\n",
        "print(b)\n",
        "\n",
        "# Sumar Vector 3D a, b\n",
        "print(vt.Vector3D.sum(a, b))\n",
        "\n",
        "# Restar Vector 3D a, b\n",
        "print((vt.Vector3D.subtract(a, b)))\n",
        "\n",
        "# Multiplicación Vector 3D a, b\n",
        "print((vt.Vector3D.dot_product(a, b)))\n",
        "\n",
        "# Distancia Vector 3D a, b\n",
        "print((vt.Vector3D.distance(a, b)))\n",
        "\n",
        "# Zero\n",
        "print(vt.Vector3D.zero())\n",
        "\n",
        "# Horizontal\n",
        "print(vt.Vector3D.horizontal())\n",
        "\n",
        "# Vertical\n",
        "print(vt.Vector3D.vertical())\n",
        "\n",
        "# Forward\n",
        "print(vt.Vector3D.forward())"
      ],
      "metadata": {
        "id": "WG6NKFtFO-Gg"
      },
      "execution_count": null,
      "outputs": []
    }
  ]
}