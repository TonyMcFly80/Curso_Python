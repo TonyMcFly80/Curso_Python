{
  "nbformat": 4,
  "nbformat_minor": 0,
  "metadata": {
    "colab": {
      "provenance": [],
      "authorship_tag": "ABX9TyP054A7pUuEclkoVBMfV2Tu"
    },
    "kernelspec": {
      "name": "python3",
      "display_name": "Python 3"
    },
    "language_info": {
      "name": "python"
    }
  },
  "cells": [
    {
      "cell_type": "markdown",
      "source": [
        "#ERRORES Y EXCEPCIONES\n",
        "\n"
      ],
      "metadata": {
        "id": "GjVRoR-O0-0P"
      }
    },
    {
      "cell_type": "markdown",
      "source": [
        "*Examen que tuve que realizar para completar con exito este tema perteneciente al curso de Python.*"
      ],
      "metadata": {
        "id": "XLNGqSt5_0Dv"
      }
    },
    {
      "cell_type": "markdown",
      "source": [
        "**NOTA:** No es necesario usar código para comprobar si los datos introducidos por el usuario son correctos. Vamos a interpretar que así es por ahora a menos que se especifique lo contrario."
      ],
      "metadata": {
        "id": "6zZzP30504cA"
      }
    },
    {
      "cell_type": "markdown",
      "source": [
        "# EXAMEN"
      ],
      "metadata": {
        "id": "TQwFzcrS_ZDZ"
      }
    },
    {
      "cell_type": "markdown",
      "source": [
        "**EJERCICIO 01**"
      ],
      "metadata": {
        "id": "8blzg16J1QM-"
      }
    },
    {
      "cell_type": "markdown",
      "source": [
        "Dada la función divisors(), asegura con assert que el parámetro n se trata de un número entero positivo.\n",
        "De lo contrario, muestra como mensaje que \"n debe ser de tipo int y debe ser mayor que 0\""
      ],
      "metadata": {
        "id": "RRqn6390TyAU"
      }
    },
    {
      "cell_type": "code",
      "execution_count": null,
      "metadata": {
        "id": "TPgyFqjjTfZR"
      },
      "outputs": [],
      "source": [
        "# CÓDIGO DEL ENUNCIADO\n",
        "\n",
        "def divisors(n):\n",
        "\"\"\"\n",
        "Calcula los divisores de un número entero positivo.\n",
        "Args:\n",
        "n: Número entero positivo\n",
        "Returns:\n",
        "divisors: Lista de divisores de n\n",
        "\"\"\"\n",
        "divisors = []\n",
        "for i in range(1, n + 1):\n",
        "if n % i == 0: divisors.append(i)\n",
        "return divisors"
      ]
    },
    {
      "cell_type": "code",
      "source": [
        "# EJERCICIO 01 RESUELTO\n",
        "def divisors(n):\n",
        "    \"\"\"\n",
        "    Calcula los divisores de un número entero positivo.\n",
        "    :param n: Número entero positivo.\n",
        "    :return: Lista de divisores de n.\n",
        "    \"\"\"\n",
        "    assert n > 0 and type(n) == int, 'n debe ser de tipo int y debe ser mayor que 0'\n",
        "    \n",
        "    divisors = []\n",
        "    \n",
        "    for i in range(1, n + 1):\n",
        "        if n % i == 0:\n",
        "            divisors.append(i)\n",
        "    \n",
        "    return divisors"
      ],
      "metadata": {
        "id": "qE-aCzFpUDjm"
      },
      "execution_count": null,
      "outputs": []
    },
    {
      "cell_type": "markdown",
      "source": [
        "**EJERCICIO 02**"
      ],
      "metadata": {
        "id": "gJXxkQSbX2iN"
      }
    },
    {
      "cell_type": "markdown",
      "source": [
        "Dada la función divisors(), muestra TypeError con el mensaje correspondiente si el parámetro n no se trata de un número entero y muestra ValueError con el mensaje correspondiente si n no se trata de un número positivo."
      ],
      "metadata": {
        "id": "PjsvMbR5X5qd"
      }
    },
    {
      "cell_type": "code",
      "source": [
        "# CÓDIGO DEL ENUNCIADO\n",
        "def divisors(n):\n",
        "\"\"\"\n",
        "Calcula los divisores de un número entero positivo.\n",
        "Args:\n",
        "n: Número entero positivo\n",
        "Returns:\n",
        "divisors: Lista de divisores de n\n",
        "\"\"\"\n",
        "divisors = []\n",
        "for i in range(1, n + 1):\n",
        "if n % i == 0: divisors.append(i)\n",
        "return divisors"
      ],
      "metadata": {
        "id": "c_XpB9rGX_-K"
      },
      "execution_count": null,
      "outputs": []
    },
    {
      "cell_type": "code",
      "source": [
        "# EJERCICIO 02 RESUELTO\n",
        "def divisors(n):\n",
        "    \"\"\"\n",
        "    Calcula los divisores de un número entero positivo.\n",
        "    :param n: Número entero positivo.\n",
        "    :return: Lista de divisores de n.\n",
        "    \"\"\"\n",
        "    if n <= 0:\n",
        "        raise ValueError('n tiene que ser positivo')\n",
        "\n",
        "    elif type(n) != int:\n",
        "        raise TypeError('n tiene que ser un número entero')\n",
        "\n",
        "    divisors = []\n",
        "\n",
        "    for i in range(1, n + 1):\n",
        "        if n % i == 0:\n",
        "            divisors.append(i)\n",
        "\n",
        "    return divisors"
      ],
      "metadata": {
        "id": "cq2J8H5gYIBs"
      },
      "execution_count": null,
      "outputs": []
    }
  ]
}