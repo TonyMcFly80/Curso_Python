{
  "nbformat": 4,
  "nbformat_minor": 0,
  "metadata": {
    "colab": {
      "provenance": [],
      "authorship_tag": "ABX9TyNxqljcR68OkCUlvBmVdoO9"
    },
    "kernelspec": {
      "name": "python3",
      "display_name": "Python 3"
    },
    "language_info": {
      "name": "python"
    }
  },
  "cells": [
    {
      "cell_type": "markdown",
      "source": [
        "#DICCIONARIOS - ESTRUCTURA DE DATOS"
      ],
      "metadata": {
        "id": "GjVRoR-O0-0P"
      }
    },
    {
      "cell_type": "markdown",
      "source": [
        "*Ejercicios y examen que tuve que realizar para completar con exito este tema perteneciente al curso de Python.*"
      ],
      "metadata": {
        "id": "XLNGqSt5_0Dv"
      }
    },
    {
      "cell_type": "markdown",
      "source": [
        "**NOTA:** No es necesario usar código para comprobar si los datos introducidos por el usuario son correctos. Vamos a interpretar que así es por ahora a menos que se especifique lo contrario."
      ],
      "metadata": {
        "id": "6zZzP30504cA"
      }
    },
    {
      "cell_type": "markdown",
      "source": [
        "# EJERCICIOS"
      ],
      "metadata": {
        "id": "TQwFzcrS_ZDZ"
      }
    },
    {
      "cell_type": "markdown",
      "source": [
        "**TAREA 01**"
      ],
      "metadata": {
        "id": "8blzg16J1QM-"
      }
    },
    {
      "cell_type": "markdown",
      "source": [
        "Vamos a hacer que el usuario rellene una ficha de cliente y vamos a guardar toda la información en un diccionario. Para ello, vamos a pedir el nombre, apellidos, edad, dni y el dinero total que va a pagar el cliente."
      ],
      "metadata": {
        "id": "NrECVcWKMM47"
      }
    },
    {
      "cell_type": "code",
      "execution_count": null,
      "metadata": {
        "id": "GypQ0AFWL8mL"
      },
      "outputs": [],
      "source": [
        "print('Introduce los siguentes datos...')\n",
        "\n",
        "datos_cliente = {'Nombre':    str(input('Nombre: ')),\n",
        "                 'Apellidos': str(input('Apellidos: ')),\n",
        "                 'Edad':      int(input('Edad: ')),\n",
        "                 'DNI':       str(input('DNI: ')),\n",
        "                 'Dinero':    float(input('¿Cuanto dinero va a pagar?: '))\n",
        "                 }\n",
        "\n",
        "print(datos_cliente)"
      ]
    },
    {
      "cell_type": "markdown",
      "source": [
        "**TAREA 02**"
      ],
      "metadata": {
        "id": "iQHIKuJNMhWh"
      }
    },
    {
      "cell_type": "markdown",
      "source": [
        "Tenemos un diccionario con 5 claves: Math, English, History, Science, IT. Cada clave contiene una lista de tamaño 3, donde cada una de esas entradas se corresponde con una nota de 0 a 10. El usuario va a ser quien introduzca esas notas por teclado. Finalmente, para cada clave, mostraremos la media de las 3 notas."
      ],
      "metadata": {
        "id": "R0702GhVMkBI"
      }
    },
    {
      "cell_type": "code",
      "source": [
        "asignaturas = {'Math': [], \n",
        "               'English': [], \n",
        "               'History': [], \n",
        "               'Science': [], \n",
        "               'IT': []}\n",
        "\n",
        "for key in asignaturas:\n",
        "    asignaturas[key].append(float(input(f'Introduce la primera nota para {key}: ')))\n",
        "    asignaturas[key].append(float(input(f'Introduce la segunda nota para {key}: ')))\n",
        "    asignaturas[key].append(float(input(f'Introduce la tercera nota para {key}: ')))\n",
        "\n",
        "print('\\n/// La Nota Final de cada Asignatura es: /// ')\n",
        "\n",
        "for key in asignaturas:\n",
        "    nota = sum(asignaturas[key]) / 3\n",
        "    print(f'Tu nota de {key} es: {nota}')"
      ],
      "metadata": {
        "id": "VaCTA2zAMqj9"
      },
      "execution_count": null,
      "outputs": []
    },
    {
      "cell_type": "markdown",
      "source": [
        "**TAREA 03**"
      ],
      "metadata": {
        "id": "5k920MHrM53X"
      }
    },
    {
      "cell_type": "markdown",
      "source": [
        "Dado un diccionario, vamos a solicitar al usuario una clave que quiera eliminar y vamos a eliminarla. Al final, le mostraremos el dicc actualizado."
      ],
      "metadata": {
        "id": "T6k7-aIeM8lf"
      }
    },
    {
      "cell_type": "code",
      "source": [
        "dicc = {'Nombre': 'Juan',\n",
        "        'Apellido': 'Sanchez',\n",
        "        'Edad': 38,\n",
        "        'Profesión': 'Pintor',\n",
        "        }\n",
        "print('/// Estas son las claves de este diccionario ///')\n",
        "\n",
        "for key in dicc:\n",
        "    print(key)\n",
        "\n",
        "eliminar = str(input('Cual deseas eliminar?: '))\n",
        "\n",
        "dicc.pop(eliminar)\n",
        "\n",
        "print(dicc)"
      ],
      "metadata": {
        "id": "jlZ5hJCaNCEH"
      },
      "execution_count": null,
      "outputs": []
    },
    {
      "cell_type": "markdown",
      "source": [
        "**TAREA 04**"
      ],
      "metadata": {
        "id": "b51A9JCSNJM2"
      }
    },
    {
      "cell_type": "markdown",
      "source": [
        "Vamos a solicitar al usuario 8 números enteros del 0 al 9. Se supone que son los números de su DNI, que guardaremos cada uno en una entrada de una lista. A continuación, con esos números calcularemos la letra correspondiente y la guardaremos en una variable. Finalmente, crearemos un diccionario con dos claves, cada una guardará, respectivamente, los números y la letra del DNI. Finalmente, mostraremos el diccionario resultante."
      ],
      "metadata": {
        "id": "9GqCZVzCNMlu"
      }
    },
    {
      "cell_type": "code",
      "source": [
        "print('/// Vamos a solicitarte tu número de DNI sin la letra ///')\n",
        "\n",
        "n_dni = []\n",
        "cont = 1\n",
        "\n",
        "for n in range(8):\n",
        "    n_dni.append(str(input(f'Escribe el número en posición {cont} de tu DNI: ')))\n",
        "    cont += 1\n",
        "\n",
        "dicc_letra = {0: 'T', 1: 'R', 2: 'W', 3: 'A', 4: 'G', 5: 'M', 6: 'Y', 7: 'F', 8: 'P', 9: 'D', 10: 'X',\n",
        "              11: 'B', 12: 'N', 13: 'J', 14: 'Z', 15: 'S', 16: 'Q', 17: 'V', 18: 'H', 19: 'L', 20: 'C',\n",
        "              21: 'K', 22: 'E'}\n",
        "\n",
        "numero = ''\n",
        "\n",
        "for n in n_dni:\n",
        "    numero += str(n)\n",
        "\n",
        "calculo = int(numero) % 23\n",
        "\n",
        "letra = dicc_letra[calculo]\n",
        "\n",
        "DNI = {'Número': numero, 'Letra': letra}\n",
        "\n",
        "print(DNI)"
      ],
      "metadata": {
        "id": "KXTX5SPyNTp7"
      },
      "execution_count": null,
      "outputs": []
    },
    {
      "cell_type": "markdown",
      "source": [
        "**TAREA 05**"
      ],
      "metadata": {
        "id": "852_2jyCNhNd"
      }
    },
    {
      "cell_type": "markdown",
      "source": [
        "Vamos a leer un string por teclado y vamos a devolver un diccionario con la cantidad de apariciones de cada caracter en el string proporcionado por el usuario."
      ],
      "metadata": {
        "id": "ogNxE43RNlRc"
      }
    },
    {
      "cell_type": "code",
      "source": [
        "intro = str(input('Escribe una palabra o una frase: '))\n",
        "letras = intro.lower()\n",
        "\n",
        "dicc = {}\n",
        "\n",
        "for l in letras:\n",
        "\n",
        "    if l == ' ':\n",
        "        continue\n",
        "\n",
        "    else:\n",
        "        dicc.setdefault(l, letras.count(l))\n",
        "\n",
        "print(dicc)"
      ],
      "metadata": {
        "id": "gtnu-XPbNq28"
      },
      "execution_count": null,
      "outputs": []
    },
    {
      "cell_type": "markdown",
      "source": [
        "# EXAMEN"
      ],
      "metadata": {
        "id": "NN1p5e9IjrMH"
      }
    },
    {
      "cell_type": "markdown",
      "source": [
        "**EJERCICIO 01**"
      ],
      "metadata": {
        "id": "n5lEjJKnjuP7"
      }
    },
    {
      "cell_type": "markdown",
      "source": [
        "Crea un programa que pida un número entero positivo por teclado y que cree un diccionario cuyas claves sean desde el número 1 hasta el número indicado. Los valores de cada clave serán las propias claves elevadas al cubo."
      ],
      "metadata": {
        "id": "SM4hnRfwN2Ci"
      }
    },
    {
      "cell_type": "code",
      "source": [
        "print('/// Vamos a crear un diccionario de números que irán desde el 0 hasta el número que quieras ///')\n",
        "\n",
        "number = int(input('Escribe el número entero positivo que quieras: '))\n",
        "dicc = {}\n",
        "\n",
        "for n in range(1, number + 1):\n",
        "    dicc.setdefault(n, n**3)\n",
        "\n",
        "print(dicc)"
      ],
      "metadata": {
        "id": "YjhrOqhON7Ya"
      },
      "execution_count": null,
      "outputs": []
    },
    {
      "cell_type": "markdown",
      "source": [
        "**EJERCICIO 02**"
      ],
      "metadata": {
        "id": "15RurFdeOGaV"
      }
    },
    {
      "cell_type": "markdown",
      "source": [
        "Escribe un programa que pregunte al usuario su nombre, edad y teléfono y lo guarde en un diccionario. Después, debe mostrar por pantalla el mensaje ‘{nombre} tiene {edad} años y su número de teléfono es {teléfono}."
      ],
      "metadata": {
        "id": "7aTZmBPgOKqV"
      }
    },
    {
      "cell_type": "code",
      "source": [
        "print('/// Vamos a preguntarte algunos datos ///')\n",
        "\n",
        "dicc = {}\n",
        "\n",
        "nombre = dicc.setdefault('Nombre', str(input('Cual es tu nombre?: ')))\n",
        "edad = dicc.setdefault('Edad', str(input('Cual es tu edad?: ')))\n",
        "telefono = dicc.setdefault('Teléfono', int(input('Cual es tu número de teléfono?: ')))\n",
        "\n",
        "print(f'{nombre} tiene {edad} años y su número de teléfono es {telefono}')\n",
        "print(dicc)"
      ],
      "metadata": {
        "id": "qO4f9AfBOPtB"
      },
      "execution_count": null,
      "outputs": []
    },
    {
      "cell_type": "markdown",
      "source": [
        "**EJERCICIO 03**"
      ],
      "metadata": {
        "id": "YOl45hHJOY5Y"
      }
    },
    {
      "cell_type": "markdown",
      "source": [
        "Escribe un programa que cree un diccionario simulando una cesta de la compra. El programa debe preguntar el artículo y su precio por unidad. El artículo será la clave y el valor el precio, hasta que el usuario decida terminar. Después se debe mostrar por pantalla la lista de la compra y el coste total, con el siguiente formato\n",
        "\n",
        "Artículo 1    Precio\n",
        "\n",
        "Artículo 2    Precio\n",
        "\n",
        "Artículo 3    Precio\n",
        "\n",
        ". . .         . . .\n",
        "\n",
        "Total         Precio Total"
      ],
      "metadata": {
        "id": "qu_Sy9OcOb4w"
      }
    },
    {
      "cell_type": "code",
      "source": [
        "print('/// Vamos a calcular el coste de tu cesta de la compra ///')\n",
        "\n",
        "cesta = {}\n",
        "total = 0\n",
        "ok = 1\n",
        "\n",
        "while ok != 0:\n",
        "    articulo = str(input('Escribe el nombre del artículo: '))\n",
        "    precio = float(input('Marca el precio del artículo: '))\n",
        "    cesta.setdefault(articulo, precio)\n",
        "    ok = int(input('Desea finalizar? (1=NO , 0=SI): '))\n",
        "\n",
        "print('\\n/// LISTA DE LA COMPRA ///\\n')\n",
        "\n",
        "for i in cesta:\n",
        "    print(f'{i}\\t\\t\\t\\t\\t{cesta[i]}')\n",
        "\n",
        "for j in cesta:\n",
        "    total += cesta[j]\n",
        "\n",
        "print(f' * * * \\t\\t\\t\\t\\t * * * ')\n",
        "print(f'Total\\t\\t\\t\\t\\t{total}')"
      ],
      "metadata": {
        "id": "GyxLoeaUOoOX"
      },
      "execution_count": null,
      "outputs": []
    },
    {
      "cell_type": "markdown",
      "source": [
        "**EJERCICIO 04**"
      ],
      "metadata": {
        "id": "149GAgwfO1LN"
      }
    },
    {
      "cell_type": "markdown",
      "source": [
        "Crea un programa que lea números enteros hasta que introduzca el 0 y devuelva un diccionario con la cantidad números positivos y negativos introducidos."
      ],
      "metadata": {
        "id": "zV3kEzH7O5TN"
      }
    },
    {
      "cell_type": "code",
      "source": [
        "print('\\n/// Vamos a crear un diccionario con números enteros positivos y negativos ///\\n')\n",
        "\n",
        "numbers = {}\n",
        "positivos = []\n",
        "negativos = []\n",
        "\n",
        "ok = 1\n",
        "\n",
        "while ok != 0:\n",
        "    numero = int(input('Escribe un número entero: '))\n",
        "\n",
        "    if numero > 0:\n",
        "        positivos.append(numero)\n",
        "        ok = int(input('Desea finalizar? (1=NO , 0=SI): '))\n",
        "\n",
        "    else:\n",
        "        negativos.append(numero)\n",
        "        ok = int(input('Desea finalizar? (1=NO , 0=SI): '))\n",
        "\n",
        "numbers.setdefault('Positivos', positivos)\n",
        "numbers.setdefault('Negativos', negativos)\n",
        "\n",
        "print(f'\\n{numbers}')"
      ],
      "metadata": {
        "id": "a0ndNGg0O9pd"
      },
      "execution_count": null,
      "outputs": []
    },
    {
      "cell_type": "markdown",
      "source": [
        "**EJERCICIO 05**"
      ],
      "metadata": {
        "id": "gnwFFEtvPFCk"
      }
    },
    {
      "cell_type": "markdown",
      "source": [
        "Crea un programa que lea números enteros hasta que introduzca el 0 y devuelva un diccionario con la cantidad números pares e impares introducidos."
      ],
      "metadata": {
        "id": "fAZ_aBD3PIXM"
      }
    },
    {
      "cell_type": "code",
      "source": [
        "print('\\n/// Vamos a crear un diccionario con números enteros pares e impares ///\\n')\n",
        "\n",
        "numbers = {}\n",
        "pares = []\n",
        "impares = []\n",
        "\n",
        "ok = 1\n",
        "\n",
        "while ok != 0:\n",
        "    numero = int(input('Escribe un número entero: '))\n",
        "\n",
        "    if numero % 2 == 0:\n",
        "        pares.append(numero)\n",
        "        ok = int(input('Desea finalizar? (1=NO , 0=SI): '))\n",
        "\n",
        "    else:\n",
        "        impares.append(numero)\n",
        "        ok = int(input('Desea finalizar? (1=NO , 0=SI): '))\n",
        "\n",
        "numbers.setdefault('Pares', pares)\n",
        "numbers.setdefault('Impares', impares)\n",
        "\n",
        "print(f'\\n{numbers}')"
      ],
      "metadata": {
        "id": "9CuinNXUPV2T"
      },
      "execution_count": null,
      "outputs": []
    },
    {
      "cell_type": "markdown",
      "source": [
        "**EJERCICIO 06**"
      ],
      "metadata": {
        "id": "czTj0uKuPdUj"
      }
    },
    {
      "cell_type": "markdown",
      "source": [
        "Crea un programa que permita al usuario introducir los nombres de los alumnos de una clase y las notas que han obtenido. Cada alumno puede tener distinta cantidad de notas. Guarda la información en un diccionario cuyas claves serán los nombres de los alumnos y los valores serán listas con las notas de cada alumno. El programa va a pedir el nombre de un estudiante e irá pidiendo sus notas (del 1 al 10) hasta que introduzcamos un 0. Al final, cuando el nombre que introduzcamos sea un string vacío, el programa nos mostrará la lista de alumnos y la nota media obtenida por cada uno de ellos.\n",
        "\n",
        "PISTA: Vas a necesitar la función sum()."
      ],
      "metadata": {
        "id": "LOP343vjPgYC"
      }
    },
    {
      "cell_type": "code",
      "source": [
        "print('/// Vamos a evaluar a los Alumnos ///')\n",
        "\n",
        "evaluaciones = {}\n",
        "\n",
        "\n",
        "while True:\n",
        "    notas = []\n",
        "    nombre = str(input('\\nEscribe el nombre del alumno: '))\n",
        "\n",
        "    if nombre != '':\n",
        "        evaluaciones.setdefault(nombre, notas)\n",
        "        ok = 1\n",
        "\n",
        "    else:\n",
        "        print('/// Fin de la introducción de datos ///')\n",
        "        print(f'\\n{evaluaciones}')\n",
        "        break\n",
        "\n",
        "    while ok != 0:\n",
        "        nota = float(input(f'Escribe una nota para {nombre}: '))\n",
        "        notas.append(nota)\n",
        "        ok = int(input('Desea finalizar? (1=NO , 0=SI): '))\n",
        "\n",
        "print('\\n\\nLas Evaluciones por alumno son:\\n')\n",
        "\n",
        "for key in evaluaciones:\n",
        "    suma = sum(evaluaciones[key])\n",
        "    tam = len(evaluaciones[key])\n",
        "    media = float(suma) / float(tam)\n",
        "    print(f'La nota de {key} es {media}')"
      ],
      "metadata": {
        "id": "lM241lmrPqHI"
      },
      "execution_count": null,
      "outputs": []
    },
    {
      "cell_type": "markdown",
      "source": [
        "**EJERCICIO 07**"
      ],
      "metadata": {
        "id": "biHK0OGjP5FR"
      }
    },
    {
      "cell_type": "markdown",
      "source": [
        "Crea un programa que pida un número entero positivo por teclado y que cree un diccionario cuyas claves sean desde el número 1 hasta el número indicado. Los valores de cada clave serán tantos símbolos \"*\" como indique la clave."
      ],
      "metadata": {
        "id": "q5G5uQLdP8LQ"
      }
    },
    {
      "cell_type": "code",
      "source": [
        "print('/// Vamos a crear un diccionario de números que irán desde el 1 hasta el número que quieras ///')\n",
        "\n",
        "number = int(input('Escribe el número entero positivo que quieras: '))\n",
        "dicc = {}\n",
        "\n",
        "for n in range(1, number + 1):\n",
        "    dicc.setdefault(n, ('*' * n))\n",
        "\n",
        "print(dicc)"
      ],
      "metadata": {
        "id": "_HHgUOwOQAYw"
      },
      "execution_count": null,
      "outputs": []
    },
    {
      "cell_type": "markdown",
      "source": [
        "**EJERCICIO 08**"
      ],
      "metadata": {
        "id": "E7svIllPQF2g"
      }
    },
    {
      "cell_type": "markdown",
      "source": [
        "Crea un programa que pida el número de palabras a introducir. Crear un diccionario de clave la palabra y de valor la longitud de dicha palabra."
      ],
      "metadata": {
        "id": "HJ_Nc-orQIpQ"
      }
    },
    {
      "cell_type": "code",
      "source": [
        "dicc = {}\n",
        "\n",
        "n = int(input('Cuantas palabras quieres introducir?: '))\n",
        "\n",
        "for i in range(n):\n",
        "    palabra = str(input(f'Escribe la palabra {i + 1}: '))\n",
        "    dicc.setdefault(palabra, len(palabra))\n",
        "\n",
        "print(dicc)"
      ],
      "metadata": {
        "id": "GNXYKcjcQMJA"
      },
      "execution_count": null,
      "outputs": []
    },
    {
      "cell_type": "markdown",
      "source": [
        "**EJERCICIO 09**"
      ],
      "metadata": {
        "id": "V1MgN8bVQReX"
      }
    },
    {
      "cell_type": "markdown",
      "source": [
        "Crea un programa que pida el número de palabras a introducir. Crear un diccionario de clave la palabra y de valor el número de vocales de la palabra."
      ],
      "metadata": {
        "id": "gulxeaQ4QUSH"
      }
    },
    {
      "cell_type": "code",
      "source": [
        "dicc = {}\n",
        "\n",
        "n = int(input('Cuantas palabras quieres introducir?: '))\n",
        "\n",
        "for i in range(n):\n",
        "    palabra = str(input(f'Escribe la palabra {i + 1}: '))\n",
        "    p = palabra.lower()\n",
        "    count = p.count('a') + p.count('e') + p.count('i') + p.count('o') + p.count('u')\n",
        "    dicc.setdefault(palabra, count)\n",
        "\n",
        "print(dicc)"
      ],
      "metadata": {
        "id": "ETlVA34oQYEH"
      },
      "execution_count": null,
      "outputs": []
    },
    {
      "cell_type": "markdown",
      "source": [
        "**EJERCICIO 10**"
      ],
      "metadata": {
        "id": "skURTVA_QgbV"
      }
    },
    {
      "cell_type": "markdown",
      "source": [
        "Dada una matriz, crea un diccionario que guarde el número de filas, el de columnas y cada fila en una entrada de un diccionario."
      ],
      "metadata": {
        "id": "h2A14suDQjjd"
      }
    },
    {
      "cell_type": "code",
      "source": [
        "A = ([1, 0, -3, -2, 1], [2, 0, 1, 1, 2], [2, 0, 1, 0, -1], [-1, 2, 0, 1, 0])\n",
        "count = 0\n",
        "dicc = {}\n",
        "\n",
        "for i in A:\n",
        "    count += 1\n",
        "    dicc.setdefault(f'Fila {count}', i)\n",
        "\n",
        "    for j in A:\n",
        "        dicc.setdefault('Número de Columnas', len(j))\n",
        "\n",
        "dicc.setdefault('Número de Filas', count)\n",
        "\n",
        "print(dicc)"
      ],
      "metadata": {
        "id": "upGu8N1yQnDF"
      },
      "execution_count": null,
      "outputs": []
    }
  ]
}