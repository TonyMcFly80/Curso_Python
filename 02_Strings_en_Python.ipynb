{
  "nbformat": 4,
  "nbformat_minor": 0,
  "metadata": {
    "colab": {
      "provenance": [],
      "authorship_tag": "ABX9TyNKDne9i47SAv6ZX5OjfQAr"
    },
    "kernelspec": {
      "name": "python3",
      "display_name": "Python 3"
    },
    "language_info": {
      "name": "python"
    }
  },
  "cells": [
    {
      "cell_type": "markdown",
      "source": [
        "#STRINGS"
      ],
      "metadata": {
        "id": "GjVRoR-O0-0P"
      }
    },
    {
      "cell_type": "markdown",
      "source": [
        "*Examen que tuve que realizar para completar con exito este tema perteneciente al curso de Python.*"
      ],
      "metadata": {
        "id": "XLNGqSt5_0Dv"
      }
    },
    {
      "cell_type": "markdown",
      "source": [
        "**NOTA:** No es necesario usar código para comprobar si los datos introducidos por el usuario son correctos. Vamos a interpretar que así es por ahora a menos que se especifique lo contrario."
      ],
      "metadata": {
        "id": "6zZzP30504cA"
      }
    },
    {
      "cell_type": "markdown",
      "source": [
        "# EXAMEN"
      ],
      "metadata": {
        "id": "TQwFzcrS_ZDZ"
      }
    },
    {
      "cell_type": "markdown",
      "source": [
        "**EJERCICIO 01**"
      ],
      "metadata": {
        "id": "8blzg16J1QM-"
      }
    },
    {
      "cell_type": "markdown",
      "source": [
        "Utiliza las funciones de concatenar, + y repetir strings, *, junto con la función print() para dados los siguientes strings s1, s2, s3 y s4, conseguir el resultado siguiente:\n",
        "\n",
        "Había una vez, un barquito chiquitito Había una vez, un barquito chiquitito que no podía, que no podía, que no podía navegar."
      ],
      "metadata": {
        "id": "LL35UwQVjpmq"
      }
    },
    {
      "cell_type": "code",
      "source": [
        "s1 = \"Había una vez, \"\n",
        "s2 = \"un barquito chiquitito \"\n",
        "s3 = \"que no podía, \"\n",
        "s4 = \"que no podía navegar.\"\n",
        "print(((s1 + s2) * 2) + (s3 * 2) + s4)"
      ],
      "metadata": {
        "id": "RxpSO4HKjwKJ"
      },
      "execution_count": null,
      "outputs": []
    },
    {
      "cell_type": "markdown",
      "source": [
        "**EJERCICIO 02**"
      ],
      "metadata": {
        "id": "JS5zlCf-jyXp"
      }
    },
    {
      "cell_type": "markdown",
      "source": [
        "Utiliza la función print() y el comando de salto de línea, \\n, para reproducir exactamente el siguiente texto:\n",
        "\n",
        "Érase un hombre a una nariz pegado,\n",
        "\n",
        "Érase una nariz superlativa,\n",
        "\n",
        "Érase una alquitara medio viva,\n",
        "\n",
        "Érase un peje espada mal barbado;"
      ],
      "metadata": {
        "id": "RqT1oLCrj3_Q"
      }
    },
    {
      "cell_type": "code",
      "source": [
        "print('Érase un hombre a una nariz pegado,\\nÉrase una nariz superlativa,\\n'\n",
        "      'Érase una alquitara medio viva,\\nÉrase un peje espada mal barbado;')"
      ],
      "metadata": {
        "id": "jpjqVj7yj_R5"
      },
      "execution_count": null,
      "outputs": []
    },
    {
      "cell_type": "markdown",
      "source": [
        "**EJERCICIO 03**"
      ],
      "metadata": {
        "id": "mxNaitf7kCwo"
      }
    },
    {
      "cell_type": "markdown",
      "source": [
        "Transforma el siguiente string s a mayúsculas y muéstralo por pantalla con la función print(): \n",
        "\n",
        "s = \"me encantan las matemáticas\""
      ],
      "metadata": {
        "id": "VJDtYefrkFbQ"
      }
    },
    {
      "cell_type": "code",
      "source": [
        "s = \"me encantan las matemáticas\"\n",
        "print(s.upper())"
      ],
      "metadata": {
        "id": "ljrsrzf7kKyA"
      },
      "execution_count": null,
      "outputs": []
    },
    {
      "cell_type": "markdown",
      "source": [
        "**EJERCICIO 04**"
      ],
      "metadata": {
        "id": "IDE_2980kNAX"
      }
    },
    {
      "cell_type": "markdown",
      "source": [
        "Calcula la longitud del string s\n",
        "\n",
        "s = \"Mi pasión por el chocolate es superior a mis fuerzas\""
      ],
      "metadata": {
        "id": "mEjqjXgfkPqH"
      }
    },
    {
      "cell_type": "code",
      "source": [
        "s = \"Mi pasión por el chocolate es superior a mis fuerzas\"\n",
        "longitud = len(s)\n",
        "print(longitud)"
      ],
      "metadata": {
        "id": "GkHZi89VkXEP"
      },
      "execution_count": null,
      "outputs": []
    },
    {
      "cell_type": "markdown",
      "source": [
        "**EJERCICIO 05**"
      ],
      "metadata": {
        "id": "WbKa4P7VkZdP"
      }
    },
    {
      "cell_type": "markdown",
      "source": [
        "Del string s del ejercicio anterior, obtén el substring chocolate y guárdalo en una variable llamada s_sub.\n",
        "\n",
        "No vale contar, deberás hallar los índices del substring con el método .find() (o el que mejor consideres) y la función len().\n",
        "\n",
        "Finalmente, imprime tu resultado por pantalla."
      ],
      "metadata": {
        "id": "gcYMcs85kcce"
      }
    },
    {
      "cell_type": "code",
      "source": [
        "s = \"Mi pasión por el chocolate es superior a mis fuerzas\"\n",
        "inicio = s.find('chocolate')\n",
        "fin = inicio + len('chocolate')\n",
        "s_sub = s[inicio:fin]\n",
        "print(s_sub)"
      ],
      "metadata": {
        "id": "fMvf8bL1klDG"
      },
      "execution_count": null,
      "outputs": []
    },
    {
      "cell_type": "markdown",
      "source": [
        "**EJERCICIO 06**"
      ],
      "metadata": {
        "id": "Qphq8vPtkpYt"
      }
    },
    {
      "cell_type": "markdown",
      "source": [
        "Con la función input(), indícale al usuario que introduzca su nombre y guárdalo en la variable llamada nombre"
      ],
      "metadata": {
        "id": "Q9nF7KAGkr-l"
      }
    },
    {
      "cell_type": "code",
      "source": [
        "nombre = str(input('Escribe tu nombre: '))"
      ],
      "metadata": {
        "id": "BULk6lezkvZN"
      },
      "execution_count": null,
      "outputs": []
    },
    {
      "cell_type": "markdown",
      "source": [
        "**EJERCICIO 07**"
      ],
      "metadata": {
        "id": "48vaCxEPkzrF"
      }
    },
    {
      "cell_type": "markdown",
      "source": [
        "Con la función input(), indícale al usuario que introduzca su apellido y guárdalo en la variable llamada apellido"
      ],
      "metadata": {
        "id": "w28NZOGGk2Q0"
      }
    },
    {
      "cell_type": "code",
      "source": [
        "apellido = str(input('Escribe tu apellido: '))"
      ],
      "metadata": {
        "id": "noUxDChrk6t8"
      },
      "execution_count": null,
      "outputs": []
    },
    {
      "cell_type": "markdown",
      "source": [
        "**EJERCICIO 08**"
      ],
      "metadata": {
        "id": "6XGBxu9Tk84c"
      }
    },
    {
      "cell_type": "markdown",
      "source": [
        "Con la función input(), indícale al usuario que introduzca su edad y guárdala en la variable llamada edad."
      ],
      "metadata": {
        "id": "2W1vITBLk_ds"
      }
    },
    {
      "cell_type": "code",
      "source": [
        "edad = int(input('Escribe tu edad: '))"
      ],
      "metadata": {
        "id": "mtdpUphXlE5U"
      },
      "execution_count": null,
      "outputs": []
    },
    {
      "cell_type": "markdown",
      "source": [
        "**EJERCICIO 09**"
      ],
      "metadata": {
        "id": "f73RLkZ_lG8U"
      }
    },
    {
      "cell_type": "markdown",
      "source": [
        "Con la función input(), indícale al usuario que introduzca la ciudad en la que vive y guárdala en la variable llamada ciudad"
      ],
      "metadata": {
        "id": "GWBoNY1jlKo8"
      }
    },
    {
      "cell_type": "code",
      "source": [
        "ciudad = str(input('Escribe tu ciudad: '))"
      ],
      "metadata": {
        "id": "s2E01mRJlMxj"
      },
      "execution_count": null,
      "outputs": []
    },
    {
      "cell_type": "markdown",
      "source": [
        "**EJERCICIO 10**"
      ],
      "metadata": {
        "id": "DqavsREClOrz"
      }
    },
    {
      "cell_type": "markdown",
      "source": [
        "Con lo hecho en los ejercicios 6, 7, 8 y 9, imprime por pantalla todos los datos introducidos por el usuario tal y como se muestra en el siguiente ejemplo, donde el usuario ha indicado que su nombre es María; su apellido, Santos; su edad, 21; y su ciudad, Palma de Mallorca."
      ],
      "metadata": {
        "id": "bgVdCCublSMD"
      }
    },
    {
      "cell_type": "code",
      "source": [
        "nombre = str(input('Escribe tu nombre: '))\n",
        "apellido = str(input('Escribe tu apellido: '))\n",
        "edad = int(input('Escribe tu edad: '))\n",
        "ciudad = str(input('Escribe tu ciudad: '))\n",
        "print(f'Su nombre es {nombre} {apellido}, tiene {edad} años y actualmente vive en {ciudad}.')"
      ],
      "metadata": {
        "id": "el4UtgBGlWdi"
      },
      "execution_count": null,
      "outputs": []
    }
  ]
}